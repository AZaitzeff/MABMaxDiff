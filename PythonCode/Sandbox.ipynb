{
 "cells": [
  {
   "cell_type": "code",
   "execution_count": 1,
   "metadata": {
    "collapsed": false
   },
   "outputs": [],
   "source": [
    "import numpy as np\n",
    "import pandas as pd\n",
    "import bayes_logistic as bl\n",
    "import time\n",
    "from sklearn.linear_model import LogisticRegression as lr\n",
    "import matplotlib.pyplot as plt"
   ]
  },
  {
   "cell_type": "code",
   "execution_count": 2,
   "metadata": {
    "collapsed": true
   },
   "outputs": [],
   "source": [
    "def fixedexpress(mean,cov,resp,design):\n",
    "    numitems=len(mean)\n",
    "    N=np.max(design)+1\n",
    "    items=np.random.choice([x for x in range(0,numitems)],N,False)\n",
    "    return items[design]"
   ]
  },
  {
   "cell_type": "code",
   "execution_count": 3,
   "metadata": {
    "collapsed": true
   },
   "outputs": [],
   "source": [
    "def fixedsparse(mean,cov,resp,design):\n",
    "    numitems=len(mean)\n",
    "    if resp==1:\n",
    "        order=[]\n",
    "        for i in range(775):\n",
    "            val=[x for x in range(numitems)]\n",
    "            np.random.shuffle(val)\n",
    "            order+=val\n",
    "        np.save('fixed'+str(numitems)+'.npy',order)\n",
    "    else:\n",
    "        order=np.load('fixed'+str(numitems)+'.npy')\n",
    "    N=design.size\n",
    "    items=order[resp*N:(resp+1)*N]\n",
    "    return np.reshape(items,design.shape)"
   ]
  },
  {
   "cell_type": "code",
   "execution_count": 4,
   "metadata": {
    "collapsed": true
   },
   "outputs": [],
   "source": [
    "#results=pd.DataFrame"
   ]
  },
  {
   "cell_type": "code",
   "execution_count": 5,
   "metadata": {
    "collapsed": false
   },
   "outputs": [],
   "source": [
    "#results.columns=[\"RespIDNum\",\"QNum\",\"Choice1\",\"Choice2\",\"Choice3\",\"Choice4\",\"Choice5\",\n",
    "#                 \"Best\",\"Worst\",\"BestInd\",\"WorstInd\"]"
   ]
  },
  {
   "cell_type": "code",
   "execution_count": 4,
   "metadata": {
    "collapsed": false
   },
   "outputs": [],
   "source": [
    "def simulation(nrespondents,samplescheme,batchsize,itemfile,designfile,seed=0):\n",
    "    if seed>0:\n",
    "        np.random.seed(seed)#for reproducibility\n",
    "    data=pd.read_csv(itemfile)#\n",
    "    MDDesign =pd.read_csv(designfile)#get the files\n",
    "    utilsall=data.get_values()[:,2:]#utils of bots\n",
    "    [numreal,nitems]=utilsall.shape#\n",
    "    design=MDDesign.get_values()[:,2:]#changes to a numpy array\n",
    "    numver=max(MDDesign['Version'])#number of versions\n",
    "    qperset=max(MDDesign['Set'])#questions per set\n",
    "    itemsperq=design.shape[1]#items per questions\n",
    "    itemsperset=np.max(design)#items per set\n",
    "    people=np.random.choice([x for x in range(0,numreal)],nrespondents)#choice the bots\n",
    "    cov=np.eye(nitems)\n",
    "    totalrows=qperset*itemsperq#rows\n",
    "    nb=np.zeros(nitems)\n",
    "    nw=np.zeros(nitems)\n",
    "    allquestions=np.zeros((nrespondents*qperset,itemsperq),dtype=np.int)\n",
    "    allbest=np.zeros(nrespondents*qperset,dtype=np.int)\n",
    "    allworst=np.zeros(nrespondents*qperset,dtype=np.int)\n",
    "    X=np.zeros((nrespondents*qperset,nitems))\n",
    "    w=np.zeros(nitems)\n",
    "    numrows=nrespondents//batchsize\n",
    "    betas=np.zeros((numrows,nitems))\n",
    "    for iternum in range(0,nrespondents):\n",
    "        util=utilsall[people[iternum],:]\n",
    "        vernum=iternum%numver\n",
    "        respdesign=design[qperset*vernum:(qperset)*(vernum+1)]-1\n",
    "        questions=samplescheme(w,cov,iternum,respdesign)#gets items\n",
    "        bestitems,worstitems=fillsurvey(questions,util)\n",
    "        for i,bitem in enumerate(bestitems):\n",
    "            nb[bitem]+=1\n",
    "            allbest[iternum*qperset+i]=bitem\n",
    "        for i,witem in enumerate(worstitems):\n",
    "            nw[witem]+=1\n",
    "            allworst[iternum*qperset+i]=witem\n",
    "        allquestions[iternum*qperset:(iternum+1)*qperset]=questions\n",
    "        for i,oneq in enumerate(questions):\n",
    "            X[iternum*qperset+i,oneq]=1\n",
    "        if iternum%batchsize==(batchsize-1):\n",
    "            #return X[:(iternum+1)*qperset]\n",
    "            w,cov=estimateparams(X[:(iternum+1)*qperset],\n",
    "                             allquestions[:(iternum+1)*qperset],nb,nw,w)\n",
    "            betas[(iternum+1)//(batchsize)-1]=w\n",
    "    return X,allquestions,allbest,allworst\n",
    "    return betas,allquestions,allbest,allworst,people"
   ]
  },
  {
   "cell_type": "code",
   "execution_count": 5,
   "metadata": {
    "collapsed": false
   },
   "outputs": [],
   "source": [
    "def fillsurvey(questions,util):\n",
    "    qperset,itemsperq=questions.shape\n",
    "    noiseb= -np.log(-np.log(np.random.rand(qperset,itemsperq)))\n",
    "    noisew=  np.log(-np.log(np.random.rand(qperset,itemsperq)))\n",
    "    combutilb=util[questions]+noiseb\n",
    "    combutilw=util[questions]+noisew\n",
    "    #indexb=np.argmax(combutilb,1)\n",
    "    #indexw=np.argmin(combutilw,1)\n",
    "    best=questions[range(qperset),np.argmax(combutilb,1)]\n",
    "    worst=questions[range(qperset),np.argmin(combutilw,1)]\n",
    "    return best,worst"
   ]
  },
  {
   "cell_type": "code",
   "execution_count": 6,
   "metadata": {
    "collapsed": true
   },
   "outputs": [],
   "source": [
    "def updatedata(questions,indexb,indexw,totalrows,nitems):\n",
    "    qperset,itemsperq=questions.shape\n",
    "    indexofq=questions.flatten()\n",
    "    Xb=np.zeros((totalrows,nitems))\n",
    "    Xb[range(0,len(indexofq)),indexofq]=1\n",
    "    #Xb[indexofq==(nitems-1)]=1\n",
    "    X=np.zeros((totalrows*2,nitems))\n",
    "    best=[x for x in range(0,totalrows*2) if x//itemsperq%2 == 0]\n",
    "    worst=[x for x in range(0,totalrows*2) if x//itemsperq%2 == 1]\n",
    "    X[best]=Xb[:,:]\n",
    "    X[worst]=-Xb[:,:]\n",
    "    yb=np.zeros(totalrows)\n",
    "    yw=np.zeros(totalrows)\n",
    "    stride=np.array([x for x in range(0,totalrows,5)])\n",
    "    yb[stride+indexb]=1\n",
    "    yw[stride+indexw]=1\n",
    "    y=np.zeros(totalrows*2)\n",
    "    y[best]=yb\n",
    "    y[worst]=yw\n",
    "    return X,y"
   ]
  },
  {
   "cell_type": "code",
   "execution_count": 7,
   "metadata": {
    "collapsed": true
   },
   "outputs": [],
   "source": [
    "def estimateparams(X,questions,nb,nw,w0=[],tol=.0001,maxiter=100):\n",
    "    tol=.001\n",
    "    val=1\n",
    "    [numofq,nitems]=X.shape\n",
    "    if len(w0)<nitems:\n",
    "        w=np.zeros(nitems)    \n",
    "    else:\n",
    "        w=w0.copy()\n",
    "    iternum=0\n",
    "    try:\n",
    "        while val>tol and iternum<maxiter:\n",
    "            zb=np.sum(np.exp(w[questions]),1)\n",
    "            zw=np.sum(np.exp(-w[questions]),1)\n",
    "            Pb=((1/zb*X.T).T*np.exp(w))#broadcasting\n",
    "            Pw=((1/zw*X.T).T*np.exp(-w))#broadcasting\n",
    "            gradb=nb-np.sum(Pb,0)\n",
    "            gradw=-nw+np.sum(Pw,0)\n",
    "            grad=-(gradb+gradw)\n",
    "            Hb=np.dot(Pb.T,Pb)\n",
    "            Hbd=-np.sum(Pb*(1-Pb),0)\n",
    "            Hb+=-np.diag(np.diag(Hb))+np.diag(Hbd)\n",
    "            Hw=np.dot(Pw.T,Pw)\n",
    "            Hwd=-np.sum(Pw*(1-Pw),0)\n",
    "            Hw+=-np.diag(np.diag(Hw))+np.diag(Hwd)\n",
    "            H=-(Hb+Hw)\n",
    "            gradl=grad[:-1]\n",
    "            Hl=H[:-1,:-1]\n",
    "            w[:-1]=w[:-1]-np.linalg.solve(Hl,gradl)\n",
    "            val=np.dot(gradl,np.linalg.solve(Hl,gradl))\n",
    "            iternum+=1\n",
    "    except np.linalg.linalg.LinAlgError:\n",
    "        return w,np.eye(nitems-1)\n",
    "    return w,np.linalg.inv(Hl)"
   ]
  },
  {
   "cell_type": "code",
   "execution_count": 8,
   "metadata": {
    "collapsed": true
   },
   "outputs": [],
   "source": [
    "def negLogLik(w,questions,best,worst):\n",
    "    return -(np.sum(np.log(1/np.sum(np.exp(w[questions]),1)*np.exp(w[best])))+\n",
    "             np.sum(np.log(1/np.sum(np.exp(-w[questions]),1)*np.exp(-w[worst]))))\n",
    "\n",
    "    "
   ]
  },
  {
   "cell_type": "code",
   "execution_count": 9,
   "metadata": {
    "collapsed": false
   },
   "outputs": [],
   "source": [
    "def run100trials(samplescheme,filename):\n",
    "    n=100\n",
    "    numresp=1000\n",
    "    nofqsbot=12\n",
    "    choicedata=np.zeros((n*numresp*nofqsbot,11),dtype=np.int)\n",
    "    nitems=120\n",
    "    batchsize=20\n",
    "    numrows=numresp//batchsize\n",
    "    allbetas=np.zeros((numrows*n,nitems+2))\n",
    "    for i in range(n):\n",
    "        betas,allquestions,allbest,allworst,people=simulation(\n",
    "            numresp,fixedsparse,batchsize,'HB_120items.csv','20itemMD_MD20_Design.csv',0)\n",
    "        rowstart=i*numresp*nofqsbot\n",
    "        rowend=(i+1)*numresp*nofqsbot\n",
    "        choicedata[rowstart:rowend,0]=i+1\n",
    "        for j,person in enumerate(people):\n",
    "            choicedata[rowstart+j*nofqsbot:rowstart+(j+1)*nofqsbot,1]=person\n",
    "            choicedata[rowstart+j*nofqsbot:rowstart+(j+1)*nofqsbot,2]=j\n",
    "            choicedata[rowstart+j*nofqsbot:rowstart+(j+1)*nofqsbot,3]=[x for x in range(1,nofqsbot+1)]\n",
    "        choicedata[rowstart:rowend,4:9]=allquestions+1\n",
    "        choicedata[rowstart:rowend,9]=allbest+1\n",
    "        choicedata[rowstart:rowend,10]=allworst+1\n",
    "        allbetas[i*numrows:(i+1)*numrows,0]=i+1\n",
    "        allbetas[i*numrows:(i+1)*numrows,1]=[x for x in range(20,numrows*20+20,20)]\n",
    "        allbetas[i*numrows:(i+1)*numrows,2:]=betas\n",
    "    choicedata_df=pd.DataFrame(choicedata)\n",
    "    choicedata_df.columns=[\"Iter\",\"original_ids\",\"RespIDNum\",\"QNum\",\n",
    "                           \"Choice1\",\"Choice2\",\"Choice3\",\"Choice4\",\"Choice5\",\n",
    "                           \"Best\",\"Worst\"]\n",
    "    allbetas_df=pd.DataFrame(allbetas)\n",
    "    colname=[\"Iter\",\"RespNum\"]\n",
    "    for i in range(nitems):\n",
    "        colname+=[\"Item_\"+str(i+1)]\n",
    "    allbetas_df.columns=colname\n",
    "    choicedata_df.to_csv(\"Results/choice_data-\"+filename)\n",
    "    allbetas_df.to_csv(\"Results/bhist-\"+filename)"
   ]
  },
  {
   "cell_type": "code",
   "execution_count": 47,
   "metadata": {
    "collapsed": false
   },
   "outputs": [],
   "source": [
    "#filename=\"fixed_express-120v20.csv\"\n",
    "run100trials(fixedexpress,filename)"
   ]
  },
  {
   "cell_type": "code",
   "execution_count": 48,
   "metadata": {
    "collapsed": false
   },
   "outputs": [],
   "source": []
  },
  {
   "cell_type": "code",
   "execution_count": 27,
   "metadata": {
    "collapsed": false
   },
   "outputs": [],
   "source": [
    "filename=\"fixed_sparse-120v30.csv\"\n",
    "run100trials(fixedsparse,filename)"
   ]
  },
  {
   "cell_type": "code",
   "execution_count": 29,
   "metadata": {
    "collapsed": true
   },
   "outputs": [],
   "source": [
    "filename=\"fixed_sparse-120v20.csv\"\n",
    "run100trials(fixedsparse,filename)"
   ]
  },
  {
   "cell_type": "code",
   "execution_count": 224,
   "metadata": {
    "collapsed": false
   },
   "outputs": [
    {
     "data": {
      "text/plain": [
       "5.5555555555555924e-05"
      ]
     },
     "execution_count": 224,
     "metadata": {},
     "output_type": "execute_result"
    }
   ],
   "source": [
    "np.mean(np.random.dirichlet(np.ones(18*1000)))"
   ]
  },
  {
   "cell_type": "code",
   "execution_count": 18,
   "metadata": {
    "collapsed": false
   },
   "outputs": [
    {
     "ename": "ValueError",
     "evalue": "need more than 4 values to unpack",
     "output_type": "error",
     "traceback": [
      "\u001b[0;31m---------------------------------------------------------------------------\u001b[0m",
      "\u001b[0;31mValueError\u001b[0m                                Traceback (most recent call last)",
      "\u001b[0;32m<ipython-input-18-f428fba87241>\u001b[0m in \u001b[0;36m<module>\u001b[0;34m()\u001b[0m\n\u001b[1;32m      1\u001b[0m \u001b[0mt\u001b[0m\u001b[0;34m=\u001b[0m\u001b[0mtime\u001b[0m\u001b[0;34m.\u001b[0m\u001b[0mtime\u001b[0m\u001b[0;34m(\u001b[0m\u001b[0;34m)\u001b[0m\u001b[0;34m\u001b[0m\u001b[0m\n\u001b[0;32m----> 2\u001b[0;31m \u001b[0mbetas\u001b[0m\u001b[0;34m,\u001b[0m\u001b[0mallquestions\u001b[0m\u001b[0;34m,\u001b[0m\u001b[0mallbest\u001b[0m\u001b[0;34m,\u001b[0m\u001b[0mallworst\u001b[0m\u001b[0;34m,\u001b[0m\u001b[0mpeople\u001b[0m\u001b[0;34m=\u001b[0m\u001b[0msimulation\u001b[0m\u001b[0;34m(\u001b[0m\u001b[0;36m1000\u001b[0m\u001b[0;34m,\u001b[0m\u001b[0mfixedexpress\u001b[0m\u001b[0;34m,\u001b[0m\u001b[0;36m20\u001b[0m\u001b[0;34m,\u001b[0m\u001b[0;34m'HB_120items.csv'\u001b[0m\u001b[0;34m,\u001b[0m\u001b[0;34m'30itemMD_MD30_Design.csv'\u001b[0m\u001b[0;34m,\u001b[0m\u001b[0;36m10\u001b[0m\u001b[0;34m)\u001b[0m\u001b[0;34m\u001b[0m\u001b[0m\n\u001b[0m\u001b[1;32m      3\u001b[0m \u001b[0mtime\u001b[0m\u001b[0;34m.\u001b[0m\u001b[0mtime\u001b[0m\u001b[0;34m(\u001b[0m\u001b[0;34m)\u001b[0m\u001b[0;34m-\u001b[0m\u001b[0mt\u001b[0m\u001b[0;34m\u001b[0m\u001b[0m\n",
      "\u001b[0;31mValueError\u001b[0m: need more than 4 values to unpack"
     ]
    }
   ],
   "source": [
    "t=time.time()\n",
    "betas,allquestions,allbest,allworst,people=simulation(1000,fixedexpress,20,'HB_120items.csv','30itemMD_MD30_Design.csv',10)\n",
    "time.time()-t"
   ]
  },
  {
   "cell_type": "code",
   "execution_count": 36,
   "metadata": {
    "collapsed": false
   },
   "outputs": [
    {
     "data": {
      "text/plain": [
       "array([-0.20859403, -1.88179221, -0.80093614,  0.31997618,  0.48053349,\n",
       "        0.5843839 , -0.07022752, -1.12089193,  0.23116713,  0.34531458,\n",
       "        0.49603144, -0.39426293, -1.08377876, -0.45156412,  0.62991068,\n",
       "        0.31716553,  0.63055001,  0.56938473, -0.57483069,  0.25082672,\n",
       "        0.61987033, -0.13226487,  0.27372134,  0.33642631, -2.64641515,\n",
       "       -0.3306664 , -0.20300979, -0.17841469, -0.11343263,  0.12059032,\n",
       "       -0.09477682,  0.29002589,  0.55104746, -0.46624373, -2.32734791,\n",
       "        0.05230717,  0.98823041, -0.35586035, -0.2833065 , -0.11835683,\n",
       "        0.14366094,  0.05625812,  0.86370855,  0.56748716, -0.43489025,\n",
       "        0.313019  , -0.69366764, -0.6873674 ,  1.25400446, -0.49961911,\n",
       "        0.63528861, -1.49625693, -0.34811686,  0.85654422,  1.1343112 ,\n",
       "       -0.45287853,  0.27504613,  0.53302838,  0.21096076,  0.69053469,\n",
       "        0.04673277, -0.35263293,  1.25980274,  0.00743529, -0.69786084,\n",
       "       -1.27126124,  0.08766714, -0.49198188, -0.89974532, -0.27150899,\n",
       "        0.79752644,  1.06546027,  1.37665823,  0.19929649, -0.0956318 ,\n",
       "        0.8916623 ,  0.70874067,  0.38834813, -0.65554679, -0.16364417,\n",
       "        0.51927942, -0.87625923,  0.25556074,  0.26720819,  0.30861509,\n",
       "       -1.55909884, -2.13025504, -0.22016776,  0.40605002,  0.12456602,\n",
       "       -0.16886707,  0.37278954, -1.87187798,  0.26400486, -0.74477617,\n",
       "        0.25594735, -0.44383475, -1.85118292, -0.40579047, -0.63442036,\n",
       "       -0.4840151 , -1.11354283, -1.32843754,  0.41857445,  1.13972448,\n",
       "        1.30468066,  0.38931301, -0.44382415, -0.5547547 ,  0.1855921 ,\n",
       "        0.58443986,  0.22996071,  1.28472337,  0.4014238 ,  0.88306585,\n",
       "       -0.11354126, -1.53210752, -0.93404927, -0.35388283,  0.        ])"
      ]
     },
     "execution_count": 36,
     "metadata": {},
     "output_type": "execute_result"
    }
   ],
   "source": [
    "(np.random.rand()<.1)"
   ]
  },
  {
   "cell_type": "code",
   "execution_count": 10,
   "metadata": {
    "collapsed": false
   },
   "outputs": [
    {
     "data": {
      "text/plain": [
       "0.8102290630340576"
      ]
     },
     "execution_count": 10,
     "metadata": {},
     "output_type": "execute_result"
    }
   ],
   "source": [
    "t=time.time()\n",
    "X,allquestions,allbest,allworst=simulation(500,,500,'HB_120items.csv','30itemMD_MD30_Design.csv',0)\n",
    "time.time()-t"
   ]
  },
  {
   "cell_type": "code",
   "execution_count": 14,
   "metadata": {
    "collapsed": true
   },
   "outputs": [],
   "source": [
    "[numofq,nitems]=X.shape"
   ]
  },
  {
   "cell_type": "code",
   "execution_count": 16,
   "metadata": {
    "collapsed": false
   },
   "outputs": [],
   "source": [
    "subsamp=int(numofq*.25)\n",
    "sub=np.random.choice([x for x in range(0,numofq)],subsamp)\n",
    "tempX=X[sub]\n",
    "tempb=allbest[sub]\n",
    "tempw=allworst[sub]\n",
    "tempq=allquestions[sub]"
   ]
  },
  {
   "cell_type": "code",
   "execution_count": 17,
   "metadata": {
    "collapsed": false
   },
   "outputs": [
    {
     "data": {
      "text/plain": [
       "array([7379, 6663, 1683, ..., 1717,  220,   24])"
      ]
     },
     "execution_count": 17,
     "metadata": {},
     "output_type": "execute_result"
    }
   ],
   "source": [
    "sub"
   ]
  },
  {
   "cell_type": "code",
   "execution_count": 25,
   "metadata": {
    "collapsed": false
   },
   "outputs": [
    {
     "data": {
      "text/plain": [
       "105"
      ]
     },
     "execution_count": 25,
     "metadata": {},
     "output_type": "execute_result"
    }
   ],
   "source": [
    "tempw[0]"
   ]
  },
  {
   "cell_type": "code",
   "execution_count": 26,
   "metadata": {
    "collapsed": false
   },
   "outputs": [
    {
     "data": {
      "text/plain": [
       "105"
      ]
     },
     "execution_count": 26,
     "metadata": {},
     "output_type": "execute_result"
    }
   ],
   "source": [
    "allworst[7379]"
   ]
  },
  {
   "cell_type": "code",
   "execution_count": 14,
   "metadata": {
    "collapsed": false
   },
   "outputs": [
    {
     "data": {
      "text/plain": [
       "0.010955095291137695"
      ]
     },
     "execution_count": 14,
     "metadata": {},
     "output_type": "execute_result"
    }
   ],
   "source": [
    "t=time.time()\n",
    "[numofq,nitems]=X.shape\n",
    "Xb=np.zeros((numofq,nitems))\n",
    "Xb[range(numofq),allbest]=1\n",
    "nb=np.sum(Xb,0)\n",
    "Xw=np.zeros((numofq,nitems))\n",
    "Xw[range(numofq),allworst]=1\n",
    "nw=np.sum(Xw,0)\n",
    "time.time()-t"
   ]
  },
  {
   "cell_type": "code",
   "execution_count": 22,
   "metadata": {
    "collapsed": false
   },
   "outputs": [
    {
     "data": {
      "text/plain": [
       "array([375, 375, 375, 375, 375, 375, 375, 375, 375, 375, 375, 375, 375,\n",
       "       375, 375, 375, 375, 375, 375, 375, 375, 375, 375, 375, 375, 375,\n",
       "       375, 375, 375, 375, 375, 375, 375, 375, 375, 375, 375, 375, 375,\n",
       "       375, 375, 375, 375, 375, 375, 375, 375, 375, 375, 375, 375, 375,\n",
       "       375, 375, 375, 375, 375, 375, 375, 375, 375, 375, 375, 375, 375,\n",
       "       375, 375, 375, 375, 375, 375, 375, 375, 375, 375, 375, 375, 375,\n",
       "       375, 375, 375, 375, 375, 375, 375, 375, 375, 375, 375, 375, 375,\n",
       "       375, 375, 375, 375, 375, 375, 375, 375, 375, 375, 375, 375, 375,\n",
       "       375, 375, 375, 375, 375, 375, 375, 375, 375, 375, 375, 375, 375,\n",
       "       375, 375, 375])"
      ]
     },
     "execution_count": 22,
     "metadata": {},
     "output_type": "execute_result"
    }
   ],
   "source": [
    "np.bincount(allquestions.flatten())"
   ]
  },
  {
   "cell_type": "code",
   "execution_count": 19,
   "metadata": {
    "collapsed": false
   },
   "outputs": [
    {
     "data": {
      "text/plain": [
       "0.00047206878662109375"
      ]
     },
     "execution_count": 19,
     "metadata": {},
     "output_type": "execute_result"
    }
   ],
   "source": [
    "t=time.time()\n",
    "nb=np.bincount(allbest)\n",
    "nw=np.bincount(allworst)\n",
    "time.time()-t"
   ]
  },
  {
   "cell_type": "code",
   "execution_count": 17,
   "metadata": {
    "collapsed": false
   },
   "outputs": [
    {
     "data": {
      "text/plain": [
       "True"
      ]
     },
     "execution_count": 17,
     "metadata": {},
     "output_type": "execute_result"
    }
   ],
   "source": [
    "np.allclose(nw,nw2)"
   ]
  },
  {
   "cell_type": "code",
   "execution_count": 39,
   "metadata": {
    "collapsed": false
   },
   "outputs": [
    {
     "data": {
      "text/plain": [
       "1.0672240257263184"
      ]
     },
     "execution_count": 39,
     "metadata": {},
     "output_type": "execute_result"
    }
   ],
   "source": [
    "t=time.time()\n",
    "beta,cov=estimateparams(X,allquestions,nb,nw)\n",
    "time.time()-t"
   ]
  },
  {
   "cell_type": "code",
   "execution_count": 80,
   "metadata": {
    "collapsed": false
   },
   "outputs": [],
   "source": [
    "def bayesBootstrap(X,questions,allbest,allworst,numdraws=1):\n",
    "    [numofq,nitems]=X.shape\n",
    "    draws=np.zeros((numdraws,nitems))\n",
    "    [numofq,nitems]=X.shape\n",
    "    Xb=np.zeros((numofq,nitems))\n",
    "    Xb[range(numofq),allbest]=1\n",
    "    Xw=np.zeros((numofq,nitems))\n",
    "    Xw[range(numofq),allworst]=1\n",
    "    #w=estimateparamsbayes(X,questions,Xb,Xw,w0=[],weights=np.ones(numofq))\n",
    "    for i in range(numdraws):\n",
    "        #weights=np.random.dirichlet(np.ones(numofq))*numofq\n",
    "        weights=np.random.exponential(1,numofq)\n",
    "        draws[i]=estimateparamsbayes(X,questions,Xb,Xw,w0=[],weights=weights)\n",
    "    return draws"
   ]
  },
  {
   "cell_type": "code",
   "execution_count": 81,
   "metadata": {
    "collapsed": true
   },
   "outputs": [],
   "source": [
    "def estimateparamsbayes(X,questions,Xb,Xw,w0=[],weights=[],tol=.0001,maxiter=100):\n",
    "    tol=.001\n",
    "    val=1\n",
    "    [numofq,nitems]=X.shape\n",
    "    if len(w0)<nitems:\n",
    "        w=np.zeros(nitems)    \n",
    "    else:\n",
    "        w=w0.copy()\n",
    "    if len(weights)<numofq:\n",
    "        weights=np.ones(numofq)\n",
    "    iternum=0\n",
    "    nb=np.sum(Xb.T*weights,1)\n",
    "    nw=np.sum(Xw.T*weights,1)\n",
    "    try:\n",
    "        while val>tol and iternum<maxiter:\n",
    "            if iternum:\n",
    "                w[:-1]=w[:-1]-Hinvgradl\n",
    "            zb=np.sum(np.exp(w[questions]),1)\n",
    "            zw=np.sum(np.exp(-w[questions]),1)\n",
    "            Pb=((1/zb*X.T).T*np.exp(w))#broadcasting\n",
    "            Pw=((1/zw*X.T).T*np.exp(-w))#broadcasting\n",
    "            gradb=nb-np.sum((Pb.T*weights).T,0)\n",
    "            gradw=-nw+np.sum((Pw.T*weights).T,0)\n",
    "            grad=-(gradb+gradw)\n",
    "            Hb=np.dot(weights*Pb.T,Pb)\n",
    "            Hbd=-np.sum((Pb.T*weights).T*(1-Pb),0)\n",
    "            Hb+=-np.diag(np.diag(Hb))+np.diag(Hbd)\n",
    "            Hw=np.dot(weights*Pw.T,Pw)\n",
    "            Hwd=-np.sum((Pw.T*weights).T*(1-Pw),0)\n",
    "            Hw+=-np.diag(np.diag(Hw))+np.diag(Hwd)\n",
    "            H=-(Hb+Hw)\n",
    "            gradl=grad[:-1]\n",
    "            Hl=H[:-1,:-1]\n",
    "            Hinvgradl=np.linalg.solve(Hl,gradl)\n",
    "            val=np.dot(gradl,Hinvgradl)\n",
    "            iternum+=1\n",
    "    except np.linalg.linalg.LinAlgError:\n",
    "        return w\n",
    "    return w"
   ]
  },
  {
   "cell_type": "code",
   "execution_count": 75,
   "metadata": {
    "collapsed": true
   },
   "outputs": [],
   "source": [
    "def negLogLikBayes(w,questions,best,worst,weights):\n",
    "    return -(np.sum(weights*np.log(1/np.sum(np.exp(w[questions]),1)*np.exp(w[best])))+\n",
    "             np.sum(weights*np.log(1/np.sum(np.exp(-w[questions]),1)*np.exp(-w[worst]))))"
   ]
  },
  {
   "cell_type": "code",
   "execution_count": 82,
   "metadata": {
    "collapsed": false
   },
   "outputs": [
    {
     "data": {
      "text/plain": [
       "29.676923036575317"
      ]
     },
     "execution_count": 82,
     "metadata": {},
     "output_type": "execute_result"
    }
   ],
   "source": [
    "t=time.time()\n",
    "np.random.seed(105)\n",
    "drawbeta4=bayesBootstrap(X,allquestions,allbest,allworst,100)\n",
    "time.time()-t"
   ]
  },
  {
   "cell_type": "code",
   "execution_count": 92,
   "metadata": {
    "collapsed": false
   },
   "outputs": [],
   "source": [
    "i=45\n",
    "plt.hist(drawbeta[:,i],bins=50,alpha=.5)\n",
    "plt.hist(drawbeta2[:,i],bins=50,alpha=.5)\n",
    "plt.hist(drawbeta4[:,i],bins=50,alpha=.5)\n",
    "plt.show()"
   ]
  },
  {
   "cell_type": "code",
   "execution_count": 88,
   "metadata": {
    "collapsed": false
   },
   "outputs": [
    {
     "data": {
      "text/plain": [
       "array([ 2.9009285 ,  2.84153861,  3.1380559 ,  3.0936153 ,  2.61088036,\n",
       "        2.85467994,  2.3000842 ,  3.30411487,  3.78943652,  2.21121796,\n",
       "        2.28610091,  2.75855298,  2.50640793,  3.22157588,  2.60994759,\n",
       "        2.11109416,  2.63475893,  3.04220898,  2.78382252,  3.01697189,\n",
       "        2.30876494,  2.89301505,  3.20217522,  3.19137359,  3.3933343 ,\n",
       "        2.2495875 ,  2.97405055,  2.76121995,  2.84167685,  2.55096602,\n",
       "        3.42533864,  2.18191481,  3.01361518,  1.91343535,  3.27194031,\n",
       "        2.47878249,  2.62852595,  2.57245712,  2.82926515,  2.8761957 ,\n",
       "        2.70638723,  2.67446146,  2.98778703,  2.74500853,  2.28656352,\n",
       "        4.22547377,  2.58524419,  2.62009297,  2.72368692,  3.52838103,\n",
       "        2.61673584,  2.6714492 ,  2.67954869,  2.56232461,  3.02061072,\n",
       "        3.89361569,  2.20762918,  3.34041182,  3.2618624 ,  2.69611343,\n",
       "        3.54647674,  2.58490112,  2.37046438,  2.84531339,  2.65682763,\n",
       "        2.67924638,  3.4504129 ,  3.79846199,  3.21405546,  2.68288965,\n",
       "        2.86411747,  3.46168989,  2.57547505,  2.52580582,  2.44060662,\n",
       "        2.81535496,  2.96798282,  3.54139482,  3.01774228,  2.95231778,\n",
       "        3.2886264 ,  3.36747704,  2.22731512,  2.86223143,  2.71684092,\n",
       "        2.80259151,  2.70012828,  2.9826591 ,  3.31886316,  3.37474436,\n",
       "        2.28714935,  2.76196391,  3.35641548,  3.33051078,  2.72187247,\n",
       "        3.72210863,  3.1188114 ,  3.21211109,  2.75690859,  3.22545042,\n",
       "        2.66571281,  3.11855421,  3.46754224,  3.91806151,  2.24756403,\n",
       "        3.5033964 ,  2.3722792 ,  3.49162054,  3.67590323,  3.25316238,\n",
       "        2.14504152,  2.49899267,  2.36994476,  2.95710045,  2.70866725,\n",
       "        2.77245708,  2.33278177,  2.63158008,  2.94324839,         nan])"
      ]
     },
     "execution_count": 88,
     "metadata": {},
     "output_type": "execute_result"
    }
   ],
   "source": [
    "np.diag(np.cov(drawbeta2.T))/np.diag(np.cov(drawbeta.T))"
   ]
  },
  {
   "cell_type": "code",
   "execution_count": 89,
   "metadata": {
    "collapsed": false
   },
   "outputs": [
    {
     "data": {
      "text/plain": [
       "array([  5.85073242,   6.28979981,   8.37848945,   6.94537905,\n",
       "         6.69320806,   7.40219626,   5.98958618,   7.55817933,\n",
       "         9.2963098 ,   6.07660179,   5.45320779,   6.85655985,\n",
       "         6.86785658,   9.31825502,   5.61419323,   5.98068716,\n",
       "         7.08891879,   9.64383145,   5.80677878,   6.07211501,\n",
       "         6.38441641,   6.69287194,   6.53965536,   7.96718863,\n",
       "         6.94713751,   5.58309705,   8.18930153,   7.22165648,\n",
       "         7.55756398,   5.96362238,   7.11650367,   7.03924644,\n",
       "         8.55570374,   6.11449029,   7.94622896,   5.89135341,\n",
       "         7.23293622,   5.72249078,   6.93405524,   7.16361648,\n",
       "         6.32173252,   6.20297284,   7.31766969,   6.74662599,\n",
       "         6.52774444,   9.62223498,   7.24110259,   6.79587048,\n",
       "         5.99077464,   7.8807248 ,   7.71951437,   6.64806379,\n",
       "         5.9993897 ,   6.79444098,   7.77482327,   9.5955848 ,\n",
       "         5.63003652,   7.74358155,   8.07540254,   7.80100813,\n",
       "         7.47171474,   6.24739092,   5.5030783 ,   7.67885439,\n",
       "         5.98645929,   6.5003338 ,   7.84136693,   8.04720233,\n",
       "         8.03601293,   5.9317986 ,   6.36580489,   7.17416088,\n",
       "         6.78655391,   6.41356346,   7.75121479,   7.03207601,\n",
       "         6.99730721,   9.41156484,   7.54931398,   7.08453459,\n",
       "         8.51366186,   9.93056125,   7.84700356,   7.41388096,\n",
       "         7.54105078,   5.55035768,   8.31389036,   7.13937358,\n",
       "         7.35094168,   8.13982299,   5.99422522,   6.58595486,\n",
       "         7.0909165 ,   8.24512018,   7.08893865,   9.71978255,\n",
       "         5.17422985,   6.46633232,   7.17364001,   6.69111054,\n",
       "         5.66758814,   7.7003458 ,   8.25191553,  10.00207073,\n",
       "         6.77743333,   7.98634201,   7.31841887,   7.88712822,\n",
       "         8.92094094,   8.69104592,   5.34671548,   5.94546068,\n",
       "         4.57205081,   6.48383247,   7.18243812,   6.47906362,\n",
       "         6.22146147,   6.86210225,   7.35391556,          nan])"
      ]
     },
     "execution_count": 89,
     "metadata": {},
     "output_type": "execute_result"
    }
   ],
   "source": [
    "np.diag(np.cov(drawbeta4.T))/np.diag(np.cov(drawbeta.T))"
   ]
  },
  {
   "cell_type": "code",
   "execution_count": 86,
   "metadata": {
    "collapsed": false
   },
   "outputs": [
    {
     "data": {
      "text/plain": [
       "array([ 0.14330843,  0.17552696,  0.18539527,  0.16417409,  0.14232249,\n",
       "        0.18569621,  0.14552542,  0.16385987,  0.23063395,  0.15891115,\n",
       "        0.14825714,  0.17773712,  0.17015696,  0.18198421,  0.14061992,\n",
       "        0.15977119,  0.17146158,  0.19157827,  0.12955605,  0.12843327,\n",
       "        0.15060367,  0.15890357,  0.16555681,  0.17785695,  0.18284256,\n",
       "        0.13282111,  0.17683296,  0.18681357,  0.16682857,  0.1332859 ,\n",
       "        0.15121658,  0.17223127,  0.17498468,  0.1486135 ,  0.18189858,\n",
       "        0.13860361,  0.16791912,  0.1546725 ,  0.14737932,  0.14579706,\n",
       "        0.16528384,  0.16117271,  0.17245879,  0.14448107,  0.15699122,\n",
       "        0.20021327,  0.19263609,  0.18969645,  0.14070885,  0.13783123,\n",
       "        0.17631595,  0.17619313,  0.15636607,  0.14298475,  0.1626591 ,\n",
       "        0.1831898 ,  0.1351011 ,  0.16199476,  0.17451772,  0.1921313 ,\n",
       "        0.17479646,  0.16271761,  0.16318134,  0.17549009,  0.16179619,\n",
       "        0.15764841,  0.13466458,  0.17337613,  0.224876  ,  0.18789566,\n",
       "        0.14285302,  0.18799451,  0.17548394,  0.13653832,  0.16806243,\n",
       "        0.14517438,  0.1774205 ,  0.16834213,  0.17438189,  0.17003055,\n",
       "        0.17509495,  0.20895066,  0.18900721,  0.19097975,  0.17579128,\n",
       "        0.13988639,  0.2163296 ,  0.17198707,  0.14226203,  0.1676577 ,\n",
       "        0.14031058,  0.14255986,  0.17934501,  0.15894239,  0.15966072,\n",
       "        0.2226591 ,  0.12842244,  0.14176786,  0.18215881,  0.13740552,\n",
       "        0.14395597,  0.16517381,  0.21607529,  0.1759907 ,  0.17662463,\n",
       "        0.2054549 ,  0.16984967,  0.19303942,  0.16186294,  0.19095714,\n",
       "        0.13136038,  0.16936481,  0.11792646,  0.15137631,  0.1792457 ,\n",
       "        0.13957081,  0.20670537,  0.15384449,  0.18286706,  0.        ])"
      ]
     },
     "execution_count": 86,
     "metadata": {},
     "output_type": "execute_result"
    }
   ],
   "source": []
  },
  {
   "cell_type": "code",
   "execution_count": 34,
   "metadata": {
    "collapsed": true
   },
   "outputs": [],
   "source": [
    "for i in [34,7,11,0,35,88,53,48]:\n",
    "    plt.hist(drawbeta[:,i],bins=50,alpha=.5)\n",
    "    plt.hist(dbeta[:,i],bins=50,alpha=.5)\n",
    "    plt.savefig('a100item'+str(i+1))\n",
    "    plt.close()"
   ]
  },
  {
   "cell_type": "code",
   "execution_count": 35,
   "metadata": {
    "collapsed": false
   },
   "outputs": [
    {
     "data": {
      "text/plain": [
       "0.03612085890769959"
      ]
     },
     "execution_count": 35,
     "metadata": {},
     "output_type": "execute_result"
    }
   ],
   "source": []
  },
  {
   "cell_type": "code",
   "execution_count": 164,
   "metadata": {
    "collapsed": false
   },
   "outputs": [],
   "source": [
    "w=estimateparamsbayes(X,allquestions,Xb,Xw,w0=[],weights=np.ones(numofq))"
   ]
  },
  {
   "cell_type": "code",
   "execution_count": 234,
   "metadata": {
    "collapsed": false
   },
   "outputs": [],
   "source": [
    "np.random.seed(1434)\n",
    "weights1=np.random.dirichlet(np.ones(numofq))\n",
    "np.random.seed(1434)\n",
    "weights2=np.random.exponential(1,numofq)"
   ]
  },
  {
   "cell_type": "code",
   "execution_count": 235,
   "metadata": {
    "collapsed": false
   },
   "outputs": [],
   "source": [
    "w1=estimateparamsbayes(X,allquestions,Xb,Xw,w0=w,weights=weights1)\n",
    "w2=estimateparamsbayes(X,allquestions,Xb,Xw,w0=w,weights=weights2)\n",
    "w4=estimateparamsbayes(X,allquestions,Xb,Xw,w0=[],weights=weights1)\n",
    "w5=estimateparamsbayes(X,allquestions,Xb,Xw,w0=[],weights=weights2)\n",
    "negLogLikBayes(w,allquestions,allbest,allworst,weights1*numofq)\n",
    "negLogLikBayes(w1,allquestions,allbest,allworst,weights1*numofq)\n",
    "negLogLikBayes(w2,allquestions,allbest,allworst,weights1*numofq)\n",
    "negLogLikBayes(w4,allquestions,allbest,allworst,weights1*numofq)\n",
    "negLogLikBayes(w5,allquestions,allbest,allworst,weights1*numofq)"
   ]
  },
  {
   "cell_type": "code",
   "execution_count": null,
   "metadata": {
    "collapsed": false
   },
   "outputs": [],
   "source": [
    "utilsall=data.get_values()[:,2:]"
   ]
  },
  {
   "cell_type": "code",
   "execution_count": 8,
   "metadata": {
    "collapsed": false
   },
   "outputs": [],
   "source": [
    "MDDesign =pd.read_csv('30itemMD_MD30_Design.csv')#get the files\n",
    "design=MDDesign.get_values()[:,2:]#changes to a numpy array\n",
    "numver=max(MDDesign['Version'])#number of versions\n",
    "qperset=max(MDDesign['Set'])"
   ]
  },
  {
   "cell_type": "code",
   "execution_count": 7,
   "metadata": {
    "collapsed": false
   },
   "outputs": [],
   "source": [
    "designm=MDDesign.get_values()"
   ]
  },
  {
   "cell_type": "code",
   "execution_count": 14,
   "metadata": {
    "collapsed": false
   },
   "outputs": [],
   "source": [
    "np.save('design',designm)"
   ]
  },
  {
   "cell_type": "code",
   "execution_count": 9,
   "metadata": {
    "collapsed": false
   },
   "outputs": [],
   "source": [
    "design1=designm[:,2:]\n",
    "numver1=max(designm[:,0])#number of versions\n",
    "qperset1=max(designm[:,1])"
   ]
  },
  {
   "cell_type": "code",
   "execution_count": 12,
   "metadata": {
    "collapsed": false
   },
   "outputs": [
    {
     "data": {
      "text/plain": [
       "True"
      ]
     },
     "execution_count": 12,
     "metadata": {},
     "output_type": "execute_result"
    }
   ],
   "source": [
    "np.allclose(design1,design)"
   ]
  },
  {
   "cell_type": "code",
   "execution_count": null,
   "metadata": {
    "collapsed": false
   },
   "outputs": [],
   "source": [
    "# exp 5.198677062988281\n",
    "#5.124932050704956"
   ]
  },
  {
   "cell_type": "code",
   "execution_count": 43,
   "metadata": {
    "collapsed": false
   },
   "outputs": [
    {
     "data": {
      "text/plain": [
       "0.04565596580505371"
      ]
     },
     "execution_count": 43,
     "metadata": {},
     "output_type": "execute_result"
    }
   ],
   "source": [
    "t=time.time()\n",
    "dbeta=np.zeros((1000,300))\n",
    "dbeta[:,:-1]=np.random.multivariate_normal(beta[:-1], cov,1000)\n",
    "time.time()-t"
   ]
  },
  {
   "cell_type": "code",
   "execution_count": 23,
   "metadata": {
    "collapsed": false
   },
   "outputs": [],
   "source": []
  },
  {
   "cell_type": "code",
   "execution_count": 24,
   "metadata": {
    "collapsed": false
   },
   "outputs": [
    {
     "data": {
      "text/plain": [
       "[108,\n",
       " 21,\n",
       " 46,\n",
       " 12,\n",
       " 3,\n",
       " 110,\n",
       " 23,\n",
       " 89,\n",
       " 67,\n",
       " 80,\n",
       " 28,\n",
       " 47,\n",
       " 72,\n",
       " 20,\n",
       " 94,\n",
       " 1,\n",
       " 79,\n",
       " 9,\n",
       " 0,\n",
       " 99,\n",
       " 93,\n",
       " 6,\n",
       " 61,\n",
       " 45,\n",
       " 29,\n",
       " 95,\n",
       " 118,\n",
       " 38,\n",
       " 92,\n",
       " 19,\n",
       " 76,\n",
       " 31,\n",
       " 106,\n",
       " 39,\n",
       " 85,\n",
       " 104,\n",
       " 40,\n",
       " 34,\n",
       " 52,\n",
       " 10,\n",
       " 24,\n",
       " 87,\n",
       " 4,\n",
       " 13,\n",
       " 66,\n",
       " 114,\n",
       " 73,\n",
       " 14,\n",
       " 120,\n",
       " 27,\n",
       " 25,\n",
       " 113,\n",
       " 115,\n",
       " 111,\n",
       " 64,\n",
       " 2,\n",
       " 119,\n",
       " 60,\n",
       " 88,\n",
       " 63,\n",
       " 97,\n",
       " 117,\n",
       " 82,\n",
       " 16,\n",
       " 49,\n",
       " 103,\n",
       " 96,\n",
       " 101,\n",
       " 17,\n",
       " 90,\n",
       " 7,\n",
       " 50,\n",
       " 78,\n",
       " 22,\n",
       " 109,\n",
       " 41,\n",
       " 32,\n",
       " 5,\n",
       " 15,\n",
       " 35,\n",
       " 30,\n",
       " 43,\n",
       " 55,\n",
       " 58,\n",
       " 42,\n",
       " 77,\n",
       " 91,\n",
       " 81,\n",
       " 54,\n",
       " 56,\n",
       " 33,\n",
       " 105,\n",
       " 8,\n",
       " 100,\n",
       " 75,\n",
       " 102,\n",
       " 62,\n",
       " 26,\n",
       " 59,\n",
       " 48,\n",
       " 65,\n",
       " 36,\n",
       " 69,\n",
       " 86,\n",
       " 98,\n",
       " 68,\n",
       " 84,\n",
       " 71,\n",
       " 116,\n",
       " 107,\n",
       " 51,\n",
       " 74,\n",
       " 112,\n",
       " 37,\n",
       " 70,\n",
       " 18,\n",
       " 53,\n",
       " 83,\n",
       " 57,\n",
       " 11,\n",
       " 44,\n",
       " 79,\n",
       " 22,\n",
       " 36,\n",
       " 78,\n",
       " 7,\n",
       " 106,\n",
       " 57,\n",
       " 118,\n",
       " 6,\n",
       " 55,\n",
       " 19,\n",
       " 34,\n",
       " 107,\n",
       " 46,\n",
       " 101,\n",
       " 96,\n",
       " 114,\n",
       " 40,\n",
       " 60,\n",
       " 62,\n",
       " 2,\n",
       " 63,\n",
       " 26,\n",
       " 110,\n",
       " 88,\n",
       " 64,\n",
       " 33,\n",
       " 12,\n",
       " 90,\n",
       " 10,\n",
       " 109,\n",
       " 61,\n",
       " 82,\n",
       " 102,\n",
       " 32,\n",
       " 108,\n",
       " 92,\n",
       " 67,\n",
       " 72,\n",
       " 18,\n",
       " 111,\n",
       " 84,\n",
       " 87,\n",
       " 120,\n",
       " 0,\n",
       " 73,\n",
       " 47,\n",
       " 116,\n",
       " 97,\n",
       " 4,\n",
       " 5,\n",
       " 27,\n",
       " 91,\n",
       " 13,\n",
       " 50,\n",
       " 113,\n",
       " 51,\n",
       " 31,\n",
       " 24,\n",
       " 49,\n",
       " 85,\n",
       " 94,\n",
       " 75,\n",
       " 105,\n",
       " 104,\n",
       " 112,\n",
       " 3,\n",
       " 83,\n",
       " 35,\n",
       " 59,\n",
       " 56,\n",
       " 44,\n",
       " 29,\n",
       " 17,\n",
       " 45,\n",
       " 81,\n",
       " 95,\n",
       " 99,\n",
       " 86,\n",
       " 76,\n",
       " 15,\n",
       " 37,\n",
       " 28,\n",
       " 70,\n",
       " 80,\n",
       " 11,\n",
       " 74,\n",
       " 66,\n",
       " 69,\n",
       " 53,\n",
       " 103,\n",
       " 30,\n",
       " 68,\n",
       " 41,\n",
       " 119,\n",
       " 25,\n",
       " 8,\n",
       " 77,\n",
       " 21,\n",
       " 58,\n",
       " 39,\n",
       " 38,\n",
       " 52,\n",
       " 54,\n",
       " 93,\n",
       " 20,\n",
       " 9,\n",
       " 100,\n",
       " 48,\n",
       " 117,\n",
       " 89,\n",
       " 14,\n",
       " 43,\n",
       " 16,\n",
       " 98,\n",
       " 42,\n",
       " 1,\n",
       " 65,\n",
       " 71,\n",
       " 115,\n",
       " 23,\n",
       " 95,\n",
       " 79,\n",
       " 34,\n",
       " 116,\n",
       " 97,\n",
       " 98,\n",
       " 3,\n",
       " 27,\n",
       " 68,\n",
       " 100,\n",
       " 31,\n",
       " 105,\n",
       " 119,\n",
       " 59,\n",
       " 43,\n",
       " 82,\n",
       " 21,\n",
       " 83,\n",
       " 57,\n",
       " 101,\n",
       " 11,\n",
       " 5,\n",
       " 120,\n",
       " 81,\n",
       " 36,\n",
       " 50,\n",
       " 87,\n",
       " 53,\n",
       " 17,\n",
       " 41,\n",
       " 37,\n",
       " 60,\n",
       " 8,\n",
       " 13,\n",
       " 72,\n",
       " 30,\n",
       " 52,\n",
       " 108,\n",
       " 54,\n",
       " 20,\n",
       " 78,\n",
       " 118,\n",
       " 85,\n",
       " 73,\n",
       " 35,\n",
       " 91,\n",
       " 51,\n",
       " 71,\n",
       " 16,\n",
       " 26,\n",
       " 58,\n",
       " 74,\n",
       " 66,\n",
       " 99,\n",
       " 46,\n",
       " 56,\n",
       " 102,\n",
       " 33,\n",
       " 64,\n",
       " 39,\n",
       " 86,\n",
       " 6,\n",
       " 76,\n",
       " 89,\n",
       " 111,\n",
       " 110,\n",
       " 75,\n",
       " 114,\n",
       " 117,\n",
       " 42,\n",
       " 47,\n",
       " 23,\n",
       " 28,\n",
       " 7,\n",
       " 12,\n",
       " 69,\n",
       " 2,\n",
       " 92,\n",
       " 67,\n",
       " 0,\n",
       " 113,\n",
       " 84,\n",
       " 90,\n",
       " 96,\n",
       " 104,\n",
       " 25,\n",
       " 15,\n",
       " 63,\n",
       " 94,\n",
       " 61,\n",
       " 32,\n",
       " 10,\n",
       " 38,\n",
       " 106,\n",
       " 62,\n",
       " 4,\n",
       " 107,\n",
       " 70,\n",
       " 9,\n",
       " 24,\n",
       " 19,\n",
       " 88,\n",
       " 1,\n",
       " 65,\n",
       " 77,\n",
       " 112,\n",
       " 48,\n",
       " 29,\n",
       " 115,\n",
       " 93,\n",
       " 40,\n",
       " 55,\n",
       " 14,\n",
       " 80,\n",
       " 22,\n",
       " 44,\n",
       " 109,\n",
       " 45,\n",
       " 49,\n",
       " 103,\n",
       " 18]"
      ]
     },
     "execution_count": 24,
     "metadata": {},
     "output_type": "execute_result"
    }
   ],
   "source": [
    "order"
   ]
  },
  {
   "cell_type": "code",
   "execution_count": 292,
   "metadata": {
    "collapsed": true
   },
   "outputs": [],
   "source": [
    "data=pd.read_csv('HB_120items.csv')\n",
    "utilsall=data.get_values()[:,2:]\n",
    "realmean=np.mean(utilsall,0)"
   ]
  },
  {
   "cell_type": "code",
   "execution_count": 15,
   "metadata": {
    "collapsed": false
   },
   "outputs": [],
   "source": [
    "data=pd.read_csv('HB_120items.csv')\n",
    "utilsall=data.get_values()[:,2:]"
   ]
  },
  {
   "cell_type": "code",
   "execution_count": 16,
   "metadata": {
    "collapsed": false
   },
   "outputs": [],
   "source": [
    "np.save('120util',utilsall)"
   ]
  },
  {
   "cell_type": "code",
   "execution_count": 192,
   "metadata": {
    "collapsed": false
   },
   "outputs": [
    {
     "data": {
      "text/plain": [
       "19.807085037231445"
      ]
     },
     "execution_count": 192,
     "metadata": {},
     "output_type": "execute_result"
    }
   ],
   "source": [
    "t=time.time()\n",
    "bz,sez=bayesBootstrapz(n,nb,nw,10)\n",
    "time.time()-t"
   ]
  },
  {
   "cell_type": "code",
   "execution_count": 17,
   "metadata": {
    "collapsed": false
   },
   "outputs": [
    {
     "data": {
      "text/plain": [
       "93"
      ]
     },
     "execution_count": 17,
     "metadata": {},
     "output_type": "execute_result"
    }
   ],
   "source": [
    "MDDesign =pd.read_csv(designfile)#get the files\n",
    "utilsall=data.get_values()[:,2:]"
   ]
  },
  {
   "cell_type": "code",
   "execution_count": null,
   "metadata": {
    "collapsed": true
   },
   "outputs": [],
   "source": [
    "def simulation(nrespondents,k,samplescheme,batchsize,itemfile,designfile,seed=0):#doesnot work\n",
    "    if seed>0:\n",
    "        np.random.seed(seed)#for reproducibility\n",
    "    data=pd.read_csv(itemfile)#\n",
    "    MDDesign =pd.read_csv(designfile)#get the files\n",
    "    utilsall=data.get_values()[:,2:]#utils of bots\n",
    "    [numreal,nitems]=utilsall.shape#\n",
    "    design=MDDesign.get_values()[:,2:]#changes to a numpy array\n",
    "    numver=max(MDDesign['Version'])#number of versions\n",
    "    qperset=max(MDDesign['Set'])#questions per set\n",
    "    itemsperq=design.shape[1]#items per questions\n",
    "    itemsperset=np.max(design)#items per set\n",
    "    people=np.random.choice([x for x in range(0,numreal)],nrespondents)#choice the bots\n",
    "    cov=np.eye(nitems)\n",
    "    totalrows=qperset*itemsperq#rows\n",
    "    allquestions=np.zeros((nrespondents*qperset,itemsperq),dtype=np.int)\n",
    "    allbest=np.zeros(nrespondents*qperset,dtype=np.int)\n",
    "    allworst=np.zeros(nrespondents*qperset,dtype=np.int)\n",
    "    X=np.zeros((nrespondents*qperset,nitems))\n",
    "    w=np.zeros(nitems)\n",
    "    numrows=nrespondents//batchsize\n",
    "    betas=np.zeros((numrows,nitems))\n",
    "    questions=fixedexpress(nitems,batchsize,design[:(qperset)*(batchsize)]-1)\n",
    "    qbatch=qperset*batchsize\n",
    "    for iternum in range(0,numrows):\n",
    "        for i in range(batchsize):\n",
    "            util=utilsall[people[iternum*batchsize+i],:]\n",
    "            print(util.shape)\n",
    "            bestitems,worstitems=fillsurvey(questions[i*qperset:(i+1)*qperset],util)\n",
    "            for j,bitem in enumerate(bestitems):\n",
    "                allbest[iternum*qbatch+i*qperset+j]=bitem\n",
    "            for j,witem in enumerate(worstitems):\n",
    "                allworst[iternum*qbatch+i*qperset+j]=witem\n",
    "        for i,oneq in enumerate(questions):\n",
    "            X[iternum*qperset+i,oneq]=1\n",
    "        allquestions[iternum*qbatch:(iternum+1)*qbatch]=questions\n",
    "        #betas[iternum]=w\n",
    "        vernum=((iternum+1)*batchsize)%numver\n",
    "        respdesign=design[qperset*vernum:(qperset)*(vernum+batchsize)]-1\n",
    "        Xtemp=X[:(iternum+1)*qbatch]\n",
    "        qtemp=allquestions[:(iternum+1)*qbatch]\n",
    "        besttemp=allbest[:(iternum+1)*qbatch]\n",
    "        worsttemp=allworst[:(iternum+1)*qbatch]\n",
    "        questions=samplescheme(Xtemp,qtemp,besttemp,worsttemp,k,batchsize,respdesign)\n",
    "        betas[iternum]=estimateparams(Xtemp,qtemp,besttemp,worsttemp)\n",
    "    return betas,allquestions,allbest,allworst,people"
   ]
  }
 ],
 "metadata": {
  "kernelspec": {
   "display_name": "Python 3",
   "language": "python",
   "name": "python3"
  },
  "language_info": {
   "codemirror_mode": {
    "name": "ipython",
    "version": 3
   },
   "file_extension": ".py",
   "mimetype": "text/x-python",
   "name": "python",
   "nbconvert_exporter": "python",
   "pygments_lexer": "ipython3",
   "version": "3.4.4"
  }
 },
 "nbformat": 4,
 "nbformat_minor": 0
}
