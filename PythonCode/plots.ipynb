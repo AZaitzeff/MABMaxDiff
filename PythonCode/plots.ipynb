{
 "cells": [
  {
   "cell_type": "code",
   "execution_count": 1,
   "metadata": {
    "collapsed": false
   },
   "outputs": [],
   "source": [
    "import pandas as pd\n",
    "#import matplotlib\n",
    "#matplotlib.use(\"Agg\")\n",
    "import matplotlib.pyplot as plt\n",
    "#import matplotlib.animation as animation\n",
    "import numpy as np\n",
    "import os\n",
    "import seaborn\n",
    "import scipy.stats as stats\n",
    "from sklearn.neighbors import KernelDensity"
   ]
  },
  {
   "cell_type": "code",
   "execution_count": 2,
   "metadata": {
    "collapsed": false
   },
   "outputs": [],
   "source": [
    "def getthemean(filename,colver='iteration',whichcol=['hr_top10']):\n",
    "    data=pd.read_csv(filename)\n",
    "    num=int(np.max(data[colver]))\n",
    "    meandata=data[data[colver]==1][whichcol].get_values()\n",
    "    for i in range(2,num+1):\n",
    "        meandata+=data[data[colver]==i][whichcol].get_values()\n",
    "    meandata/=num\n",
    "    return meandata"
   ]
  },
  {
   "cell_type": "code",
   "execution_count": 3,
   "metadata": {
    "collapsed": true
   },
   "outputs": [],
   "source": [
    "def getone(filename,colver='iteration',whichcol=['hr_top10'],iterval=1):\n",
    "    data=pd.read_csv(filename)\n",
    "    return data[data[colver]==iterval][whichcol].get_values()"
   ]
  },
  {
   "cell_type": "code",
   "execution_count": 4,
   "metadata": {
    "collapsed": false
   },
   "outputs": [],
   "source": [
    "def getfiles(start=\"bhist\",items='120',mis=0):\n",
    "    listoffiles=[]\n",
    "    where='../DataDump'\n",
    "    for file in os.listdir(where):\n",
    "        if file.startswith(start):\n",
    "            if items in file:\n",
    "                if mis==0:\n",
    "                    if '50' not in file:\n",
    "                        listoffiles.append(file)\n",
    "                elif mis==1:\n",
    "                    if '50' in file:\n",
    "                        listoffiles.append(file)\n",
    "                else:\n",
    "                    listoffiles.append(file)\n",
    "    return where,listoffiles"
   ]
  },
  {
   "cell_type": "code",
   "execution_count": 5,
   "metadata": {
    "collapsed": true
   },
   "outputs": [],
   "source": [
    "def getmaxmin(filename,colver='iteration',whichcol=['hr_top10']):\n",
    "    data=pd.read_csv(filename)\n",
    "    num=int(np.max(data[colver]))\n",
    "    maxmindata=data[data[colver]==1][whichcol].get_values()\n",
    "    if maxmindata.ndim==2:\n",
    "        n,m=np.shape(maxmindata)\n",
    "        maxmindata=np.empty((n,m,num))\n",
    "        for i in range(1,num+1):\n",
    "            maxmindata[:,:,i-1]=data[data[colver]==i][whichcol].get_values()\n",
    "        sortedmaxmin=np.sort(maxmindata,-1)\n",
    "        return sortedmaxmin[:,:,4],np.mean(sortedmaxmin,-1),sortedmaxmin[:,:,-5]\n",
    "    else:\n",
    "        n=np.shape(maxmindata)[0]\n",
    "        maxmindata=np.empty((n,num))\n",
    "        for i in range(1,num+1):\n",
    "            maxmindata[:,i-1]=data[data[colver]==i][whichcol].get_values()\n",
    "        sortedmaxmin=np.sort(maxmindata,-1)\n",
    "        return sortedmaxmin[:,4],np.mean(sortedmaxmin,-1),sortedmaxmin[:,-5]"
   ]
  },
  {
   "cell_type": "code",
   "execution_count": 6,
   "metadata": {
    "collapsed": false
   },
   "outputs": [],
   "source": [
    "def createlabel(f):\n",
    "    name=f.split()\n",
    "    label=[]\n",
    "    typeoflab=name[1][1:]\n",
    "    if typeoflab=='TS' or typeoflab=='greedy':\n",
    "        label.append(typeoflab)\n",
    "        label.append(' $\\epsilon$=')\n",
    "        label.append(str(int(name[14])/int(name[6]))[:5])\n",
    "        label.append(' $\\delta$=')\n",
    "        label.append(name[15][3:])\n",
    "    elif typeoflab=='learnthenearn':\n",
    "        label.append(typeoflab)\n",
    "        label.append(' $\\\\alpha$=')\n",
    "        label.append(name[-2])\n",
    "        #if name[-5]!='0':\n",
    "        #    label.append(' misinf')\n",
    "    elif typeoflab=='fixed_sparse':\n",
    "        label.append('Fixed Express')\n",
    "        #if name[-2]!='0':\n",
    "            #label.append(' misinf')\n",
    "    return ''.join(label)"
   ]
  },
  {
   "cell_type": "code",
   "execution_count": 7,
   "metadata": {
    "collapsed": false
   },
   "outputs": [],
   "source": [
    "def maporder(A):\n",
    "    trueutil=pd.read_csv('../MABMaxDiff/HB_120items.csv').get_values().mean(0)[2:]\n",
    "    order=list(np.argsort(trueutil)[::-1])\n",
    "    newfun=np.vectorize(order.index)\n",
    "    return newfun(A-1)"
   ]
  },
  {
   "cell_type": "code",
   "execution_count": 8,
   "metadata": {
    "collapsed": false
   },
   "outputs": [],
   "source": [
    "def histplots(indices=np.arange(0,6),whichcol='hr_top3',items='120',mis=0,name='name.pdf'):\n",
    "    where,listoffiles=getfiles(start=\"hrhist\",items=items,mis=mis)\n",
    "    for i,f in enumerate(listoffiles):\n",
    "        if i in indices:\n",
    "            meandata=getthemean(where+'/'+f,colver='iteration',whichcol=whichcol)\n",
    "            label=createlabel(f)\n",
    "            plt.plot(range(20,1040,20),meandata,label=label)\n",
    "    plt.ylabel(whichcol)\n",
    "    plt.xlabel('respondent')\n",
    "    plt.legend(loc='lower right',fontsize='small')\n",
    "    #plt.title('Top '+whichcol[6:]+' Hit Rate Over Respondents')\n",
    "    plt.xlim([0,1050])\n",
    "    plt.savefig(name, dpi=100)\n",
    "    plt.close()\n",
    "\n"
   ]
  },
  {
   "cell_type": "code",
   "execution_count": 9,
   "metadata": {
    "collapsed": true
   },
   "outputs": [],
   "source": [
    "def utilplots(indices=np.arange(0,6),whichcol='util3',items='120',mis=0,name='name.pdf'):\n",
    "    where,listoffiles=getfiles(start=\"util\",items=items,mis=mis)\n",
    "    for i,f in enumerate(listoffiles):\n",
    "        if i in indices:\n",
    "            meandata=getthemean(where+'/'+f,colver='iteration',whichcol=whichcol)\n",
    "            label=createlabel(f)\n",
    "            plt.plot(range(20,1040,20),meandata,label=label)\n",
    "    plt.ylabel(whichcol)\n",
    "    plt.xlabel('respondent')\n",
    "    plt.legend(loc='lower right',fontsize='small')\n",
    "    #plt.title('Utility Score For Top '+whichcol[4:]+' Items Over Respondents')\n",
    "    plt.xlim([0,1050])\n",
    "    plt.savefig(name, dpi=100)\n",
    "    plt.close()"
   ]
  },
  {
   "cell_type": "code",
   "execution_count": 10,
   "metadata": {
    "collapsed": false
   },
   "outputs": [],
   "source": [
    "def vrplots(indices=np.arange(0,6),whichcol='valrem3',items='120',mis=0,name='name.pdf'):\n",
    "    where,listoffiles=getfiles(start=\"valrem\",items=items,mis=mis)\n",
    "    for i,f in enumerate(listoffiles):\n",
    "        if i in indices:\n",
    "            meandata=getthemean(where+'/'+f,colver='iteration',whichcol=whichcol)\n",
    "            label=createlabel(f)\n",
    "            plt.semilogy(range(20,1040,20),meandata,label=label)\n",
    "            #plt.plot(range(20,1040,20),meandata,label=label)\n",
    "            plt.axhline(.02,0, 1,linestyle='dashed')\n",
    "    plt.ylabel('Potential Value Remaining')\n",
    "    plt.xlabel('respondent')\n",
    "    plt.legend(loc='upper right',fontsize='small')\n",
    "    #plt.title('Potential Value Remaining For Top '+whichcol[6:]+' Items Over Respondents')\n",
    "    plt.xlim([0,1050])\n",
    "    plt.savefig(name, dpi=100)\n",
    "    plt.close()"
   ]
  },
  {
   "cell_type": "code",
   "execution_count": 11,
   "metadata": {
    "collapsed": true
   },
   "outputs": [],
   "source": [
    "def gettherank(matrix):\n",
    "    n,m=np.shape(matrix)\n",
    "    ranking=np.zeros((n,m))\n",
    "    for i in range(n):\n",
    "        array=matrix[i]\n",
    "        temp = array.argsort()[::-1]\n",
    "        ranks = np.empty(len(array), int)\n",
    "        ranks[temp] = np.arange(len(array))+1\n",
    "        ranking[i]=ranks\n",
    "    return ranking"
   ]
  },
  {
   "cell_type": "code",
   "execution_count": 30,
   "metadata": {
    "collapsed": false
   },
   "outputs": [],
   "source": [
    "def stplots(indices=np.arange(0,6),rank=[1,60],items='120',mis=0,name='name.pdf',sq=1):\n",
    "    where,listoffiles=getfiles(start=\"sehist\",items=items,mis=mis)\n",
    "    whichcol=whichcols(rank)\n",
    "    for i,f in enumerate(listoffiles):\n",
    "        if i in indices:\n",
    "            for j,col in enumerate(whichcol):\n",
    "                meandata=getthemean(where+'/'+f,colver='V1',whichcol=col)\n",
    "                if sq==0:\n",
    "                    meandata=1/meandata**2 \n",
    "                label=createlabel(f)\n",
    "                plt.plot(range(20,1040,20),meandata,label=label+', '+str(rank[j])+' rank')\n",
    "    if sq==0:\n",
    "        plt.ylabel('Precision')\n",
    "        plt.legend(loc='upper left',fontsize='small')\n",
    "    else:\n",
    "        plt.ylabel('Squared Error')\n",
    "        plt.legend(loc='upper right',fontsize='small')\n",
    "    plt.xlabel('respondent')\n",
    "    \n",
    "    #if sq==0:\n",
    "        #plt.title('Precision Over Respondents')\n",
    "    #else:\n",
    "    #    plt.title('Squared Error Over Respondents')\n",
    "    plt.xlim([0,1050])\n",
    "    plt.savefig(name, dpi=100)\n",
    "    plt.close()"
   ]
  },
  {
   "cell_type": "code",
   "execution_count": 13,
   "metadata": {
    "collapsed": false
   },
   "outputs": [],
   "source": [
    "def rundots(index,where,listoffiles):\n",
    "    data=pd.read_csv(where+'/'+listoffiles[index])\n",
    "    choices=data.get_values()[:,1:]\n",
    "    res=maporder(choices)\n",
    "    return res,createlabel(listoffiles[index][55:])"
   ]
  },
  {
   "cell_type": "code",
   "execution_count": 14,
   "metadata": {
    "collapsed": true
   },
   "outputs": [],
   "source": [
    "def trueOrder():\n",
    "    trueutil=pd.read_csv('../MABMaxDiff/HB_120items.csv').get_values().mean(0)[2:]\n",
    "    order=list(np.argsort(trueutil)[::-1])\n",
    "    return order"
   ]
  },
  {
   "cell_type": "code",
   "execution_count": 59,
   "metadata": {
    "collapsed": true
   },
   "outputs": [],
   "source": [
    "def whichcols(rank):\n",
    "    order=trueOrder()\n",
    "    cols=[]\n",
    "    for i in rank:\n",
    "        cols.append('V'+str(order[i-1]+3))\n",
    "    return cols"
   ]
  },
  {
   "cell_type": "code",
   "execution_count": 61,
   "metadata": {
    "collapsed": false
   },
   "outputs": [],
   "source": [
    "def barplots(indices=[0],size=(10,4),name='name.pdf'):\n",
    "    listoffiles=[]\n",
    "    where='../DataDump'\n",
    "    for file in os.listdir(where):\n",
    "        if file.startswith(\"itembyresp\"):\n",
    "                    listoffiles.append(file)\n",
    "    n=len(indices)\n",
    "    for i,index in enumerate(indices):\n",
    "        res,label=rundots(index,where,listoffiles)\n",
    "        plt.subplot('1'+str(n)+str(i+1))\n",
    "        plt.plot(res,'k,', markersize=1)\n",
    "        plt.xlim([0,1020])\n",
    "        plt.title(label)\n",
    "    fig = plt.gcf()\n",
    "    fig.set_size_inches(size[0], size[1])\n",
    "    fig.savefig(name, dpi=100)\n",
    "    plt.close()"
   ]
  },
  {
   "cell_type": "code",
   "execution_count": 62,
   "metadata": {
    "collapsed": false
   },
   "outputs": [],
   "source": [
    "def rankplot(indices=np.arange(0,6),rank=[1,2,3],iterval=1,items='120',mis=0,name='name.pdf',size=(10,6)):\n",
    "    where,listoffiles=getfiles(start=\"bhist\",items=items,mis=mis)\n",
    "    whichcol=[]\n",
    "    for i in range(120):\n",
    "        whichcol.append('V'+str(i+3))\n",
    "    n=len(indices)\n",
    "    order=trueOrder()\n",
    "    for i,f in enumerate(listoffiles):\n",
    "        if i in indices:\n",
    "            num=indices.index(i)+1\n",
    "            meandata=getone(where+'/'+f,colver='V1',whichcol=whichcol,iterval=iterval)\n",
    "            therank=gettherank(meandata)\n",
    "            plt.subplot('1'+str(n)+str(num))\n",
    "            l,k=np.shape(therank)\n",
    "            comeback=[]\n",
    "            for j in range(k):\n",
    "                if order.index(j)+1 in rank:\n",
    "                    comeback.append(j)\n",
    "                else:\n",
    "                    plt.plot(range(20,1040,20),therank[:,j],color = '0.75')\n",
    "            for j in comeback:     \n",
    "                plt.plot(range(20,1040,20),therank[:,j])\n",
    "            plt.ylim(121,0)\n",
    "            plt.xlim([20,1020])\n",
    "            plt.title(createlabel(f))\n",
    "            if num==1:\n",
    "                plt.ylabel('rank')\n",
    "            plt.xlabel('respondent')\n",
    "    fig = plt.gcf()\n",
    "    fig.set_size_inches(size[0], size[1])\n",
    "    fig.savefig(name, dpi=100)\n",
    "    plt.close()"
   ]
  },
  {
   "cell_type": "code",
   "execution_count": 36,
   "metadata": {
    "collapsed": true
   },
   "outputs": [],
   "source": [
    "def bhplots(indices=np.arange(0,6),rank=[1,60],items='120',mis=0,name='name.pdf'):\n",
    "    where,listoffiles=getfiles(start=\"bhist\",items=items,mis=mis)\n",
    "    whichcol=whichcols(rank)\n",
    "    for i,f in enumerate(listoffiles):\n",
    "        if i in indices:\n",
    "            for j,col in enumerate(whichcol):\n",
    "                mindata,meandata,maxdata=getmaxmin(where+'/'+f,colver='V1',whichcol=col)\n",
    "                label=createlabel(f)\n",
    "                p=plt.plot(range(20,1040,20),meandata,label=label+', '+str(rank[j])+' rank')\n",
    "                c=plt.getp(p[0],'color')\n",
    "                plt.fill_between(range(20,1040,20), mindata, maxdata,facecolor=c, alpha=0.5)\n",
    "    plt.ylabel('Utility')\n",
    "    plt.legend(loc='upper right',fontsize='small')\n",
    "    plt.xlabel('Respondent')\n",
    "    #plt.title('Beta Values: Mean and 90% Interval')\n",
    "    plt.xlim([20,1020])\n",
    "    plt.savefig(name, dpi=100)\n",
    "    plt.close()"
   ]
  },
  {
   "cell_type": "code",
   "execution_count": 19,
   "metadata": {
    "collapsed": false
   },
   "outputs": [],
   "source": [
    "where,filenames=getfiles(start=\"util\",items='120',mis=0)"
   ]
  },
  {
   "cell_type": "code",
   "execution_count": 20,
   "metadata": {
    "collapsed": false
   },
   "outputs": [
    {
     "data": {
      "text/plain": [
       "['util (fixed_sparse - 120 items - 30 items per resp - misinf 0 ).csv',\n",
       " 'util (greedy - 120 items - 30 items per resp - split 20 TS 10 TSx10000 - misinf 0 ).csv',\n",
       " 'util (TS - 120 items - 30 items per resp - split 0 TS 30 TSx1e-04 - misinf 0 ).csv',\n",
       " 'util (TS - 120 items - 30 items per resp - split 15 TS 15 TSx10 - misinf 0 ).csv',\n",
       " 'util (TS - 120 items - 30 items per resp - split 15 TS 15 TSx20 - misinf 0 ).csv',\n",
       " 'util (TS - 120 items - 30 items per resp - split 20 TS 10 TSx10 - misinf 0 ).csv',\n",
       " 'util (TS - 120 items - 30 items per resp - split 20 TS 10 TSx10000 - misinf 0 ).csv',\n",
       " 'util (TS - 120 items - 30 items per resp - split 20 TS 10 TSx20 - misinf 0 ).csv',\n",
       " 'util (TS - 120 items - 30 items per resp - split 30 TS 0 TSx1 - misinf 0 ).csv']"
      ]
     },
     "execution_count": 20,
     "metadata": {},
     "output_type": "execute_result"
    }
   ],
   "source": [
    "filenames"
   ]
  },
  {
   "cell_type": "code",
   "execution_count": 51,
   "metadata": {
    "collapsed": true
   },
   "outputs": [],
   "source": [
    "histplots(indices=[0,5,8],whichcol='hr_top3',items='120',mis=0,name='plots/3hitrate120show3.pdf')\n",
    "histplots(indices=[0,5,8],whichcol='hr_top10',items='120',mis=0,name='plots/10hitrate120show3.pdf')"
   ]
  },
  {
   "cell_type": "code",
   "execution_count": 72,
   "metadata": {
    "collapsed": true
   },
   "outputs": [],
   "source": [
    "histplots(indices=[0,5,8],whichcol='hr_top3',items='120',mis=1,name='plots/3hitrate120show3mis.pdf')\n",
    "histplots(indices=[0,5,8],whichcol='hr_top10',items='120',mis=1,name='plots/10hitrate120show3mis.pdf')\n"
   ]
  },
  {
   "cell_type": "code",
   "execution_count": 47,
   "metadata": {
    "collapsed": false
   },
   "outputs": [],
   "source": [
    "goodones=[0,1,2,5,6,8]\n",
    "\n",
    "histplots(indices=goodones,whichcol='hr_top3',items='120',mis=0,name='plots/3hitrate120all.pdf')\n",
    "histplots(indices=goodones,whichcol='hr_top10',items='120',mis=0,name='plots/10hitrate120all.pdf')\n",
    "histplots(indices=goodones,whichcol='hr_top3',items='120',mis=1,name='plots/3hitrate120allmis.pdf')\n",
    "histplots(indices=goodones,whichcol='hr_top10',items='120',mis=1,name='plots/10hitrate120allmis.pdf')\n",
    "\n",
    "histplots(whichcol='hr_top3',items='40',mis=0,name='plots/3hitrate40all.pdf')\n",
    "histplots(whichcol='hr_top10',items='40',mis=0,name='plots/10hitrate40all.pdf')\n",
    "histplots(whichcol='hr_top3',items='40',mis=1,name='plots/3hitrate40allmis.pdf')\n",
    "histplots(whichcol='hr_top10',items='40',mis=1,name='plots/10hitrate40allmis.pdf')\n",
    "\n",
    "histplots(whichcol='hr_top3',items='300',mis=0,name='plots/3hitrate300all.pdf')\n",
    "histplots(whichcol='hr_top10',items='300',mis=0,name='plots/10hitrate300all.pdf')\n",
    "histplots(whichcol='hr_top3',items='300',mis=1,name='plots/3hitrate300allmis.pdf')\n",
    "histplots(whichcol='hr_top10',items='300',mis=1,name='plots/10hitrate300allmis.pdf')"
   ]
  },
  {
   "cell_type": "code",
   "execution_count": 20,
   "metadata": {
    "collapsed": true
   },
   "outputs": [],
   "source": [
    "utilplots(indices=[0,5,8],whichcol='util3',items='120',mis=0,name='plots/3util120show3.pdf')\n",
    "utilplots(indices=[0,5,8],whichcol='util10',items='120',mis=0,name='plots/10util120show3.pdf')\n",
    "utilplots(indices=[0,5,8],whichcol='util3',items='120',mis=1,name='plots/3util120show3mis.pdf')\n",
    "utilplots(indices=[0,5,8],whichcol='util10',items='120',mis=1,name='plots/10util120show3mis.pdf')"
   ]
  },
  {
   "cell_type": "code",
   "execution_count": 35,
   "metadata": {
    "collapsed": true
   },
   "outputs": [],
   "source": [
    "goodones=[0,1,2,5,6,8]\n",
    "utilplots(indices=[0,8],whichcol='util3',items='120',mis=0,name='plots/3util120show2.pdf')\n",
    "utilplots(indices=[0,8],whichcol='util10',items='120',mis=0,name='plots/10util120show2.pdf')\n",
    "utilplots(indices=goodones,whichcol='util3',items='120',mis=0,name='plots/3util120all.pdf')\n",
    "utilplots(indices=goodones,whichcol='util10',items='120',mis=0,name='plots/10util120all.pdf')\n",
    "utilplots(indices=goodones,whichcol='util3',items='120',mis=1,name='plots/3util120allmis.pdf')\n",
    "utilplots(indices=goodones,whichcol='util10',items='120',mis=1,name='plots/10util120allmis.pdf')\n",
    "\n",
    "utilplots(whichcol='util3',items='40',mis=0,name='plots/3util40all.pdf')\n",
    "utilplots(whichcol='util10',items='40',mis=0,name='plots/10util40all.pdf')\n",
    "utilplots(whichcol='util3',items='40',mis=1,name='plots/3util40allmis.pdf')\n",
    "utilplots(whichcol='util10',items='40',mis=1,name='plots/10util40allmis.pdf')\n",
    "\n",
    "utilplots(whichcol='util3',items='300',mis=0,name='plots/3util300all.pdf')\n",
    "utilplots(whichcol='util10',items='300',mis=0,name='plots/10util300all.pdf')\n",
    "utilplots(whichcol='util3',items='300',mis=1,name='plots/3util300allmis.pdf')\n",
    "utilplots(whichcol='util10',items='300',mis=1,name='plots/10util300allmis.pdf')"
   ]
  },
  {
   "cell_type": "code",
   "execution_count": 24,
   "metadata": {
    "collapsed": true
   },
   "outputs": [],
   "source": [
    "vrplots(indices=[0,5,8],whichcol='valrem3',items='120',mis=0,name='plots/3vr120show3.pdf')\n",
    "vrplots(indices=[0,5,8],whichcol='valrem10',items='120',mis=0,name='plots/10vr120show3.pdf')"
   ]
  },
  {
   "cell_type": "code",
   "execution_count": 22,
   "metadata": {
    "collapsed": true
   },
   "outputs": [],
   "source": [
    "goodones=[0,1,2,5,6,8]\n",
    "vrplots(indices=[0,8],whichcol='valrem3',items='120',mis=0,name='plots/3vr120show2.pdf')\n",
    "vrplots(indices=[0,8],whichcol='valrem10',items='120',mis=0,name='plots/10vr120show2.pdf')\n",
    "vrplots(indices=goodones,whichcol='valrem3',items='120',mis=0,name='plots/3vr120all.pdf')\n",
    "vrplots(indices=goodones,whichcol='valrem10',items='120',mis=0,name='plots/10vr120all.pdf')\n",
    "vrplots(indices=goodones,whichcol='valrem3',items='120',mis=1,name='plots/3vr120allmis.pdf')\n",
    "vrplots(indices=goodones,whichcol='valrem10',items='120',mis=1,name='plots/10vr120allmis.pdf')\n",
    "\n",
    "vrplots(whichcol='valrem3',items='40',mis=0,name='plots/3vr40all.pdf')\n",
    "vrplots(whichcol='valrem10',items='40',mis=0,name='plots/10vr40all.pdf')\n",
    "vrplots(whichcol='valrem3',items='40',mis=1,name='plots/3vr40allmis.pdf')\n",
    "vrplots(whichcol='valrem10',items='40',mis=1,name='plots/10vr40allmis.pdf')\n",
    "\n",
    "vrplots(whichcol='valrem3',items='300',mis=0,name='plots/3vr300all.pdf')\n",
    "vrplots(whichcol='valrem10',items='300',mis=0,name='plots/10vr300all.pdf')\n",
    "vrplots(whichcol='valrem3',items='300',mis=1,name='plots/3vr300allmis.pdf')\n",
    "vrplots(whichcol='valrem10',items='300',mis=1,name='plots/10vr300allmis.pdf')"
   ]
  },
  {
   "cell_type": "code",
   "execution_count": 69,
   "metadata": {
    "collapsed": false
   },
   "outputs": [],
   "source": [
    "stplots(indices=[0,8],rank=[1,60],items='120',mis=0,name='plots/squarederror.pdf',sq=1)\n",
    "stplots(indices=[0,8],rank=[1,60],items='120',mis=0,name='plots/precision.pdf',sq=0)"
   ]
  },
  {
   "cell_type": "code",
   "execution_count": null,
   "metadata": {
    "collapsed": false
   },
   "outputs": [],
   "source": []
  },
  {
   "cell_type": "code",
   "execution_count": 26,
   "metadata": {
    "collapsed": false
   },
   "outputs": [],
   "source": [
    "barplots([0,3],size=(10,4),name='plots/2dotplot.pdf')\n",
    "barplots([0,3,1],size=(10,4),name='plots/3dotplot.pdf')"
   ]
  },
  {
   "cell_type": "code",
   "execution_count": 63,
   "metadata": {
    "collapsed": false
   },
   "outputs": [],
   "source": [
    "bhplots(indices=[0,8],rank=[1,60],items='120',mis=0,name='plots/betavalconfidence.pdf')"
   ]
  },
  {
   "cell_type": "code",
   "execution_count": 89,
   "metadata": {
    "collapsed": false
   },
   "outputs": [],
   "source": [
    "rankplot(indices=[0,5],rank=np.arange(1,11),iterval=9,items='120',mis=0,name='plots/rankingcomp2.pdf')\n",
    "rankplot(indices=[0,5,3],rank=np.arange(1,11),iterval=9,items='120',mis=0,name='plots/rankingcomp3.pdf')\n",
    "rankplot(indices=[0,5,3],rank=np.arange(1,11),iterval=9,items='120',mis=1,name='plots/rankingcomp3mis.pdf')"
   ]
  },
  {
   "cell_type": "code",
   "execution_count": 32,
   "metadata": {
    "collapsed": false
   },
   "outputs": [],
   "source": [
    "def norplots(indices=np.arange(0,6),rank=[1,60],items='120',mis=0,name='name.pdf',iterval=1,ts=0,after=0,xlim=[-2,5],ylim=[0,8]):\n",
    "    colors=['b','r','c','g']\n",
    "    where,listoffiles1=getfiles(start=\"sehist\",items=items,mis=mis)\n",
    "    where,listoffiles2=getfiles(start=\"bhist\",items=items,mis=mis)\n",
    "    whichcol=whichcols(rank)\n",
    "    n=len(rank)\n",
    "    z=0\n",
    "    for i,f in enumerate(listoffiles1):\n",
    "        if i in indices:\n",
    "            for j,col in enumerate(whichcol):\n",
    "                sehist=getone(where+'/'+listoffiles1[i],colver='V1',whichcol=col,iterval=iterval)\n",
    "                bhist=getone(where+'/'+listoffiles2[i],colver='V1',whichcol=col,iterval=iterval)\n",
    "                x=np.linspace(-3,5,1000)\n",
    "                label=createlabel(f)\n",
    "                \n",
    "                if after:\n",
    "                    lab='N($\\\\beta,\\sigma$)'\n",
    "                    plt.fill_between(x,0, stats.norm.pdf(x,bhist[ts], sehist[ts]),\n",
    "                                 label=lab,\n",
    "                                 alpha=.9-.5*j,facecolor=colors[(z)%4])\n",
    "                    lab='N($\\\\beta, \\delta \\sigma$), $\\delta$=10'\n",
    "                    plt.fill_between(x,0, stats.norm.pdf(x,bhist[ts], sehist[ts]*10),\n",
    "                                 label=lab,\n",
    "                                 alpha=.4,facecolor=colors[(z)%4])\n",
    "                else:\n",
    "                    plt.fill_between(x,0, stats.norm.pdf(x,bhist[ts], sehist[ts]),\n",
    "                                 label=label+', '+str(rank[j])+' rank',\n",
    "                                 alpha=.9-.5*j,facecolor=colors[(z)%4]) \n",
    "            z+=1\n",
    "    if not after:\n",
    "        #plt.title('Distribution of items at the ' +str((ts+1)*20)+'th respondent')\n",
    "        plt.xlabel('Utility')\n",
    "    else:\n",
    "        plt.title('Distribution of rank '+str(rank[0])+' item at the ' +str((ts+1)*20)+'th respondent')\n",
    "    plt.legend(loc='upper right',fontsize='small')\n",
    "    plt.xlim(xlim)\n",
    "    plt.ylim(ylim)\n",
    "    plt.savefig(name, dpi=100)\n",
    "    plt.close()"
   ]
  },
  {
   "cell_type": "code",
   "execution_count": null,
   "metadata": {
    "collapsed": false
   },
   "outputs": [],
   "source": []
  },
  {
   "cell_type": "code",
   "execution_count": 64,
   "metadata": {
    "collapsed": false
   },
   "outputs": [],
   "source": [
    "norplots([0,8],rank=[1,60],ts=5,iterval=5,name='plots/beliefdistrBegin.pdf')\n",
    "norplots([0,8],rank=[1,60],ts=50,iterval=5,name='plots/beliefdistrEnd.pdf')"
   ]
  },
  {
   "cell_type": "code",
   "execution_count": 31,
   "metadata": {
    "collapsed": false
   },
   "outputs": [],
   "source": [
    "norplots([3],rank=[5],ts=5,iterval=5,name='plots/espdeltaBegin.pdf',after=1,xlim=[-2,4],ylim=[0,8])\n",
    "norplots([3],rank=[5],ts=50,iterval=5,name='plots/espdeltaEnd.pdf',after=1,xlim=[-2,4],ylim=[0,8])"
   ]
  },
  {
   "cell_type": "code",
   "execution_count": 33,
   "metadata": {
    "collapsed": false
   },
   "outputs": [],
   "source": [
    "def noranimation(indices=np.arange(0,6),rank=[1,60],items='120',mis=0,name='name',iterval=1,after=0,xlim=[-2,5],ylim=[0,8]):\n",
    "    colors=['b','r','c','g']\n",
    "    where,listoffiles1=getfiles(start=\"sehist\",items=items,mis=mis)\n",
    "    where,listoffiles2=getfiles(start=\"bhist\",items=items,mis=mis)\n",
    "    whichcol=whichcols(rank)\n",
    "    n=len(rank)\n",
    "    m=len(indices)\n",
    "    sehist=np.zeros((51,m,n))\n",
    "    bhist=np.zeros((51,m,n))\n",
    "    label=[]\n",
    "    z=0\n",
    "    for i,f in enumerate(listoffiles1):\n",
    "        if i in indices:\n",
    "            for j,col in enumerate(whichcol):\n",
    "                sehist[:,z,j]=getone(where+'/'+listoffiles1[i],colver='V1',whichcol=col,iterval=iterval)\n",
    "                bhist[:,z,j]=getone(where+'/'+listoffiles2[i],colver='V1',whichcol=col,iterval=iterval)\n",
    "                \n",
    "                label.append(createlabel(f))\n",
    "            z+=1\n",
    "    fig = plt.figure()\n",
    "    def updatefig(ts):\n",
    "        fig.clear()\n",
    "        x=np.linspace(-3,5,1000)\n",
    "        for i in range(m):\n",
    "            for j in range(n):\n",
    "                if after:\n",
    "                    lab='N($\\\\beta,\\sigma$)'\n",
    "                    plt.fill_between(x,0, stats.norm.pdf(x,bhist[ts,i,j], sehist[ts,i,j]),\n",
    "                                 label=lab,\n",
    "                                 alpha=.9-.5*j,facecolor=colors[(i)%4])\n",
    "                    lab='N($\\\\beta, \\delta \\sigma$), $\\delta$=10'\n",
    "                    plt.fill_between(x,0, stats.norm.pdf(x,bhist[ts,i,j], sehist[ts,i,j]*10),\n",
    "                                 label=lab,\n",
    "                                 alpha=.4,facecolor=colors[(i)%4])\n",
    "                else:\n",
    "                    plt.fill_between(x,0, stats.norm.pdf(x,bhist[ts,i,j], sehist[ts,i,j]),\n",
    "                                             label=label[(i*n+j)]+', '+str(rank[j])+' rank',\n",
    "                                             alpha=.9-.5*j,facecolor=colors[(i)%4])\n",
    "        if not after:\n",
    "            plt.title('Distribution of items at the ' +str((ts+1)*20)+'th respondent')\n",
    "        else:\n",
    "            plt.title('Distribution of rank '+str(rank[0])+' item at the ' +str((ts+1)*20)+'th respondent')\n",
    "        plt.legend(loc='upper right',fontsize='small')\n",
    "        plt.xlim(xlim)\n",
    "        plt.ylim(ylim)\n",
    "        plt.draw()\n",
    "    \n",
    "    anim = animation.FuncAnimation(fig, updatefig, 51)\n",
    "    anim.save(name+'.mp4', fps=10)"
   ]
  },
  {
   "cell_type": "code",
   "execution_count": 27,
   "metadata": {
    "collapsed": false
   },
   "outputs": [],
   "source": [
    "noranimation([0,5],rank=[1,90],iterval=5,name='beliefdistr')"
   ]
  },
  {
   "cell_type": "code",
   "execution_count": 34,
   "metadata": {
    "collapsed": false
   },
   "outputs": [],
   "source": [
    "noranimation([3],rank=[5],iterval=5,after=1,xlim=[-2,4],ylim=[0,8],name='espdelta')"
   ]
  },
  {
   "cell_type": "code",
   "execution_count": 21,
   "metadata": {
    "collapsed": true
   },
   "outputs": [],
   "source": [
    "def rankanim(indices=np.arange(0,6),rank=[1,2,3],iterval=1,items='120',mis=0,name='name.pdf',size=(10,6)):\n",
    "    where,listoffiles=getfiles(start=\"bhist\",items=items,mis=mis)\n",
    "    whichcol=[]\n",
    "    for i in range(120):\n",
    "        whichcol.append('V'+str(i+3))\n",
    "    n=len(indices)\n",
    "    order=trueOrder()\n",
    "    therank=np.zeros((51,120,n))\n",
    "    label=[]\n",
    "    for i,f in enumerate(listoffiles):\n",
    "        if i in indices:\n",
    "            num=indices.index(i)+1\n",
    "            meandata=getone(where+'/'+f,colver='V1',whichcol=whichcol,iterval=iterval)\n",
    "            therank[:,:,num-1]=gettherank(meandata)\n",
    "            label.append(createlabel(f))\n",
    "    fig = plt.figure()\n",
    "    def updatefig(ts):\n",
    "        fig.clear()\n",
    "        for num in range(n):\n",
    "            plt.subplot('1'+str(n)+str(num+1))\n",
    "            l,k=np.shape(therank[:,:,num])\n",
    "            comeback=[]\n",
    "            for j in range(k):\n",
    "                if order.index(j)+1 in rank:\n",
    "                    comeback.append(j)\n",
    "                else:\n",
    "                    plt.plot(range(20,(ts+1)*20,20),therank[:ts,j,num],color = '0.75')\n",
    "            for j in comeback:     \n",
    "                plt.plot(range(20,(ts+1)*20,20),therank[:ts,j,num])\n",
    "            plt.ylim(121,0)\n",
    "            plt.xlim([20,1020])\n",
    "            plt.title(label[num])\n",
    "            if num==0:\n",
    "                plt.ylabel('rank')\n",
    "            plt.xlabel('respondent')\n",
    "        plt.draw()\n",
    "    fig.set_size_inches(size[0], size[1])\n",
    "    anim = animation.FuncAnimation(fig, updatefig, 52)\n",
    "    anim.save(name+'.mp4', fps=5)\n",
    "    plt.clf()\n",
    "    plt.close('all')"
   ]
  },
  {
   "cell_type": "code",
   "execution_count": 22,
   "metadata": {
    "collapsed": false
   },
   "outputs": [],
   "source": [
    "rankanim(indices=[0,5],rank=np.arange(1,11),iterval=9,items='120',mis=0,name='rankingcomp2')\n",
    "#rankanim(indices=[0,5,3],rank=np.arange(1,11),iterval=9,items='120',mis=0,name='rankingcomp3')\n",
    "#rankanim(indices=[0,5,3],rank=np.arange(1,11),iterval=9,items='120',mis=1,name='rankingcomp3mis')"
   ]
  },
  {
   "cell_type": "code",
   "execution_count": 67,
   "metadata": {
    "collapsed": false
   },
   "outputs": [],
   "source": [
    "def betaplot(cols=[0],rank=[1],items='120',mis=0,name='name.pdf'):\n",
    "    colors=['b','g','r','c']\n",
    "    where,listoffiles=getfiles(start=\"bhist\",items=items,mis=mis)\n",
    "    whichcol=whichcols(rank)\n",
    "    newcol='Item'+str(int(whichcol[0][1:])-2)\n",
    "    truth=pd.read_csv('../MABMaxDiff/HB_120items.csv')[newcol].get_values().mean()\n",
    "    z=0\n",
    "    for col in cols:\n",
    "        f=listoffiles[col]\n",
    "        data=pd.read_csv(where+'/'+f)\n",
    "        betas=data[data['V2']==1020][whichcol].get_values()[:,0]\n",
    "        label=createlabel(f)\n",
    "        x=np.linspace(truth-3,truth+3,200)\n",
    "        dens=KernelDensity(bandwidth=.5)\n",
    "        dens.fit(betas[:, np.newaxis])\n",
    "        points=dens.score_samples(x[:, np.newaxis])\n",
    "        plt.fill_between(x, 0, np.exp(points),facecolor=colors[z], alpha=0.5,label=label)\n",
    "        z+=1\n",
    "    plt.axvline(truth,color='k')\n",
    "    #plt.ylabel('Value')\n",
    "    plt.legend(loc='best',fontsize='small')\n",
    "    plt.xlabel('Utility')\n",
    "    plt.xlim(-4,4)\n",
    "    plt.ylim(0,1)\n",
    "    #plt.title('Beta Distribution of rank '+str(rank[0])+' item' )\n",
    "    plt.savefig(name, dpi=100)\n",
    "    plt.close()"
   ]
  },
  {
   "cell_type": "code",
   "execution_count": 68,
   "metadata": {
    "collapsed": false
   },
   "outputs": [],
   "source": [
    "betaplot(cols=[0,5,8],rank=[1],items='120',mis=0,name='plots/endbetadis1.pdf')\n",
    "betaplot(cols=[0,5,8],rank=[30],items='120',mis=0,name='plots/endbetadis30.pdf')\n",
    "betaplot(cols=[0,5,8],rank=[60],items='120',mis=0,name='plots/endbetadis60.pdf')\n",
    "betaplot(cols=[0,5,8],rank=[90],items='120',mis=0,name='plots/endbetadis90.pdf')"
   ]
  },
  {
   "cell_type": "code",
   "execution_count": 33,
   "metadata": {
    "collapsed": false
   },
   "outputs": [],
   "source": [
    "def stopplot(cols=[0,5],value=5,num=3,items='120',mis=0,stop=True,name='name.pdf'):\n",
    "    colors=['b','g','r','c']\n",
    "    where,listoffiles=getfiles(start=\"stop\",items=items,mis=mis)\n",
    "    for i,col in enumerate(cols):\n",
    "        f=listoffiles[col]\n",
    "        data=pd.read_csv(where+'/'+f)\n",
    "        if stop:\n",
    "            values=data['stop'+str(value)+'rem'+str(num)].get_values()\n",
    "        else:\n",
    "            values=data['util'+str(value)+'rem'+str(num)].get_values()\n",
    "        \n",
    "        label=createlabel(f)\n",
    "        plt.hist(values,alpha=.5,color=colors[i],label=label)\n",
    "        \n",
    "    #plt.ylabel('Value')\n",
    "    #plt.xlabel('respondent')\n",
    "    if stop:\n",
    "        #plt.title('When survey stops for '+str(num)+ ' items using '+str(value/100)+ ' rule')\n",
    "        plt.xlabel('Respondent')\n",
    "    else:\n",
    "        #plt.title('True utility when survey stops for '+str(num)+ ' items using '+str(value/100)+ ' rule')\n",
    "        plt.xlabel('Percent of True Utility')\n",
    "    plt.legend(loc='best',fontsize='small')\n",
    "    plt.savefig(name, dpi=100)\n",
    "    plt.close()"
   ]
  },
  {
   "cell_type": "code",
   "execution_count": 34,
   "metadata": {
    "collapsed": false
   },
   "outputs": [],
   "source": [
    "stopplot([0,5,8],value=5,num=3,stop=True,name='plots/stop120items53.pdf')\n",
    "stopplot([0,5,8],value=2,num=3,stop=True,name='plots/stop120items23.pdf')\n",
    "stopplot([0,5,8],value=5,num=10,stop=True,name='plots/stop120items510.pdf')\n",
    "stopplot([0,5,8],value=2,num=10,stop=True,name='plots/stop120items210.pdf')\n",
    "stopplot([0,5,8],value=5,num=3,stop=False,name='plots/util120items53.pdf')\n",
    "stopplot([0,5,8],value=2,num=3,stop=False,name='plots/util120items23.pdf')\n",
    "stopplot([0,5,8],value=5,num=10,stop=False,name='plots/util120items510.pdf')\n",
    "stopplot([0,5,8],value=2,num=10,stop=False,name='plots/util120items210.pdf')"
   ]
  },
  {
   "cell_type": "code",
   "execution_count": 54,
   "metadata": {
    "collapsed": false
   },
   "outputs": [],
   "source": [
    "stopplot([0,1,2],items='300',value=5,num=3,stop=True,name='plots/stop300items53.pdf')\n",
    "stopplot([0,1,2],items='300',value=2,num=3,stop=True,name='plots/stop300items23.pdf')\n",
    "stopplot([0,1,2],items='300',value=5,num=10,stop=True,name='plots/stop300items510.pdf')\n",
    "stopplot([0,1,2],items='300',value=2,num=10,stop=True,name='plots/stop300items210.pdf')\n",
    "stopplot([0,1,2],items='300',value=5,num=3,stop=False,name='plots/util300items53.pdf')\n",
    "stopplot([0,1,2],items='300',value=2,num=3,stop=False,name='plots/util300items23.pdf')\n",
    "stopplot([0,1,2],items='300',value=5,num=10,stop=False,name='plots/util300items510.pdf')\n",
    "stopplot([0,1,2],items='300',value=2,num=10,stop=False,name='plots/util300items210.pdf')"
   ]
  },
  {
   "cell_type": "code",
   "execution_count": 49,
   "metadata": {
    "collapsed": false
   },
   "outputs": [],
   "source": [
    "where,listoffiles=getfiles(start=\"stop\",items='300')"
   ]
  },
  {
   "cell_type": "code",
   "execution_count": 50,
   "metadata": {
    "collapsed": false
   },
   "outputs": [
    {
     "data": {
      "text/plain": [
       "['stop (fixed_sparse - 300 items - 30 items per resp - misinf 0 ).csv',\n",
       " 'stop (TS - 300 items - 30 items per resp - split 20 TS 10 TSx10 - misinf 0 ).csv',\n",
       " 'stop (TS - 300 items - 30 items per resp - split 30 TS 0 TSx1 - misinf 0 ).csv']"
      ]
     },
     "execution_count": 50,
     "metadata": {},
     "output_type": "execute_result"
    }
   ],
   "source": [
    "listoffiles"
   ]
  },
  {
   "cell_type": "code",
   "execution_count": 40,
   "metadata": {
    "collapsed": true
   },
   "outputs": [],
   "source": [
    "def stopplotcor(cols=[0,5],value=5,num=3,items='120',mis=0,bins=10,name='name.pdf'):\n",
    "    colors=['r','b','g','c']\n",
    "    where,listoffiles=getfiles(start=\"stop\",items=items,mis=mis)\n",
    "    for i,col in enumerate(cols):\n",
    "        f=listoffiles[col]\n",
    "        data=pd.read_csv(where+'/'+f)\n",
    "        stop=data['stop'+str(value)+'rem'+str(num)].get_values()\n",
    "        util=data['util'+str(value)+'rem'+str(num)].get_values()\n",
    "        \n",
    "        label=createlabel(f)\n",
    "        plt.plot(stop,util,color=colors[i],label=label,marker='.',linestyle='None')\n",
    "        \n",
    "    plt.ylabel('util')\n",
    "    plt.xlabel('stop')\n",
    "    plt.title('connection between util and stop for '+str(num)+ ' items using '+str(value/100)+ ' rule')\n",
    "    plt.legend(loc='best',fontsize='small')\n",
    "    plt.savefig(name, dpi=100)\n",
    "    plt.close()"
   ]
  },
  {
   "cell_type": "code",
   "execution_count": 55,
   "metadata": {
    "collapsed": false
   },
   "outputs": [],
   "source": [
    "stopplotcor(cols=[0,1,2],value=5,num=10,items='300')"
   ]
  },
  {
   "cell_type": "code",
   "execution_count": 36,
   "metadata": {
    "collapsed": true
   },
   "outputs": [],
   "source": [
    "def stopmean(cols=[0,5],value=5,num=3,items='120',mis=0):\n",
    "    colors=['r','b','g','c']\n",
    "    where,listoffiles=getfiles(start=\"stop\",items=items,mis=mis)\n",
    "    for i,col in enumerate(cols):\n",
    "        f=listoffiles[col]\n",
    "        data=pd.read_csv(where+'/'+f)\n",
    "        stop=data['stop'+str(value)+'rem'+str(num)].get_values()\n",
    "        util=data['util'+str(value)+'rem'+str(num)].get_values()\n",
    "        label=createlabel(f)\n",
    "        print(label)\n",
    "        print('mean stop:',np.mean(stop))\n",
    "        print('mean util:',np.mean(util))"
   ]
  },
  {
   "cell_type": "code",
   "execution_count": 43,
   "metadata": {
    "collapsed": false
   },
   "outputs": [
    {
     "name": "stdout",
     "output_type": "stream",
     "text": [
      "Fixed Express\n",
      "mean stop: 980.8\n",
      "mean util: 0.975844446303\n",
      "TS $\\epsilon$=0.333 $\\delta$=10\n",
      "mean stop: 440.6\n",
      "mean util: 0.99672412237\n",
      "TS $\\epsilon$=0.0 $\\delta$=1\n",
      "mean stop: 606.0\n",
      "mean util: 0.996278651102\n"
     ]
    }
   ],
   "source": [
    "stopmean(cols=[0,5,8],value=2,mis=0,num=3,items='120')"
   ]
  },
  {
   "cell_type": "code",
   "execution_count": 46,
   "metadata": {
    "collapsed": false
   },
   "outputs": [
    {
     "name": "stdout",
     "output_type": "stream",
     "text": [
      "Fixed Express\n",
      "mean stop: 1020.0\n",
      "mean util: 0.903718456084\n",
      "TS $\\epsilon$=0.333 $\\delta$=10\n",
      "mean stop: 674.2\n",
      "mean util: 0.992719902665\n",
      "TS $\\epsilon$=0.0 $\\delta$=1\n",
      "mean stop: 929.4\n",
      "mean util: 0.988091390873\n"
     ]
    }
   ],
   "source": [
    "stopmean(cols=np.arange(0,3),value=2,mis=0,num=3,items='300')"
   ]
  },
  {
   "cell_type": "code",
   "execution_count": null,
   "metadata": {
    "collapsed": true
   },
   "outputs": [],
   "source": []
  }
 ],
 "metadata": {
  "kernelspec": {
   "display_name": "Python 3",
   "language": "python",
   "name": "python3"
  },
  "language_info": {
   "codemirror_mode": {
    "name": "ipython",
    "version": 3
   },
   "file_extension": ".py",
   "mimetype": "text/x-python",
   "name": "python",
   "nbconvert_exporter": "python",
   "pygments_lexer": "ipython3",
   "version": "3.4.4"
  }
 },
 "nbformat": 4,
 "nbformat_minor": 0
}
