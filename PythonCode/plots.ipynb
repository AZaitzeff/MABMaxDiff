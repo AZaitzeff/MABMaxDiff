{
 "cells": [
  {
   "cell_type": "code",
   "execution_count": 12,
   "metadata": {
    "collapsed": true
   },
   "outputs": [],
   "source": [
    "import pandas as pd\n",
    "import matplotlib.pyplot as plt\n",
    "import numpy as np\n",
    "import os\n",
    "import seaborn"
   ]
  },
  {
   "cell_type": "code",
   "execution_count": 13,
   "metadata": {
    "collapsed": false
   },
   "outputs": [],
   "source": [
    "def getfiles(start=\"bhist\",items='120',design='v30',k='k10',schemes=['fixed_express'],mis=0):\n",
    "    listoffiles=[]\n",
    "    where='Results/'\n",
    "    kmap=getkmap()\n",
    "    for file in os.listdir(where):\n",
    "        if file.startswith(start):\n",
    "            num=[x for x in schemes if x in file]\n",
    "            if items in file and design in file and len(num)>0 and (file.endswith('mis.csv')==mis):\n",
    "                if ('test' not in file) and ('more' not in file):\n",
    "                    if kmap[file.split('-')[1]]:\n",
    "                        if k in file:\n",
    "                            #listoffiles.append(file)\n",
    "                            if file.endswith(k+'.csv'):\n",
    "                                listoffiles.append(file)\n",
    "                    else:\n",
    "                        #listoffiles.append(file)\n",
    "                        if file.endswith(design+'.csv'):\n",
    "                            listoffiles.append(file)\n",
    "            #elif items in file and design in file and len(num)>0 and (2*file.endswith('moremis.csv')==mis):\n",
    "            #    if kmap[file.split('-')[1]]:\n",
    "            #        if k in file:\n",
    "            #            listoffiles.append(file)\n",
    "                        #if file.endswith(k+'.csv'):\n",
    "                        #    listoffiles.append(file)\n",
    "            #    else:\n",
    "            #        listoffiles.append(file)\n",
    "                \n",
    "    return where,listoffiles"
   ]
  },
  {
   "cell_type": "code",
   "execution_count": 2,
   "metadata": {
    "collapsed": false
   },
   "outputs": [],
   "source": [
    "def getcolormap():\n",
    "    colormap={'TS':'Navy','TSe4':'Aqua','TSe1':'Red','TSe2':'Maroon','TSe3':'Aqua','TSthres':'Blue','TSdouble':'Navy',\n",
    "              'greedy':'Green', 'greedy3':'Green','greedythres':'Green',\n",
    "              'fixed_express':'Fuchsia','fixed_sparse':'Purple','uncert':'Red','mismin':'Maroon',\n",
    "             'TSe4apprx':'Fuchsia','TSapprox':'Fuchsia','TSe3apprx':'Purple','TSthresapprx':'Purple',\n",
    "              'TSapproxthres':'Purple','misminapprox':'Green','winmismin':'Red',\n",
    "              'TSregthres':'Teal','newTSthres':'Blue','newTSregthres':'Teal','greedynightmare':'Lime',\n",
    "              'winapprox':'Green','winapproxthres':'Lime',\n",
    "             'TSe1d2':'Red','TSe1d4':'Maroon','TSe4d0':'Green','TSe2d0':'Green','TSe2d2':'Purple',\n",
    "              'TSe4d2':'Purple','TSe2d4':'Aqua'}#:'Teal'\n",
    "    return colormap"
   ]
  },
  {
   "cell_type": "code",
   "execution_count": 3,
   "metadata": {
    "collapsed": true
   },
   "outputs": [],
   "source": [
    "def getkmap():\n",
    "    kmap={'TS':0,'TSe4':0,'TSe1':0,'TSe2':0,'TSthres':1,'TSdouble':1, 'greedy':0,'greedythres':1,\n",
    "              'fixed_express':0,'fixed_sparse':0,'uncert':1,'mismin':1,\n",
    "         'TSe4apprx':0,'TSapprox':0,'TSthresapprx':1,'TSapproxthres':1,'misminapprox':1,'TSregthres':1,\n",
    "         'newTSthres':1,'newTSregthres':1,'TSe3apprx':0,'TSe3':0,'greedy3':0,'greedynightmare':0,\n",
    "          'winapprox':0,'winapproxthres':1,'TSe1d2':0,'TSe1d4':0,'TSe4d0':0,\n",
    "          'TSe2d0':0,'TSe2d2':0,'TSe4d2':0,'TSe2d4':0,'winmismin':1}\n",
    "    return kmap"
   ]
  },
  {
   "cell_type": "code",
   "execution_count": 4,
   "metadata": {
    "collapsed": false
   },
   "outputs": [],
   "source": [
    "def getlinemap():\n",
    "    linemap={'TS':'solid','TSe4':'dashed','TSe1':'dashdot','TSe2':'dotted','TSe3':'dotted' \n",
    "             ,'TSthres':'dotted' ,'TSdouble':'dotted' ,'winmismin':'solid',\n",
    "              'greedy':'dashdot' , 'greedy3':'dotted' ,'greedythres':'dashdot' ,\n",
    "              'fixed_express':'dotted','fixed_sparse':'dotted' ,'uncert':'solid','mismin':'dashed',\n",
    "             'TSe4apprx':'dotted','TSe3apprx':'dotted','TSthresapprx':'dotted','misminapprox':'dotted',\n",
    "              'TSregthres':'dashdot',\n",
    "             'TSapprox':'dotted','TSapproxthres':'dotted',\n",
    "             'newTSthres':'dashdot','newTSregthres':'dashdot',\n",
    "             'greedynightmare':'dotted',\n",
    "              'winapprox':'solid','winapproxthres':'dashdot',\n",
    "             'TSe1d2':'dotted','TSe1d4':'solid','TSe4d0':'dotted','TSe2d0':'dotted','TSe2d2':'dashdot',\n",
    "              'TSe4d2':'dashdot','TSe2d4':'dashed'}#:'Teal'\n",
    "    return linemap"
   ]
  },
  {
   "cell_type": "code",
   "execution_count": 5,
   "metadata": {
    "collapsed": true
   },
   "outputs": [],
   "source": [
    "def getlinemap2():\n",
    "    linemap={'TS':'solid','TSe4':'dashed','TSe1':'dashdot','TSe2':'dotted','TSe3':'dotted' \n",
    "             ,'TSthres':'dotted' ,'TSdouble':'dotted' ,'winmismin':'solid',\n",
    "              'greedy':'dashdot' , 'greedy3':'dotted' ,'greedythres':'dashdot' ,\n",
    "              'fixed_express':'solid','fixed_sparse':'dotted' ,'uncert':'solid','mismin':'dashed',\n",
    "             'TSe4apprx':'dotted','TSe3apprx':'dotted','TSthresapprx':'dotted','misminapprox':'dotted',\n",
    "              'TSregthres':'dashdot',\n",
    "             'TSapprox':'dotted','TSapproxthres':'dotted',\n",
    "             'newTSthres':'dashdot','newTSregthres':'dashdot',\n",
    "             'greedynightmare':'dotted',\n",
    "              'winapprox':'solid','winapproxthres':'dashdot',\n",
    "             'TSe1d2':'dotted','TSe1d4':'solid','TSe4d0':'dotted','TSe2d0':'dotted','TSe2d2':'dashdot',\n",
    "              'TSe4d2':'dashdot','TSe2d4':'dashed'}#:'Teal'\n",
    "    return linemap"
   ]
  },
  {
   "cell_type": "code",
   "execution_count": 6,
   "metadata": {
    "collapsed": true
   },
   "outputs": [],
   "source": [
    "def getlabelmap():\n",
    "    labelmap={'TS':'TS','TSe4':r'$\\epsilon$-$\\delta$-diffuse TS ($\\epsilon=\\frac{1}{4}$,$\\delta=\\frac{1}{4}$)',\n",
    "              'TSe1':'dashdot','TSe2':'dotted','TSe3':'dotted' \n",
    "             ,'TSthres':'dotted' ,'TSdouble':'dotted' ,\n",
    "              'greedy':'$\\epsilon$-greedy' , 'greedy3':'dotted' ,\n",
    "              'greedythres':'$\\epsilon$-greedy with thresholding' ,\n",
    "              'fixed_express':'Express','fixed_sparse':'dotted' ,\n",
    "              'uncert':'max-uncert',\n",
    "              'mismin':'max-misclass',\n",
    "              'TSapprox':'TSapprox','TSapproxthres':'TSapproxthres',\n",
    "             'TSe4apprx':'dotted','TSe3apprx':'dotted','TSthresapprx':'dotted','misminapprox':'misminapprox',\n",
    "              'TSregthres':'dotted','newTSthres':'$\\epsilon$-$\\delta$-diffuse TS with thresholding',\n",
    "              'newTSregthres':'TS with thresholding',\n",
    "              'greedynightmare':'dotted',\n",
    "              'winapprox':'WinApprox','winapproxthres':'WinApprox with thresholding',\n",
    "             'TSe1d2':'dotted','TSe1d4':'solid','winmismin':'winmismin',\n",
    "              'TSe4d0':r'$\\epsilon$-$\\delta$-diffuse TS ($\\epsilon=\\frac{1}{4}$,$\\delta=0$)',\n",
    "              'TSe2d0':r'$\\epsilon$-$\\delta$-diffuse TS ($\\epsilon=\\frac{1}{2}$,$\\delta=0$)',\n",
    "              'TSe2d2':r'$\\epsilon$-$\\delta$-diffuse TS ($\\epsilon=\\frac{1}{2}$,$\\delta=\\frac{1}{2}$)',\n",
    "              'TSe4d2':r'$\\epsilon$-$\\delta$-diffuse TS ($\\epsilon=\\frac{1}{4}$,$\\delta=\\frac{1}{2}$)',\n",
    "              'TSe2d4':r'$\\epsilon$-$\\delta$-diffuse TS ($\\epsilon=\\frac{1}{2}$,$\\delta=\\frac{1}{4}$)'}#:'Teal'\n",
    "    return labelmap"
   ]
  },
  {
   "cell_type": "code",
   "execution_count": 7,
   "metadata": {
    "collapsed": false
   },
   "outputs": [],
   "source": [
    "def histplotsshort(items='120',k=10,design='v30',schemes=['fixed_express'],name='name.pdf',ylim=[.5,1],start=2,end=24,mean=1,iters=100,mis=0,low=-1):\n",
    "    where,listoffiles=getfiles(start='bhist',items=items,k='k'+str(k),design=design,schemes=schemes,mis=mis)\n",
    "    print(listoffiles)\n",
    "    if items=='300':\n",
    "        itemfile='HB_300items.csv'\n",
    "        nitems=300\n",
    "    elif items=='40':\n",
    "        itemfile='HB_40items.csv'\n",
    "        nitems=40\n",
    "    elif items=='35':\n",
    "        itemfile='ZB_35items.csv'\n",
    "        nitems=35\n",
    "    else:\n",
    "        itemfile='HB_120items.csv'\n",
    "        nitems=120\n",
    "    data1=pd.read_csv(itemfile)\n",
    "    utilsall=data1.get_values()[:,2:]\n",
    "    realmean=np.mean(utilsall,0)\n",
    "    if low<0:\n",
    "        low=k\n",
    "    topk=np.argsort(realmean)[::-1][:k]\n",
    "    itemcol=[]\n",
    "    for i in range(1,nitems+1):\n",
    "        itemcol+=['Item_'+str(i)]\n",
    "    resps=50\n",
    "    topresp=np.zeros((iters,resps))\n",
    "    resp=[x for x in range(20,1020,20)]\n",
    "    #resp=[x for x in range(10,520,10)]\n",
    "    colormap=getcolormap()\n",
    "    linemap=getlinemap()\n",
    "    labelmap=getlabelmap()\n",
    "    for file in listoffiles:\n",
    "            data=pd.read_csv(where+'/'+file)\n",
    "            label=file.split('-')[1]\n",
    "            for j in range(iters):\n",
    "                \n",
    "                iterdata=data[data['Iter']==(j+1)]\n",
    "                for i,cur in enumerate(np.argsort(iterdata[itemcol].get_values())[:,::-1][:,:low]):\n",
    "                    topresp[j,i]=(len(set.intersection(set(cur),set(topk))))/k\n",
    "            if mean==1:\n",
    "                topkmean=np.mean(topresp,0)\n",
    "            else:\n",
    "                topkmean=np.var(topresp,0)\n",
    "            #topk95=np.percentile(topresp, 90,0)\n",
    "            #topk5=np.percentile(topresp, 10,0)\n",
    "            c=colormap[label]\n",
    "            l=linemap[label]\n",
    "            lab=labelmap[label]\n",
    "            cur=plt.plot(resp[start:end+1],topkmean[start:end+1],label=lab,color=c,linestyle=l)\n",
    "            #plt.fill_between(resp[start:end+1], topk5[start:end+1], topk95[start:end+1],\n",
    "            #                 facecolor=colors[z], alpha=0.5)\n",
    "    plt.xlabel('Respondent')\n",
    "    \n",
    "    if mean==1:\n",
    "        if mis:\n",
    "            plt.legend(loc='upper left',fontsize='small')\n",
    "        else:\n",
    "            plt.legend(loc='lower right',fontsize='small')\n",
    "        plt.ylabel('Hit Rate')\n",
    "        if low==k:\n",
    "            plt.title('Top '+str(k)+' Hit Rate Over Respondents')\n",
    "        else:\n",
    "            plt.title('Top '+str(k)+' in the Top '+str(low)+' Hit Rate')\n",
    "    else:\n",
    "        plt.legend(loc='upper right',fontsize='small')\n",
    "        plt.ylabel('Var')\n",
    "        plt.title('Top '+str(k)+' Variance Over Respondents')\n",
    "    plt.ylim(ylim)\n",
    "    plt.xlim([resp[start],resp[end]])\n",
    "    plt.savefig('plots/'+name, dpi=100)\n",
    "    plt.close()"
   ]
  },
  {
   "cell_type": "code",
   "execution_count": 8,
   "metadata": {
    "collapsed": true
   },
   "outputs": [],
   "source": [
    "def histplotsPTUshort(items='120',k=10,design='v30',schemes=['fixed_express'],name='name.pdf',start=4,end=24,mean=1,mis=0):\n",
    "    if items=='300':\n",
    "        itemfile='HB_300items.csv'\n",
    "        nitems=300\n",
    "    else:\n",
    "        itemfile='HB_120items.csv'\n",
    "        nitems=120\n",
    "    where,listoffiles=getfiles(start='bhist',items=items,k='k'+str(k),design=design,schemes=schemes,mis=mis)\n",
    "    print(listoffiles)\n",
    "    data1=pd.read_csv(itemfile)\n",
    "    utilsall=data1.get_values()[:,2:]\n",
    "    realmean=np.mean(utilsall,0)\n",
    "    topk=np.argsort(realmean)[::-1][:k]\n",
    "    total=np.sum(np.exp(realmean[topk]))\n",
    "    \n",
    "    itemcol=[]\n",
    "    for i in range(1,nitems+1):\n",
    "        itemcol+=['Item_'+str(i)]\n",
    "    resps=50\n",
    "    iters=100\n",
    "    topresp=np.zeros((iters,resps))\n",
    "    resp=[x for x in range(20,1020,20)]\n",
    "    colormap=getcolormap()\n",
    "    linemap=getlinemap()\n",
    "    labelmap=getlabelmap()\n",
    "    for file in listoffiles:\n",
    "            data=pd.read_csv(where+'/'+file)\n",
    "            label=file.split('-')[1]\n",
    "            for j in range(iters):\n",
    "                \n",
    "                iterdata=data[data['Iter']==(j+1)]\n",
    "                for i,cur in enumerate(np.argsort(iterdata[itemcol].get_values())[:,::-1][:,:k]):\n",
    "                    topresp[j,i]=np.sum(np.exp(realmean[cur]))/total\n",
    "            if mean==1:\n",
    "                topkmean=np.mean(topresp,0)\n",
    "            else:\n",
    "                topkmean=np.var(topresp,0)\n",
    "            #topk95=np.percentile(topresp, 90,0)\n",
    "            #topk5=np.percentile(topresp, 10,0)\n",
    "            c=colormap[label]\n",
    "            l=linemap[label]\n",
    "            lab=labelmap[label]\n",
    "            cur=plt.plot(resp[start:end+1],topkmean[start:end+1],label=lab,color=c,linestyle=l)\n",
    "            #plt.fill_between(resp[start:end+1], topk5[start:end+1], topk95[start:end+1],\n",
    "            #                 facecolor=colors[z], alpha=0.5)\n",
    "    plt.xlabel('Respondent')\n",
    "    \n",
    "    if mean==1:\n",
    "        plt.legend(loc='lower right',fontsize='small')\n",
    "        plt.ylabel('PTU')\n",
    "        plt.title('Top '+str(k)+' PTU Over Respondents')\n",
    "    else:\n",
    "        plt.legend(loc='upper right',fontsize='small')\n",
    "        plt.ylabel('Var')\n",
    "        plt.title('Top '+str(k)+' Variance (PTU) Over Respondents')\n",
    "    \n",
    "    plt.xlim([resp[start],resp[end]])\n",
    "    plt.savefig('plots/'+name, dpi=100)\n",
    "    plt.close()"
   ]
  },
  {
   "cell_type": "code",
   "execution_count": 9,
   "metadata": {
    "collapsed": true
   },
   "outputs": [],
   "source": [
    "def getthemean(filename,colver='iteration',whichcol=['hr_top10']):\n",
    "    data=pd.read_csv(filename)\n",
    "    num=int(np.max(data[colver]))\n",
    "    meandata=data[data[colver]==1][whichcol].get_values()\n",
    "    for i in range(2,num+1):\n",
    "        meandata+=data[data[colver]==i][whichcol].get_values()\n",
    "    meandata/=num\n",
    "    return meandata"
   ]
  },
  {
   "cell_type": "code",
   "execution_count": 10,
   "metadata": {
    "collapsed": true
   },
   "outputs": [],
   "source": [
    "schemes1=['express-','greedy-','TS-','TSe4-']\n",
    "schemes2=['TS-','TSe2d2-','TSe2d4-','TSe2d0-','express-']\n",
    "schemes3=['TS-','TSe4d2-','TSe4-','TSe4d0-','express-']\n",
    "schemes4=['TS-','TSe4-','newTSthres-','newTSregthres-']\n",
    "schemes5=['TSe4-','greedy-','TS-','newTSthres-']\n",
    "schemes6=['express-','winapprox-','winapproxthres-']\n",
    "schemes7=['express-','TS-','TSe4-','newTSthres-']\n",
    "schemes8=['express-','newTSthres-','uncert-','mismin-']\n",
    "schemes9=['winapproxthres-','newTSregthres-','greedythres-']"
   ]
  },
  {
   "cell_type": "code",
   "execution_count": 14,
   "metadata": {
    "collapsed": false
   },
   "outputs": [
    {
     "name": "stdout",
     "output_type": "stream",
     "text": [
      "['bhist-fixed_express-120v20.csv', 'bhist-greedy-120v20.csv', 'bhist-TS-120v20.csv', 'bhist-TSe4-120v20.csv']\n"
     ]
    }
   ],
   "source": [
    "\n",
    "histplotsshort(name='hr120v20k3.pdf',design='v20',k=3,schemes=schemes1,ylim=[.5,1])\n"
   ]
  },
  {
   "cell_type": "code",
   "execution_count": 15,
   "metadata": {
    "collapsed": false
   },
   "outputs": [
    {
     "name": "stdout",
     "output_type": "stream",
     "text": [
      "['bhist-fixed_express-120v20.csv', 'bhist-TS-120v20.csv', 'bhist-TSe2d0-120v20.csv', 'bhist-TSe2d2-120v20.csv', 'bhist-TSe2d4-120v20.csv']\n"
     ]
    }
   ],
   "source": [
    "\n",
    "histplotsshort(name='hr120v20k10e2.pdf',design='v20',k=10,schemes=schemes2,ylim=[.5,1])\n"
   ]
  },
  {
   "cell_type": "code",
   "execution_count": 16,
   "metadata": {
    "collapsed": false
   },
   "outputs": [
    {
     "name": "stdout",
     "output_type": "stream",
     "text": [
      "['bhist-fixed_express-120v20.csv', 'bhist-TS-120v20.csv', 'bhist-TSe4-120v20.csv', 'bhist-TSe4d0-120v20.csv', 'bhist-TSe4d2-120v20.csv']\n"
     ]
    }
   ],
   "source": [
    "\n",
    "histplotsshort(name='hr120v20k10e4.pdf',design='v20',k=10,schemes=schemes3,ylim=[.5,1])"
   ]
  },
  {
   "cell_type": "code",
   "execution_count": 30,
   "metadata": {
    "collapsed": false
   },
   "outputs": [
    {
     "name": "stdout",
     "output_type": "stream",
     "text": [
      "['bhist-newTSregthres-120v20k10.csv', 'bhist-newTSthres-120v20k10.csv', 'bhist-TS-120v20.csv', 'bhist-TSe4-120v20.csv']\n",
      "['bhist-newTSregthres-120v20k20.csv', 'bhist-newTSthres-120v20k20.csv', 'bhist-TS-120v20.csv', 'bhist-TSe4-120v20.csv']\n"
     ]
    }
   ],
   "source": [
    "\n",
    "histplotsshort(name='hr120v20k10thres.pdf',design='v20',k=10,schemes=schemes4,ylim=[.5,1])\n",
    "histplotsshort(name='hr120v20k20thres.pdf',design='v20',k=20,schemes=schemes4,ylim=[.5,1])"
   ]
  },
  {
   "cell_type": "code",
   "execution_count": 29,
   "metadata": {
    "collapsed": false
   },
   "outputs": [
    {
     "name": "stdout",
     "output_type": "stream",
     "text": [
      "['bhist-greedy-120v20.csv', 'bhist-newTSthres-120v20k20.csv', 'bhist-TS-120v20.csv', 'bhist-TSe4-120v20.csv']\n"
     ]
    }
   ],
   "source": [
    "\n",
    "#histplotsshort(name='hr120v20k10thres.pdf',design='v20',k=10,schemes=schemes4,ylim=[.5,1])\n",
    "histplotsshort(name='hr120v20k20t.pdf',design='v20',k=20,schemes=schemes5,ylim=[.5,1])"
   ]
  },
  {
   "cell_type": "code",
   "execution_count": 44,
   "metadata": {
    "collapsed": false
   },
   "outputs": [
    {
     "name": "stdout",
     "output_type": "stream",
     "text": [
      "['bhist-fixed_express-120v20.csv', 'bhist-winapprox-120v20.csv', 'bhist-winapproxthres-120v20k20.csv']\n"
     ]
    }
   ],
   "source": [
    "\n",
    "#histplotsshort(name='hr120v20k10thres.pdf',design='v20',k=10,schemes=schemes4,ylim=[.5,1])\n",
    "histplotsshort(name='hr120v20k20t2.pdf',design='v20',k=20,schemes=schemes6,ylim=[.5,1])"
   ]
  },
  {
   "cell_type": "code",
   "execution_count": 47,
   "metadata": {
    "collapsed": false
   },
   "outputs": [
    {
     "name": "stdout",
     "output_type": "stream",
     "text": [
      "['bhist-fixed_express-120v20.csv', 'bhist-newTSthres-120v20k3.csv', 'bhist-TS-120v20.csv', 'bhist-TSe4-120v20.csv']\n",
      "['bhist-fixed_express-120v20.csv', 'bhist-newTSthres-120v20k10.csv', 'bhist-TS-120v20.csv', 'bhist-TSe4-120v20.csv']\n"
     ]
    }
   ],
   "source": [
    "\n",
    "#histplotsshort(name='hr120v20k10thres.pdf',design='v20',k=10,schemes=schemes4,ylim=[.5,1])\n",
    "histplotsshort(name='hr120v20k3TS.pdf',design='v20',k=3,schemes=schemes7,ylim=[.5,1])\n",
    "histplotsshort(name='hr120v20k10TS.pdf',design='v20',k=10,schemes=schemes7,ylim=[.5,1])"
   ]
  },
  {
   "cell_type": "code",
   "execution_count": 52,
   "metadata": {
    "collapsed": false
   },
   "outputs": [
    {
     "name": "stdout",
     "output_type": "stream",
     "text": [
      "['bhist-fixed_express-120v20.csv', 'bhist-mismin-120v20k3.csv', 'bhist-newTSthres-120v20k3.csv', 'bhist-uncert-120v20k3.csv']\n",
      "['bhist-fixed_express-120v20.csv', 'bhist-mismin-120v20k10.csv', 'bhist-newTSthres-120v20k10.csv', 'bhist-uncert-120v20k10.csv']\n",
      "['bhist-fixed_express-120v20.csv', 'bhist-mismin-120v20k20.csv', 'bhist-newTSthres-120v20k20.csv', 'bhist-uncert-120v20k20.csv']\n",
      "['bhist-fixed_express-120v20.csv', 'bhist-mismin-120v20k40.csv', 'bhist-newTSthres-120v20k40.csv', 'bhist-uncert-120v20k40.csv']\n"
     ]
    }
   ],
   "source": [
    "\n",
    "histplotsshort(name='hr120v20k3.pdf',design='v20',k=3,schemes=schemes8,ylim=[.5,1])\n",
    "histplotsshort(name='hr120v20k10.pdf',design='v20',k=10,schemes=schemes8,ylim=[.5,1])\n",
    "histplotsshort(name='hr120v20k20.pdf',design='v20',k=20,schemes=schemes8,ylim=[.5,1])\n",
    "histplotsshort(name='hr120v20k40.pdf',design='v20',k=40,schemes=schemes8,ylim=[.5,1])"
   ]
  },
  {
   "cell_type": "code",
   "execution_count": 55,
   "metadata": {
    "collapsed": false
   },
   "outputs": [
    {
     "name": "stdout",
     "output_type": "stream",
     "text": [
      "['bhist-fixed_express-120v20.csv', 'bhist-newTSthres-120v20k20.csv', 'bhist-TS-120v20.csv', 'bhist-TSe4-120v20.csv']\n"
     ]
    }
   ],
   "source": [
    "histplotsPTUshort(name='PTU120v20k20.pdf',design='v20',k=20,schemes=schemes7)"
   ]
  },
  {
   "cell_type": "code",
   "execution_count": 36,
   "metadata": {
    "collapsed": false
   },
   "outputs": [
    {
     "name": "stdout",
     "output_type": "stream",
     "text": [
      "['bhist-fixed_express-35v15.csv', 'bhist-greedy-35v15.csv', 'bhist-mismin-35v15k3.csv', 'bhist-TS-35v15.csv', 'bhist-TSe4-35v15.csv', 'bhist-uncert-35v15k3.csv', 'bhist-winapprox-35v15.csv']\n",
      "['bhist-fixed_express-35v15.csv', 'bhist-greedythres-35v15k10.csv', 'bhist-mismin-35v15k10.csv', 'bhist-newTSregthres-35v15k10.csv', 'bhist-newTSthres-35v15k10.csv', 'bhist-uncert-35v15k10.csv', 'bhist-winapproxthres-35v15k10.csv']\n"
     ]
    }
   ],
   "source": [
    "histplotsshort(name='hr35v15k3.pdf',items='35',design='v15',k=3,schemes=schemes5+schemes6+schemes8,ylim=[.5,1],end=49)\n",
    "histplotsshort(name='hr35v15k10.pdf',items='35',design='v15',k=10,schemes=schemes8+schemes9,ylim=[.5,1],end=49)"
   ]
  },
  {
   "cell_type": "code",
   "execution_count": 14,
   "metadata": {
    "collapsed": false
   },
   "outputs": [
    {
     "name": "stdout",
     "output_type": "stream",
     "text": [
      "['bhist-fixed_express-120v20.csv', 'bhist-greedythres-120v20k10.csv', 'bhist-newTSregthres-120v20k10.csv', 'bhist-winapprox-120v20.csv', 'bhist-winapproxthres-120v20k10.csv']\n"
     ]
    }
   ],
   "source": [
    "histplotsshort(name='hr120v20k10check.pdf',design='v20',k=10,schemes=schemes6+['newTSregthres']+['greedythres'],ylim=[.5,1])"
   ]
  },
  {
   "cell_type": "code",
   "execution_count": 20,
   "metadata": {
    "collapsed": false
   },
   "outputs": [
    {
     "name": "stdout",
     "output_type": "stream",
     "text": [
      "['bhist-mismin-120v20k10.csv', 'bhist-misminapprox-120v20k10.csv', 'bhist-TSapprox-120v20.csv', 'bhist-TSapproxthres-120v20k10.csv', 'bhist-winapprox-120v20.csv', 'bhist-winapproxthres-120v20k10.csv', 'bhist-winmismin-120v20k10.csv']\n",
      "['bhist-mismin-120v20k20.csv', 'bhist-misminapprox-120v20k20.csv', 'bhist-TSapprox-120v20.csv', 'bhist-winapprox-120v20.csv', 'bhist-winapproxthres-120v20k20.csv', 'bhist-winmismin-120v20k20.csv']\n"
     ]
    }
   ],
   "source": [
    "schemes20=['TSapprox-','TSapproxthres-','misminapprox-','mismin-','winmismin-','winapprox-','winapproxthres-']\n",
    "histplotsshort(name='hr120v20k10apporx.pdf',design='v20',k=10,schemes=schemes20,ylim=[.5,1])\n",
    "histplotsshort(name='hr120v20k20apporx.pdf',design='v20',k=20,schemes=schemes20,ylim=[.5,1])"
   ]
  },
  {
   "cell_type": "code",
   "execution_count": 66,
   "metadata": {
    "collapsed": false
   },
   "outputs": [
    {
     "name": "stdout",
     "output_type": "stream",
     "text": [
      "['bhist-fixed_express-120v20k3-mis.csv', 'bhist-greedy-120v20-mis.csv', 'bhist-TS-120v20-mis.csv', 'bhist-TSe4-120v20-mis.csv']\n",
      "['bhist-fixed_express-120v20k3-mis.csv', 'bhist-mismin-120v20k3-mis.csv', 'bhist-newTSthres-120v20k3-mis.csv', 'bhist-uncert-120v20k3-mis.csv']\n"
     ]
    }
   ],
   "source": [
    "schemes7=['express-','TS-','TSe4-','greedy-']\n",
    "schemes8=['express-','newTSthres-','uncert-','mismin-']\n",
    "histplotsshort(name='hr120v20k3mis1.pdf',design='v20',k=3,schemes=schemes7,ylim=[0,.7],mis=1)\n",
    "histplotsshort(name='hr120v20k3mis2.pdf',design='v20',k=3,schemes=schemes8,ylim=[0,.7],mis=1)"
   ]
  },
  {
   "cell_type": "code",
   "execution_count": 67,
   "metadata": {
    "collapsed": false
   },
   "outputs": [
    {
     "name": "stdout",
     "output_type": "stream",
     "text": [
      "['bhist-fixed_express-120v20k3-mis.csv', 'bhist-greedy-120v20-mis.csv', 'bhist-TS-120v20-mis.csv', 'bhist-TSe4-120v20-mis.csv']\n",
      "['bhist-fixed_express-120v20k3-mis.csv', 'bhist-mismin-120v20k3-mis.csv', 'bhist-newTSthres-120v20k3-mis.csv', 'bhist-uncert-120v20k3-mis.csv']\n"
     ]
    }
   ],
   "source": [
    "schemes7=['express-','TS-','TSe4-','greedy-']\n",
    "schemes8=['express-','newTSthres-','uncert-','mismin-']\n",
    "histplotsshort(name='hr120v20k3mis1top5.pdf',design='v20',k=3,schemes=schemes7,ylim=[0,1],mis=1,low=5)\n",
    "histplotsshort(name='hr120v20k3mis2top5.pdf',design='v20',k=3,schemes=schemes8,ylim=[0,1],mis=1,low=5)"
   ]
  },
  {
   "cell_type": "code",
   "execution_count": 68,
   "metadata": {
    "collapsed": false
   },
   "outputs": [
    {
     "name": "stdout",
     "output_type": "stream",
     "text": [
      "['bhist-fixed_express-120v20-moremis.csv', 'bhist-greedy-120v20-moremis.csv', 'bhist-TS-120v20-moremis.csv', 'bhist-TSe4-120v20-moremis.csv']\n",
      "['bhist-fixed_express-120v20-moremis.csv', 'bhist-mismin-120v20k3-moremis.csv']\n"
     ]
    }
   ],
   "source": [
    "schemes7=['express-','TS-','TSe4-','greedy-']\n",
    "schemes8=['express-','newTSthres-','uncert-','mismin-']\n",
    "histplotsshort(name='hr120v20k3moremis1.pdf',design='v20',k=3,schemes=schemes7,ylim=[0,.2],mis=2)\n",
    "histplotsshort(name='hr120v20k3moremis2.pdf',design='v20',k=3,schemes=schemes8,ylim=[0,.2],mis=2)"
   ]
  },
  {
   "cell_type": "code",
   "execution_count": 35,
   "metadata": {
    "collapsed": false
   },
   "outputs": [
    {
     "name": "stdout",
     "output_type": "stream",
     "text": [
      "['bhist-fixed_express-120v20-moremis.csv', 'bhist-greedy-120v20-moremis.csv', 'bhist-TS-120v20-moremis.csv', 'bhist-TSe4-120v20-moremis.csv']\n",
      "['bhist-fixed_express-120v20-moremis.csv', 'bhist-mismin-120v20k3-moremis.csv']\n"
     ]
    }
   ],
   "source": [
    "schemes7=['express-','TS-','TSe4-','greedy-']\n",
    "schemes8=['express-','newTSthres-','uncert-','mismin-']\n",
    "histplotsshort(name='hr120v20k3moremis1top10.pdf',design='v20',k=3,schemes=schemes7,ylim=[0,1],mis=2,low=10)\n",
    "histplotsshort(name='hr120v20k3moremis2top10.pdf',design='v20',k=3,schemes=schemes8,ylim=[0,1],mis=2,low=10)"
   ]
  },
  {
   "cell_type": "code",
   "execution_count": null,
   "metadata": {
    "collapsed": true
   },
   "outputs": [],
   "source": []
  }
 ],
 "metadata": {
  "kernelspec": {
   "display_name": "Python 3",
   "language": "python",
   "name": "python3"
  },
  "language_info": {
   "codemirror_mode": {
    "name": "ipython",
    "version": 3
   },
   "file_extension": ".py",
   "mimetype": "text/x-python",
   "name": "python",
   "nbconvert_exporter": "python",
   "pygments_lexer": "ipython3",
   "version": "3.4.4"
  }
 },
 "nbformat": 4,
 "nbformat_minor": 0
}
