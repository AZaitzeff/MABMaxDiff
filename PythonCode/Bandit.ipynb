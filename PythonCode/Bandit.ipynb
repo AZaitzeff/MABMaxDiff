{
 "cells": [
  {
   "cell_type": "code",
   "execution_count": 1,
   "metadata": {
    "collapsed": false
   },
   "outputs": [
    {
     "name": "stderr",
     "output_type": "stream",
     "text": [
      ":0: FutureWarning: IPython widgets are experimental and may change in the future.\n"
     ]
    }
   ],
   "source": [
    "import matplotlib\n",
    "matplotlib.use(\"Agg\")\n",
    "import matplotlib.pyplot as plt\n",
    "import matplotlib.animation as animation\n",
    "import numpy as np\n",
    "import seaborn\n",
    "import scipy.stats as stats"
   ]
  },
  {
   "cell_type": "code",
   "execution_count": 2,
   "metadata": {
    "collapsed": true
   },
   "outputs": [],
   "source": [
    "def sim_data(x, k):\n",
    "    \"\"\"\n",
    "    Generate samples from beta distributions whose parameters are given\n",
    "    by the rows of x.\n",
    "    Inputs:\n",
    "        x -- nx2 array\n",
    "        k -- number of samples to generate for each row of x\n",
    "    Outpus:\n",
    "        samples -- kxn array, each column consists of k independent\n",
    "                   draws from a beta distribution with parameters given\n",
    "                   by the corresponding row of x.\n",
    "    \"\"\"\n",
    "    n = x.shape[0]\n",
    "    samples = np.empty((k,n))\n",
    "    for i in range(n):\n",
    "        samples[:,i] = np.random.beta(x[i,0], x[i,1], k)\n",
    "    return samples\n",
    "\n",
    "def arm_probs(x):\n",
    "    \"\"\"\n",
    "    Calculate probabilities of each arm being the best.\n",
    "    Inputs:\n",
    "        x -- k by n array, where the i-th column gives\n",
    "             k draws for p_i\n",
    "    Returns:\n",
    "        probs -- length n array. The i-th entry is the number\n",
    "                 of rows of x in which the draw for p_i is \n",
    "                 the largest in its row, divided by k.\n",
    "    \"\"\"\n",
    "    k, n = x.shape\n",
    "    amx = np.argmax(x, axis=1)\n",
    "    probs = np.zeros(n)\n",
    "    for i in range(n):\n",
    "        probs[i] = (amx==i).sum()\n",
    "    return probs/k\n",
    "    \n",
    "def get_pulls(x, M):\n",
    "    \"\"\"\n",
    "    Compute the number of times to pull each arm\n",
    "    in the next M pulls, based on the probability\n",
    "    that each arm is the best.\n",
    "    Inputs:\n",
    "        x -- length n stochastic array giving probabilities\n",
    "             of each of the n arms being the best.\n",
    "        M -- number of pulls to make\n",
    "    Returns:\n",
    "        pulls -- length n array giving the number of pulls for \n",
    "                 each arm. Entries must sum to M.\n",
    "    \"\"\"\n",
    "    n = x.size\n",
    "    pulls = np.floor(M*np.ones(n)*x)\n",
    "    excess = M - pulls.sum()\n",
    "    ind = np.random.permutation(n)[:excess]\n",
    "    pulls[ind] += 1\n",
    "    \n",
    "    return pulls\n",
    "    \n",
    "def sim_day(cvr, state):\n",
    "    \"\"\"\n",
    "    Simulate one day in the web page experiment.\n",
    "    Inputs:\n",
    "        cvr -- length n flat array, giving true CvR for each webpage\n",
    "        state -- n x 2 array giving the beta parameters for each webpage\n",
    "    Returns:\n",
    "        state -- n x 2 array giving updated beta parameters\n",
    "        pulls -- length n flat array giving number of pulls assigned to each arm\n",
    "                 in the final 50 pulls of the day.\n",
    "    \"\"\"\n",
    "    state = state.copy()\n",
    "    n = state.shape[0]\n",
    "    for j in range(2):\n",
    "        x = sim_data(state, 100)\n",
    "        weights = arm_probs(x)\n",
    "        pulls = get_pulls(weights, 1)\n",
    "        for i in range(n):\n",
    "            conversions = np.random.binomial(pulls[i], cvr[i]) \n",
    "            state[i, 0] += conversions\n",
    "            state[i,1] += pulls[i] - conversions\n",
    "    return state, pulls\n",
    "    \n",
    "    \n",
    "def val_remaining(data, prob):\n",
    "    \"\"\"\n",
    "    Calculate the potential remaining value from simulated data and\n",
    "    probility vector.\n",
    "    \"\"\"\n",
    "    champ_ind = np.argmax(prob)\n",
    "    thetaM = np.amax(data,1)\n",
    "    valrem = (thetaM - data[:,champ_ind])/data[:,champ_ind]\n",
    "    pvr = sp.stats.mstats.mquantiles(valrem ,.95)\n",
    "    return pvr\n",
    "    \n",
    "def sim_experiment(cvr):\n",
    "    \"\"\"\n",
    "    Simulate the webpage design experiment based on the Google Analytics approach.\n",
    "    Inputs:\n",
    "        cvr -- length n flat array of true CvR for each webpage.\n",
    "    Returns:\n",
    "        state -- n x 2 array giving final beta parameters for each webpage.\n",
    "        pulls -- d x n array (d is the number of iterations) giving the \n",
    "                 pulls assigned to each webpage in each iteration.\n",
    "        best -- integer, giving the index of the best webpage.\n",
    "        days -- number of iterations.\n",
    "    \"\"\"\n",
    "    n_sim = 100\n",
    "    n = cvr.size\n",
    "    state = np.ones((n,2))\n",
    "    days = 0\n",
    "    max_prob = 0\n",
    "    max_pbar = 0\n",
    "    pvr = 1\n",
    "    pull_list = []\n",
    "    while (days<14) or (max_prob <= .95 and max_pbar/100. <= pvr):\n",
    "        days += 1\n",
    "        state, pulls = sim_day(cvr, state)\n",
    "        pull_list.append(pulls)\n",
    "        data = sim_data(state, n_sim)\n",
    "        probs = arm_probs(data)\n",
    "        max_ind = np.argmax(probs)\n",
    "        max_prob = probs[max_ind]\n",
    "        max_pbar = state[max_ind, 0]/(state[max_ind,:].sum())\n",
    "        pvr = val_remaining(data, probs)\n",
    "    return state, np.array(pull_list),max_ind, "
   ]
  },
  {
   "cell_type": "code",
   "execution_count": 3,
   "metadata": {
    "collapsed": true
   },
   "outputs": [],
   "source": [
    "def sim_experiment(cvr,maxdays):\n",
    "    \"\"\"\n",
    "    Simulate the webpage design experiment based on the Google Analytics approach.\n",
    "    Inputs:\n",
    "        cvr -- length n flat array of true CvR for each webpage.\n",
    "    Returns:\n",
    "        state -- n x 2 array giving final beta parameters for each webpage.\n",
    "        pulls -- d x n array (d is the number of iterations) giving the \n",
    "                 pulls assigned to each webpage in each iteration.\n",
    "        best -- integer, giving the index of the best webpage.\n",
    "        days -- number of iterations.\n",
    "    \"\"\"\n",
    "    n_sim = 1\n",
    "    n = cvr.size\n",
    "    state = np.ones((n,2))\n",
    "    states = np.zeros((n,2,maxdays+1))\n",
    "    max_prob = 0\n",
    "    max_pbar = 0\n",
    "    pvr = 1\n",
    "    pull_list = []\n",
    "    for day in range(maxdays):\n",
    "        states[:,:,day]=np.copy(state)\n",
    "        pull=sim_data(state, 1)\n",
    "        amx = np.argmax(pull, axis=1)\n",
    "        conversions = np.random.binomial(1, cvr[amx]) \n",
    "        state[amx, 0] += conversions\n",
    "        state[amx,1] += 1 - conversions\n",
    "    states[:,:,-1]=np.copy(state)\n",
    "    return states"
   ]
  },
  {
   "cell_type": "code",
   "execution_count": 157,
   "metadata": {
    "collapsed": false
   },
   "outputs": [
    {
     "data": {
      "text/plain": [
       "array([[  50.,   50.],\n",
       "       [  75.,   59.],\n",
       "       [ 160.,  112.]])"
      ]
     },
     "execution_count": 157,
     "metadata": {},
     "output_type": "execute_result"
    }
   ],
   "source": [
    "csr=np.array([.43,.52,.61])\n",
    "data=sim_experiment(csr,500)\n",
    "data[:,:,-1]"
   ]
  },
  {
   "cell_type": "code",
   "execution_count": 146,
   "metadata": {
    "collapsed": true
   },
   "outputs": [],
   "source": [
    "def makplots(data,csr,day):\n",
    "    n_groups,win,numdays=np.shape(data)\n",
    "    themax=np.max(data)\n",
    "    index = np.arange(n_groups)\n",
    "    bar_width = 0.35\n",
    "\n",
    "    opacity = 0.4\n",
    "    error_config = {'ecolor': '0.3'}\n",
    "    rects2 = plt.bar(index + bar_width, data[:,0,day], bar_width,\n",
    "                     alpha=opacity+.5,\n",
    "                     color=['b','g','r'],\n",
    "                     label='Successes')\n",
    "    rects1 = plt.bar(index, data[:,1,day], bar_width,\n",
    "                     alpha=opacity,\n",
    "                     color=['b','g','r'],\n",
    "                     label='Failures')\n",
    "    for i in range(n_groups):\n",
    "        plt.text(index[i] + bar_width*3/4,themax+2,str(100*data[i,0,day]/(sum(data[i,:,day])))[:5]+'%')\n",
    "    #plt.xlabel('Machine')\n",
    "    plt.ylim([0,themax])\n",
    "    plt.ylabel('Times')\n",
    "    #plt.title('Trial '+str(day+1))\n",
    "    plt.title('Percent Successful:\\n')\n",
    "    csrsrt=['Losses        Wins\\n'+str(x) for x in csr]\n",
    "    plt.xticks(index + bar_width*.95, csrsrt)\n",
    "    #plt.legend(loc='best')\n"
   ]
  },
  {
   "cell_type": "code",
   "execution_count": 106,
   "metadata": {
    "collapsed": false
   },
   "outputs": [],
   "source": [
    "makplots(data,csr,day=500)\n",
    "plt.show()"
   ]
  },
  {
   "cell_type": "code",
   "execution_count": null,
   "metadata": {
    "collapsed": false
   },
   "outputs": [],
   "source": []
  },
  {
   "cell_type": "code",
   "execution_count": 147,
   "metadata": {
    "collapsed": true
   },
   "outputs": [],
   "source": [
    "def makplots2(data,csr,day):\n",
    "    colors=['b','g','r']\n",
    "    n_groups,win,numdays=np.shape(data)\n",
    "    x=np.linspace(0,1,1000)\n",
    "    for i in range(n_groups-1,-1,-1):\n",
    "        plt.fill_between(x,0, stats.beta.pdf(x,data[i,0,day], data[i,1,day]),\n",
    "                                             label=csr[i],\n",
    "                                             alpha=.6,facecolor=colors[i])\n",
    "        plt.axvline(data[i,0,day]/(data[i,0,day]+data[i,1,day]),color=colors[i])\n",
    "    plt.legend(loc='upper right')\n",
    "    "
   ]
  },
  {
   "cell_type": "code",
   "execution_count": 17,
   "metadata": {
    "collapsed": false
   },
   "outputs": [],
   "source": [
    "makplots2(data,csr,day=100)\n",
    "plt.show()"
   ]
  },
  {
   "cell_type": "code",
   "execution_count": 148,
   "metadata": {
    "collapsed": true
   },
   "outputs": [],
   "source": [
    "def animate(data,csr,name):\n",
    "    n_groups,win,numdays=np.shape(data)\n",
    "    fig = plt.figure()\n",
    "    def updatefig(ts):\n",
    "        fig.clear()\n",
    "        plt.subplot(211)\n",
    "        makplots(data,csr,day=ts)\n",
    "        plt.subplot(212)\n",
    "        makplots2(data,csr,day=ts)\n",
    "        plt.draw()\n",
    "    anim = animation.FuncAnimation(fig, updatefig, numdays-1)\n",
    "    anim.save(name+'.mp4', fps=25)\n",
    "    plt.clf()"
   ]
  },
  {
   "cell_type": "code",
   "execution_count": 158,
   "metadata": {
    "collapsed": false
   },
   "outputs": [],
   "source": [
    "animate(data,csr,'bandit')"
   ]
  },
  {
   "cell_type": "code",
   "execution_count": null,
   "metadata": {
    "collapsed": true
   },
   "outputs": [],
   "source": []
  }
 ],
 "metadata": {
  "kernelspec": {
   "display_name": "Python 3",
   "language": "python",
   "name": "python3"
  },
  "language_info": {
   "codemirror_mode": {
    "name": "ipython",
    "version": 3
   },
   "file_extension": ".py",
   "mimetype": "text/x-python",
   "name": "python",
   "nbconvert_exporter": "python",
   "pygments_lexer": "ipython3",
   "version": "3.5.3"
  }
 },
 "nbformat": 4,
 "nbformat_minor": 0
}
