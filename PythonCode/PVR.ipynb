{
 "cells": [
  {
   "cell_type": "code",
   "execution_count": 1,
   "metadata": {
    "collapsed": true
   },
   "outputs": [],
   "source": [
    "import pandas as pd\n",
    "import numpy as np"
   ]
  },
  {
   "cell_type": "code",
   "execution_count": 2,
   "metadata": {
    "collapsed": false
   },
   "outputs": [],
   "source": [
    "def estimateparamsbayes(X,questions,allbest,allworst,w0=[],weights=[],tol=.0001,maxiter=100):\n",
    "    tol=.001\n",
    "    val=1\n",
    "    [numofq,nitems]=X.shape\n",
    "    if len(w0)<nitems or (np.abs(w0)>4).any():\n",
    "        w=np.zeros(nitems)    \n",
    "    else:\n",
    "        w=w0.copy()\n",
    "    if len(weights)<numofq:\n",
    "        weights=np.ones(numofq)\n",
    "    iternum=0\n",
    "    nb=np.bincount(allbest,weights,minlength=nitems)\n",
    "    nw=np.bincount(allworst,weights,minlength=nitems)\n",
    "    try:\n",
    "        while val>tol and iternum<maxiter:\n",
    "            zb=np.sum(np.exp(w[questions]),1)\n",
    "            zw=np.sum(np.exp(-w[questions]),1)\n",
    "            Pb=((1/zb*X.T).T*np.exp(w))#broadcasting\n",
    "            Pw=((1/zw*X.T).T*np.exp(-w))#broadcasting\n",
    "            wPb=(Pb.T*weights).T\n",
    "            wPw=(Pw.T*weights).T\n",
    "            gradb=nb-np.sum(wPb,0)\n",
    "            gradw=-nw+np.sum(wPw,0)\n",
    "            grad=-(gradb+gradw)\n",
    "            Hb=np.dot(wPb.T,Pb)\n",
    "            Hbd=-np.sum(wPb*(1-Pb),0)\n",
    "            Hb+=-np.diag(np.diag(Hb))+np.diag(Hbd)\n",
    "            Hw=np.dot(wPw.T,Pw)\n",
    "            Hwd=-np.sum(wPw*(1-Pw),0)\n",
    "            Hw+=-np.diag(np.diag(Hw))+np.diag(Hwd)\n",
    "            H=-(Hb+Hw)\n",
    "            gradl=grad[:-1]\n",
    "            Hl=H[:-1,:-1]\n",
    "            Hinvgradl=np.linalg.solve(Hl,gradl)\n",
    "            w[:-1]=w[:-1]-Hinvgradl\n",
    "            val=np.dot(gradl,Hinvgradl)\n",
    "            iternum+=1\n",
    "    except np.linalg.linalg.LinAlgError:\n",
    "        return np.random.randn(nitems)/4\n",
    "    if np.isnan(w).any():\n",
    "        raise Exception('w contains nan')\n",
    "    return w"
   ]
  },
  {
   "cell_type": "code",
   "execution_count": null,
   "metadata": {
    "collapsed": true
   },
   "outputs": [],
   "source": [
    "def calculatePVR(filename=\"TS-120v20\"):\n",
    "    data=pd.read_csv('Results/choice_data-'+filename+'.csv')\n",
    "    bhist=pd.read_csv('Results/bhist-'+filename+'.csv')\n",
    "    itemcol=[]\n",
    "    itemnum=120\n",
    "    for i in range(1,itemnum+1):\n",
    "        itemcol+=['Item_'+str(i)]\n",
    "    iters=int(np.max(bhist['Iter']))\n",
    "    respnums=(bhist[bhist['Iter']==1]['RespNum'].get_values()).astype(int)\n",
    "    resplen=len(respnums)\n",
    "    choicecol=['Choice1','Choice2', 'Choice3', 'Choice4', 'Choice5']\n",
    "    pvrfull=np.zeros((resplen*iters,3))\n",
    "    for iternum in range(1,iters+1):\n",
    "        for i,resp in enumerate(respnums):\n",
    "            choices=data[np.logical_and(data['Iter']==iternum,data['RespIDNum']<=resp)][choicecol].get_values()-1\n",
    "            best=data[np.logical_and(data['Iter']==iternum,data['RespIDNum']<=resp)]['Best'].get_values()-1\n",
    "            worst=data[np.logical_and(data['Iter']==iternum,data['RespIDNum']<=resp)]['Worst'].get_values()-1\n",
    "            curbeta=bhist[np.logical_and(bhist['Iter']==iternum,bhist['RespNum']==resp)][itemcol].get_values()[0]\n",
    "            [numofq,items]=choices.shape\n",
    "            X=np.zeros((numofq,itemnum))\n",
    "            for z,row in enumerate(choices):\n",
    "                X[z,row]=1\n",
    "            N=100\n",
    "            draws=np.zeros((N,itemnum))\n",
    "            for j in range(N):\n",
    "                weights=np.random.exponential(1,numofq)\n",
    "                draws[j]=estimateparamsbayes(X,choices,best,worst,weights=weights)\n",
    "            k=10\n",
    "            rank=np.argsort(curbeta)[::-1]\n",
    "            valstar=np.sum(np.exp(draws[:,rank[:k]]),1)\n",
    "            valmax=np.sum(np.exp(np.sort(draws,1)[:,::-1][:,:k]),1)\n",
    "            vrhist=(valmax-valstar)/valstar\n",
    "            pvrfull[(iternum-1)*resplen+i,0]=iternum\n",
    "            pvrfull[(iternum-1)*resplen+i,1]=resp\n",
    "            pvrfull[(iternum-1)*resplen+i,2]=np.percentile(vrhist,95)\n",
    "    pvrfull_df=pd.DataFrame(pvrfull)\n",
    "    pvrfull_df.columns=[\"Iter\",\"RespNum\",\"PVR\"]\n",
    "    pvrfull_df.to_csv(\"Results/PVR-\"+filename+\".csv\")"
   ]
  },
  {
   "cell_type": "code",
   "execution_count": 27,
   "metadata": {
    "collapsed": false
   },
   "outputs": [
    {
     "data": {
      "text/plain": [
       "6.666666666666667"
      ]
     },
     "execution_count": 27,
     "metadata": {},
     "output_type": "execute_result"
    }
   ],
   "source": [
    "pvrfull_df.to_csv(\"Results/PVR-\"+filename+\".csv\")"
   ]
  },
  {
   "cell_type": "code",
   "execution_count": 28,
   "metadata": {
    "collapsed": true
   },
   "outputs": [],
   "source": [
    "add=''\n",
    "pvrfull_df.to_csv(\"Results/PVR-\"+filename+add+\".csv\")"
   ]
  },
  {
   "cell_type": "code",
   "execution_count": null,
   "metadata": {
    "collapsed": true
   },
   "outputs": [],
   "source": []
  },
  {
   "cell_type": "code",
   "execution_count": 11,
   "metadata": {
    "collapsed": true
   },
   "outputs": [],
   "source": []
  },
  {
   "cell_type": "code",
   "execution_count": 21,
   "metadata": {
    "collapsed": true
   },
   "outputs": [],
   "source": []
  },
  {
   "cell_type": "code",
   "execution_count": 22,
   "metadata": {
    "collapsed": false
   },
   "outputs": [],
   "source": []
  },
  {
   "cell_type": "code",
   "execution_count": 25,
   "metadata": {
    "collapsed": false
   },
   "outputs": [],
   "source": []
  },
  {
   "cell_type": "code",
   "execution_count": 15,
   "metadata": {
    "collapsed": false
   },
   "outputs": [
    {
     "data": {
      "text/plain": [
       "4.0"
      ]
     },
     "execution_count": 15,
     "metadata": {},
     "output_type": "execute_result"
    }
   ],
   "source": []
  },
  {
   "cell_type": "code",
   "execution_count": null,
   "metadata": {
    "collapsed": true
   },
   "outputs": [],
   "source": []
  }
 ],
 "metadata": {
  "kernelspec": {
   "display_name": "Python 3",
   "language": "python",
   "name": "python3"
  },
  "language_info": {
   "codemirror_mode": {
    "name": "ipython",
    "version": 3
   },
   "file_extension": ".py",
   "mimetype": "text/x-python",
   "name": "python",
   "nbconvert_exporter": "python",
   "pygments_lexer": "ipython3",
   "version": "3.4.4"
  }
 },
 "nbformat": 4,
 "nbformat_minor": 0
}
