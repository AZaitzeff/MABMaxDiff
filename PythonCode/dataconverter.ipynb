{
 "cells": [
  {
   "cell_type": "code",
   "execution_count": 1,
   "metadata": {
    "collapsed": true
   },
   "outputs": [],
   "source": [
    "import numpy as np\n",
    "import pandas as pd"
   ]
  },
  {
   "cell_type": "code",
   "execution_count": 3,
   "metadata": {
    "collapsed": false
   },
   "outputs": [
    {
     "data": {
      "text/plain": [
       "557.0"
      ]
     },
     "execution_count": 3,
     "metadata": {},
     "output_type": "execute_result"
    }
   ],
   "source": [
    "94133/169"
   ]
  },
  {
   "cell_type": "code",
   "execution_count": 2,
   "metadata": {
    "collapsed": false
   },
   "outputs": [],
   "source": [
    "def estimateparams(X,questions,allbest,allworst,pw,pH,w0=[],tol=.0001,maxiter=100,hessian=0):\n",
    "    tol=.001\n",
    "    val=1\n",
    "    [numofq,nitems]=X.shape\n",
    "    if len(w0)<nitems or (np.abs(w0)>4).any():\n",
    "        w=np.zeros(nitems)    \n",
    "    else:\n",
    "        w=w0.copy()\n",
    "    iternum=0\n",
    "    nb=np.bincount(allbest,minlength=nitems)\n",
    "    nw=np.bincount(allworst,minlength=nitems)\n",
    "    try:\n",
    "        while val>tol and iternum<maxiter:\n",
    "            zb=np.sum(np.exp(w[questions]),1)\n",
    "            zw=np.sum(np.exp(-w[questions]),1)\n",
    "            Pb=((1/(zb)*X.T).T*np.exp(w))#broadcasting\n",
    "            Pw=((1/(zw)*X.T).T*np.exp(-w))#broadcasting\n",
    "            gradb=nb-np.sum(Pb,0)\n",
    "            gradw=-nw+np.sum(Pw,0)\n",
    "            grad=-(gradb+gradw)+np.dot(w-pw,pH)\n",
    "            Hb=np.dot(Pb.T,Pb)\n",
    "            Hbd=-np.sum(Pb*(1-Pb),0)\n",
    "            Hb+=-np.diag(np.diag(Hb))+np.diag(Hbd)\n",
    "            Hw=np.dot(Pw.T,Pw)\n",
    "            Hwd=-np.sum(Pw*(1-Pw),0)\n",
    "            Hw+=-np.diag(np.diag(Hw))+np.diag(Hwd)\n",
    "            H=-(Hb+Hw)+pH\n",
    "            gradl=grad[:-1]\n",
    "            Hl=H[:-1,:-1]\n",
    "            #Hlinv=np.linalg.pinv(Hl)\n",
    "            #Hinvgradl=np.dot(Hlinv,gradl)\n",
    "            Hinvgradl=np.linalg.solve(Hl,gradl)\n",
    "            w[:-1]=w[:-1]-Hinvgradl\n",
    "            val=np.dot(gradl,Hinvgradl)\n",
    "            iternum+=1\n",
    "    except np.linalg.linalg.LinAlgError:\n",
    "        print('error')\n",
    "        print(numofq)\n",
    "        if hessian:\n",
    "            return np.random.randn(nitems)/4,np.eye(nitems-1)\n",
    "        else:\n",
    "            return np.random.randn(nitems)/4\n",
    "    if np.isnan(w).any():\n",
    "        print('nan')\n",
    "        print(numofq)\n",
    "        return np.random.randn(nitems)/4\n",
    "        #raise Exception('w contains nan')\n",
    "    if hessian:\n",
    "        return w,Hl\n",
    "    else:\n",
    "        return w"
   ]
  },
  {
   "cell_type": "code",
   "execution_count": 33,
   "metadata": {
    "collapsed": false
   },
   "outputs": [],
   "source": [
    "numresp=1634\n",
    "tasks=15\n",
    "qpertask=4\n",
    "itemnum=35\n",
    "choicedata=np.zeros((numresp*tasks,qpertask+4),dtype=int)\n",
    "with open('MaxDiff_2.cho') as f:\n",
    "    for resp in range(numresp):\n",
    "        respv=np.array(f.readline().strip().split(),dtype=int)\n",
    "        choicedata[resp*tasks:(resp+1)*tasks,0]=int(respv[0])\n",
    "        choicedata[resp*tasks:(resp+1)*tasks,1]=range(1,tasks+1)\n",
    "        for i in range(tasks):\n",
    "            f.readline()\n",
    "            for z in range(qpertask):\n",
    "                vec=np.array(f.readline().strip().split(),dtype=int)\n",
    "                choicedata[resp*tasks+i,2+z]=np.dot(vec,range(1,itemnum+1))\n",
    "            best=np.array(f.readline().strip().split(),dtype=int)[0]\n",
    "            choicedata[resp*tasks+i,-2]=choicedata[resp*tasks+i,best+1]\n",
    "            f.readline()\n",
    "            for z in range(qpertask):\n",
    "                f.readline()\n",
    "            worst=np.array(f.readline().strip().split(),dtype=int)[0]\n",
    "            choicedata[resp*tasks+i,-1]=choicedata[resp*tasks+i,worst+1]\n",
    "choicedata_df=pd.DataFrame(choicedata)\n",
    "choicedata_df.columns=[\"RespNum\",\"QNum\",\n",
    "                       \"Choice1\",\"Choice2\",\"Choice3\",\"Choice4\",\n",
    "                       \"Best\",\"Worst\"]\n",
    "choicedata_df.to_csv(\"choice_data-MaxDiff_2.csv\",index=False)"
   ]
  },
  {
   "cell_type": "code",
   "execution_count": 16,
   "metadata": {
    "collapsed": false
   },
   "outputs": [],
   "source": [
    "numresp=557\n",
    "tasks=12\n",
    "qpertask=5\n",
    "itemnum=86\n",
    "choicedata=np.zeros((numresp*tasks,qpertask+4),dtype=int)\n",
    "with open('6000.cho') as f:\n",
    "    for resp in range(numresp):\n",
    "        respv=np.array(f.readline().strip().split(),dtype=int)\n",
    "        choicedata[resp*tasks:(resp+1)*tasks,0]=int(respv[0])\n",
    "        choicedata[resp*tasks:(resp+1)*tasks,1]=range(1,tasks+1)\n",
    "        for i in range(tasks):\n",
    "            f.readline()\n",
    "            for z in range(qpertask):\n",
    "                vec=np.array(f.readline().strip().split(),dtype=int)\n",
    "                choicedata[resp*tasks+i,2+z]=np.dot(vec,range(1,itemnum))\n",
    "            best=np.array(f.readline().strip().split(),dtype=int)[0]\n",
    "            choicedata[resp*tasks+i,-2]=choicedata[resp*tasks+i,best+1]\n",
    "            f.readline()\n",
    "            for z in range(qpertask):\n",
    "                f.readline()\n",
    "            worst=np.array(f.readline().strip().split(),dtype=int)[0]\n",
    "            choicedata[resp*tasks+i,-1]=choicedata[resp*tasks+i,worst+1]\n",
    "choicedata[choicedata==0]=86"
   ]
  },
  {
   "cell_type": "code",
   "execution_count": 17,
   "metadata": {
    "collapsed": false
   },
   "outputs": [],
   "source": [
    "choices=choicedata[:,2:2+qpertask]-1\n",
    "allbest=choicedata[:,-2]-1\n",
    "allworst=choicedata[:,-1]-1"
   ]
  },
  {
   "cell_type": "code",
   "execution_count": null,
   "metadata": {
    "collapsed": true
   },
   "outputs": [],
   "source": []
  },
  {
   "cell_type": "code",
   "execution_count": 18,
   "metadata": {
    "collapsed": false
   },
   "outputs": [],
   "source": [
    "[numofq,items]=choices.shape\n",
    "X=np.zeros((numofq,itemnum))\n",
    "for z,row in enumerate(choices):\n",
    "    X[z,row]=1"
   ]
  },
  {
   "cell_type": "code",
   "execution_count": 19,
   "metadata": {
    "collapsed": false
   },
   "outputs": [],
   "source": [
    "pw=np.zeros(itemnum)\n",
    "pH=np.eye(itemnum)*.001"
   ]
  },
  {
   "cell_type": "code",
   "execution_count": 20,
   "metadata": {
    "collapsed": false
   },
   "outputs": [],
   "source": [
    "w,H=estimateparams(X,choices,allbest,allworst,pw,pH,w0=[],tol=.0001,maxiter=100,hessian=1)"
   ]
  },
  {
   "cell_type": "code",
   "execution_count": 21,
   "metadata": {
    "collapsed": false
   },
   "outputs": [],
   "source": [
    "respparams=np.zeros((numresp,itemnum+2))\n",
    "for resp in range(numresp):\n",
    "    respparams[resp,0]=resp\n",
    "    respparams[resp,1]=resp\n",
    "    respparams[resp,2:]=estimateparams(X[resp*tasks:(resp+1)*tasks],choices[resp*tasks:(resp+1)*tasks],\n",
    "                                 allbest[resp*tasks:(resp+1)*tasks],\n",
    "                                 allworst[resp*tasks:(resp+1)*tasks],w,np.eye(itemnum)*.5)"
   ]
  },
  {
   "cell_type": "code",
   "execution_count": 27,
   "metadata": {
    "collapsed": false
   },
   "outputs": [
    {
     "data": {
      "text/plain": [
       "array([55,  7, 79, 84, 83, 74, 77, 67, 68,  1, 71, 21, 63,  6, 62, 25, 73,\n",
       "       60, 51, 59, 50, 13, 12, 61, 66, 31, 46, 82, 81, 16, 48, 30, 10, 65,\n",
       "       42, 49, 29, 70,  2, 20, 15, 80, 54, 57, 43, 72, 56, 40, 33,  3,  0,\n",
       "       75,  4,  8, 69,  5, 52,  9, 34, 27, 58, 11, 76, 47, 64, 19, 23, 18,\n",
       "       39, 41, 35, 78, 28, 24, 26, 38, 44, 37, 22, 53, 32, 85, 14, 36, 45,\n",
       "       17])"
      ]
     },
     "execution_count": 27,
     "metadata": {},
     "output_type": "execute_result"
    }
   ],
   "source": [
    "np.argsort(respparams[:,2:].mean(0))[::-1]"
   ]
  },
  {
   "cell_type": "code",
   "execution_count": 29,
   "metadata": {
    "collapsed": false
   },
   "outputs": [
    {
     "data": {
      "text/plain": [
       "array([55,  7, 79, 84, 83, 74, 77, 67, 68,  1, 71, 21, 63,  6, 62, 25, 73,\n",
       "       60, 51, 59, 50, 13, 12, 61, 66, 31, 46, 82, 16, 81, 48, 30, 10, 65,\n",
       "       42, 49, 29, 70,  2, 20, 15, 80, 57, 54, 43, 56, 72, 40, 33,  0,  3,\n",
       "        4, 75,  8, 69,  5, 52,  9, 34, 27, 58, 11, 76, 47, 64, 19, 23, 18,\n",
       "       39, 41, 35, 78, 28, 24, 26, 38, 44, 37, 22, 53, 32, 14, 85, 36, 45,\n",
       "       17])"
      ]
     },
     "execution_count": 29,
     "metadata": {},
     "output_type": "execute_result"
    }
   ],
   "source": [
    "np.argsort(w)[::-1]"
   ]
  },
  {
   "cell_type": "code",
   "execution_count": 23,
   "metadata": {
    "collapsed": false
   },
   "outputs": [],
   "source": [
    "colname=[\"Respondent\",\"RLH\"]\n",
    "for i in range(itemnum):\n",
    "    colname+=[\"Item_\"+str(i+1)]"
   ]
  },
  {
   "cell_type": "code",
   "execution_count": 24,
   "metadata": {
    "collapsed": false
   },
   "outputs": [],
   "source": [
    "respparams_df=pd.DataFrame(respparams)\n",
    "respparams_df.columns=colname\n",
    "respparams_df.to_csv(\"ZB_86items.csv\",index=False)"
   ]
  },
  {
   "cell_type": "code",
   "execution_count": 300,
   "metadata": {
    "collapsed": false
   },
   "outputs": [],
   "source": [
    "def remove(arr):\n",
    "    newarr=np.copy(arr)\n",
    "    vals=np.unique(arr)\n",
    "    for i,val in enumerate(vals):\n",
    "        newarr[arr==val]=i+1\n",
    "    return newarr\n",
    "    "
   ]
  },
  {
   "cell_type": "code",
   "execution_count": 275,
   "metadata": {
    "collapsed": true
   },
   "outputs": [],
   "source": [
    "MDdesign=np.zeros((100*15,6),dtype=int)"
   ]
  },
  {
   "cell_type": "code",
   "execution_count": 301,
   "metadata": {
    "collapsed": false
   },
   "outputs": [
    {
     "name": "stdout",
     "output_type": "stream",
     "text": [
      "15\n",
      "15\n",
      "15\n",
      "15\n",
      "15\n",
      "15\n",
      "15\n",
      "15\n",
      "15\n",
      "15\n",
      "15\n",
      "15\n",
      "15\n",
      "15\n",
      "15\n",
      "15\n",
      "15\n",
      "15\n",
      "15\n",
      "15\n",
      "15\n",
      "15\n",
      "15\n",
      "15\n",
      "15\n",
      "15\n",
      "15\n",
      "15\n",
      "15\n",
      "15\n",
      "15\n",
      "15\n",
      "15\n",
      "15\n",
      "15\n",
      "15\n",
      "15\n",
      "15\n",
      "15\n",
      "15\n",
      "15\n",
      "15\n",
      "15\n",
      "15\n",
      "15\n",
      "15\n",
      "15\n",
      "15\n",
      "15\n",
      "15\n",
      "15\n",
      "15\n",
      "15\n",
      "15\n",
      "15\n",
      "15\n",
      "15\n",
      "15\n",
      "15\n",
      "15\n",
      "15\n",
      "15\n",
      "15\n",
      "15\n",
      "15\n",
      "15\n",
      "15\n",
      "15\n",
      "15\n",
      "15\n",
      "15\n",
      "15\n",
      "15\n",
      "15\n",
      "15\n",
      "15\n",
      "15\n",
      "15\n",
      "15\n",
      "15\n",
      "15\n",
      "15\n",
      "15\n",
      "15\n",
      "15\n",
      "15\n",
      "15\n",
      "15\n",
      "15\n",
      "15\n",
      "15\n",
      "15\n",
      "15\n",
      "15\n",
      "15\n",
      "15\n",
      "15\n",
      "15\n",
      "15\n",
      "15\n"
     ]
    }
   ],
   "source": [
    "for i in range(100):\n",
    "    MDdesign[i*tasks:(i+1)*tasks,0]=i+1\n",
    "    MDdesign[i*tasks:(i+1)*tasks,1]=range(1,tasks+1)\n",
    "    MDdesign[i*tasks:(i+1)*tasks,2:]=remove(choices[i*tasks:(i+1)*tasks])"
   ]
  },
  {
   "cell_type": "code",
   "execution_count": 278,
   "metadata": {
    "collapsed": false
   },
   "outputs": [],
   "source": [
    "MDdesign_df=pd.DataFrame(MDdesign)"
   ]
  },
  {
   "cell_type": "code",
   "execution_count": 280,
   "metadata": {
    "collapsed": true
   },
   "outputs": [],
   "source": [
    "cols=['Version','Set','Item1','Item2','Item3','Item4']"
   ]
  },
  {
   "cell_type": "code",
   "execution_count": 281,
   "metadata": {
    "collapsed": false
   },
   "outputs": [],
   "source": [
    "MDdesign_df.columns=cols"
   ]
  },
  {
   "cell_type": "code",
   "execution_count": 284,
   "metadata": {
    "collapsed": true
   },
   "outputs": [],
   "source": [
    "MDdesign_df.to_csv(\"15itemMD_MD15_Design.csv\",index=False)"
   ]
  },
  {
   "cell_type": "code",
   "execution_count": null,
   "metadata": {
    "collapsed": true
   },
   "outputs": [],
   "source": [
    "    for i in range(n):\n",
    "        betas,allquestions,allbest,allworst,people=simulation(\n",
    "            numresp,k,samplescheme,batchsize,itemfile,designfile,mis)\n",
    "        rowstart=i*numresp*nofqsbot\n",
    "        rowend=(i+1)*numresp*nofqsbot\n",
    "        choicedata[rowstart:rowend,0]=i+1\n",
    "        for j,person in enumerate(people):\n",
    "            choicedata[rowstart+j*nofqsbot:rowstart+(j+1)*nofqsbot,1]=person\n",
    "            choicedata[rowstart+j*nofqsbot:rowstart+(j+1)*nofqsbot,2]=j\n",
    "            choicedata[rowstart+j*nofqsbot:rowstart+(j+1)*nofqsbot,3]=[x for x in range(1,nofqsbot+1)]\n",
    "        choicedata[rowstart:rowend,4:9]=allquestions+1\n",
    "        choicedata[rowstart:rowend,9]=allbest+1\n",
    "        choicedata[rowstart:rowend,10]=allworst+1\n",
    "        allbetas[i*numrows:(i+1)*numrows,0]=i+1\n",
    "        allbetas[i*numrows:(i+1)*numrows,1]=[x for x in range(20,numrows*20+20,20)]\n",
    "        allbetas[i*numrows:(i+1)*numrows,2:]=betas\n",
    "    choicedata_df=pd.DataFrame(choicedata)\n",
    "    choicedata_df.columns=[\"RespNum\",\"QNum\",\n",
    "                           \"Choice1\",\"Choice2\",\"Choice3\",\"Choice4\",\n",
    "                           \"Best\",\"Worst\"]\n",
    "    allbetas_df=pd.DataFrame(allbetas)\n",
    "    colname=[\"Iter\",\"RespNum\"]\n",
    "    for i in range(nitems):\n",
    "        colname+=[\"Item_\"+str(i+1)]\n",
    "    allbetas_df.columns=colname\n",
    "    choicedata_df.to_csv(\"Results/choice_data-\"+filename)"
   ]
  }
 ],
 "metadata": {
  "kernelspec": {
   "display_name": "Python 3",
   "language": "python",
   "name": "python3"
  },
  "language_info": {
   "codemirror_mode": {
    "name": "ipython",
    "version": 3
   },
   "file_extension": ".py",
   "mimetype": "text/x-python",
   "name": "python",
   "nbconvert_exporter": "python",
   "pygments_lexer": "ipython3",
   "version": "3.4.4"
  }
 },
 "nbformat": 4,
 "nbformat_minor": 0
}
