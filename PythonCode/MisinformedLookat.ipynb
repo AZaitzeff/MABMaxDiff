{
 "cells": [
  {
   "cell_type": "code",
   "execution_count": 1,
   "metadata": {
    "collapsed": true
   },
   "outputs": [],
   "source": [
    "import pandas as pd\n",
    "import numpy as np"
   ]
  },
  {
   "cell_type": "code",
   "execution_count": 2,
   "metadata": {
    "collapsed": true
   },
   "outputs": [],
   "source": [
    "def estimateparamsbayes(X,questions,allbest,allworst,w0=[],weights=[],tol=.0001,maxiter=100):\n",
    "    tol=.001\n",
    "    val=1\n",
    "    [numofq,nitems]=X.shape\n",
    "    if len(w0)<nitems or (np.abs(w0)>4).any():\n",
    "        w=np.zeros(nitems)    \n",
    "    else:\n",
    "        w=w0.copy()\n",
    "    if len(weights)<numofq:\n",
    "        weights=np.ones(numofq)\n",
    "    iternum=0\n",
    "    nb=np.bincount(allbest,weights,minlength=nitems)\n",
    "    nw=np.bincount(allworst,weights,minlength=nitems)\n",
    "    try:\n",
    "        while val>tol and iternum<maxiter:\n",
    "            zb=np.sum(np.exp(w[questions]),1)\n",
    "            zw=np.sum(np.exp(-w[questions]),1)\n",
    "            Pb=((1/zb*X.T).T*np.exp(w))#broadcasting\n",
    "            Pw=((1/zw*X.T).T*np.exp(-w))#broadcasting\n",
    "            wPb=(Pb.T*weights).T\n",
    "            wPw=(Pw.T*weights).T\n",
    "            gradb=nb-np.sum(wPb,0)\n",
    "            gradw=-nw+np.sum(wPw,0)\n",
    "            grad=-(gradb+gradw)\n",
    "            Hb=np.dot(wPb.T,Pb)\n",
    "            Hbd=-np.sum(wPb*(1-Pb),0)\n",
    "            Hb+=-np.diag(np.diag(Hb))+np.diag(Hbd)\n",
    "            Hw=np.dot(wPw.T,Pw)\n",
    "            Hwd=-np.sum(wPw*(1-Pw),0)\n",
    "            Hw+=-np.diag(np.diag(Hw))+np.diag(Hwd)\n",
    "            H=-(Hb+Hw)\n",
    "            gradl=grad[:-1]\n",
    "            Hl=H[:-1,:-1]\n",
    "            Hinvgradl=np.linalg.solve(Hl,gradl)\n",
    "            w[:-1]=w[:-1]-Hinvgradl\n",
    "            val=np.dot(gradl,Hinvgradl)\n",
    "            iternum+=1\n",
    "    except np.linalg.linalg.LinAlgError:\n",
    "        return np.random.randn(nitems)/4\n",
    "    if np.isnan(w).any():\n",
    "        raise Exception('w contains nan')\n",
    "    return w"
   ]
  },
  {
   "cell_type": "code",
   "execution_count": 3,
   "metadata": {
    "collapsed": true
   },
   "outputs": [],
   "source": [
    "def estimateparams(X,questions,nb,nw,w0=[],tol=.0001,maxiter=100,hessian=0):\n",
    "    tol=.001\n",
    "    val=1\n",
    "    [numofq,nitems]=X.shape\n",
    "    if len(w0)<nitems or (np.abs(w0)>4).any():\n",
    "        w=np.zeros(nitems)    \n",
    "    else:\n",
    "        w=w0.copy()\n",
    "    iternum=0\n",
    "    inplay=np.where(np.bincount(questions.flatten(),minlength=nitems)>0)[0]\n",
    "    notinplay=np.where(np.bincount(questions.flatten(),minlength=nitems)==0)[0]\n",
    "    try:\n",
    "        while val>tol and iternum<maxiter:\n",
    "            zb=np.sum(np.exp(w[questions]),1)\n",
    "            zw=np.sum(np.exp(-w[questions]),1)\n",
    "            Pb=((1/zb*X.T).T*np.exp(w))#broadcasting\n",
    "            Pw=((1/zw*X.T).T*np.exp(-w))#broadcasting\n",
    "            gradb=nb-np.sum(Pb,0)\n",
    "            gradw=-nw+np.sum(Pw,0)\n",
    "            grad=-(gradb+gradw)\n",
    "            Hb=np.dot(Pb.T,Pb)\n",
    "            Hbd=-np.sum(Pb*(1-Pb),0)\n",
    "            Hb+=-np.diag(np.diag(Hb))+np.diag(Hbd)\n",
    "            Hw=np.dot(Pw.T,Pw)\n",
    "            Hwd=-np.sum(Pw*(1-Pw),0)\n",
    "            Hw+=-np.diag(np.diag(Hw))+np.diag(Hwd)\n",
    "            H=-(Hb+Hw)\n",
    "            gradl=grad[inplay[:-1]]\n",
    "            Hl=H[inplay[:-1],:][:,inplay[:-1]]\n",
    "            #Hlinv=np.linalg.pinv(Hl)\n",
    "            #Hinvgradl=np.dot(Hlinv,gradl)\n",
    "            Hinvgradl=np.linalg.solve(Hl,gradl)\n",
    "            w[inplay[:-1]]=w[inplay[:-1]]-Hinvgradl\n",
    "            val=np.dot(gradl,Hinvgradl)\n",
    "            iternum+=1\n",
    "    except np.linalg.linalg.LinAlgError:\n",
    "        print('there')\n",
    "        if hessian:\n",
    "            \n",
    "            return np.random.randn(nitems)/4,np.eye(nitems-1)\n",
    "        else:\n",
    "            return np.random.randn(nitems)/4\n",
    "    if np.isnan(w).any():\n",
    "        print('here')\n",
    "        return np.random.randn(nitems)/4\n",
    "        #raise Exception('w contains nan')\n",
    "    w[notinplay]=w[np.random.choice(inplay,notinplay.shape[0])]+.001\n",
    "    \n",
    "    if hessian:\n",
    "        H=np.eye(nitems-1)\n",
    "        H[inplay[:-1],:][:,inplay[:-1]]=Hl\n",
    "        return w,H\n",
    "    else:\n",
    "        return w"
   ]
  },
  {
   "cell_type": "code",
   "execution_count": 4,
   "metadata": {
    "collapsed": false
   },
   "outputs": [],
   "source": [
    "k=3\n",
    "filename=\"uncert-120v20k3-mis\"\n",
    "data=pd.read_csv('Results/choice_data-'+filename+'.csv')\n",
    "bhist=pd.read_csv('Results/bhist-'+filename+'.csv')\n",
    "itemcol=[]\n",
    "itemnum=120\n",
    "for i in range(1,itemnum+1):\n",
    "    itemcol+=['Item_'+str(i)]\n",
    "iters=int(np.max(bhist['Iter']))\n",
    "respnums=(bhist[bhist['Iter']==1]['RespNum'].get_values()).astype(int)\n",
    "resplen=len(respnums)\n",
    "choicecol=['Choice1','Choice2', 'Choice3', 'Choice4', 'Choice5']"
   ]
  },
  {
   "cell_type": "code",
   "execution_count": 398,
   "metadata": {
    "collapsed": true
   },
   "outputs": [],
   "source": [
    "iternum=65\n",
    "test=data[data['Iter']==iternum]"
   ]
  },
  {
   "cell_type": "code",
   "execution_count": 399,
   "metadata": {
    "collapsed": false
   },
   "outputs": [],
   "source": [
    "questions=test[choicecol].get_values()-1\n",
    "best=test['Best'].get_values()-1\n",
    "worst=test['Worst'].get_values()-1"
   ]
  },
  {
   "cell_type": "code",
   "execution_count": 400,
   "metadata": {
    "collapsed": false
   },
   "outputs": [
    {
     "data": {
      "text/plain": [
       "array([555, 396, 141, 759, 111,  90])"
      ]
     },
     "execution_count": 400,
     "metadata": {},
     "output_type": "execute_result"
    }
   ],
   "source": [
    "np.bincount(questions[:rows].flatten())[[72,62,48,105,66,108]]"
   ]
  },
  {
   "cell_type": "code",
   "execution_count": null,
   "metadata": {
    "collapsed": false
   },
   "outputs": [],
   "source": []
  },
  {
   "cell_type": "code",
   "execution_count": 401,
   "metadata": {
    "collapsed": false
   },
   "outputs": [],
   "source": [
    "[numofq,q]=questions.shape\n",
    "X=np.zeros((numofq,itemnum))\n",
    "for z,row in enumerate(questions):\n",
    "    X[z,row]=1\n",
    "rows=12*300\n",
    "begin=0\n",
    "nb=np.bincount(best[begin:rows],minlength=itemnum)\n",
    "nw=np.bincount(worst[begin:rows],minlength=itemnum)\n",
    "param=estimateparams(X[begin:rows],questions[begin:rows],nb,nw)"
   ]
  },
  {
   "cell_type": "code",
   "execution_count": 402,
   "metadata": {
    "collapsed": false
   },
   "outputs": [
    {
     "data": {
      "text/plain": [
       "array([105,  72,  62, 112, 104,  75,  53,  36,  54,  71])"
      ]
     },
     "execution_count": 402,
     "metadata": {},
     "output_type": "execute_result"
    }
   ],
   "source": [
    "np.argsort(param)[::-1][:10]"
   ]
  },
  {
   "cell_type": "code",
   "execution_count": 5,
   "metadata": {
    "collapsed": true
   },
   "outputs": [],
   "source": [
    "data1=pd.read_csv('HB_120items.csv')\n",
    "utilsall=data1.get_values()[:,2:]\n",
    "realmean=np.mean(utilsall,0)\n",
    "topk=np.argsort(realmean)[::-1][:k]"
   ]
  },
  {
   "cell_type": "code",
   "execution_count": 6,
   "metadata": {
    "collapsed": false
   },
   "outputs": [
    {
     "data": {
      "text/plain": [
       "array([72, 62, 48])"
      ]
     },
     "execution_count": 6,
     "metadata": {},
     "output_type": "execute_result"
    }
   ],
   "source": [
    "topk"
   ]
  },
  {
   "cell_type": "code",
   "execution_count": 7,
   "metadata": {
    "collapsed": false
   },
   "outputs": [
    {
     "data": {
      "text/plain": [
       "array([ 72,  62,  48, 105, 104, 112,  71,  54,  36,  53,  75, 114,  59,\n",
       "        76,  70,  16,  42,  17,  20,  57, 113,  14,  50,  23,  80, 110,\n",
       "       103,  43,   5,   9,  22,  10,  19,   4,  91,  77,  88,  82,  56,\n",
       "        58,  32,  83,  31,   3,  73,  95,  45, 119,  93, 106, 109,  29,\n",
       "        60,  84,  15,   8,   6,  63,  66,  89,  40,  35, 111,  41, 115,\n",
       "        90,  28,  30,  39,  21,  27,  74,  26,   0,  38,  49,  44,  11,\n",
       "        79,  37, 107, 118,  69,  87, 100,  18,  61,  98,  25, 108,  96,\n",
       "        33,  52,  13,  78,  67,  64,  94,  55,  47,  99,   2,  46,  68,\n",
       "        81, 117, 101,   7,  12,  65,  51, 102, 116,  85,  97,  92,   1,\n",
       "        86,  34,  24])"
      ]
     },
     "execution_count": 7,
     "metadata": {},
     "output_type": "execute_result"
    }
   ],
   "source": [
    "np.argsort(realmean)[::-1]"
   ]
  },
  {
   "cell_type": "code",
   "execution_count": 343,
   "metadata": {
    "collapsed": false
   },
   "outputs": [],
   "source": [
    "testutil=utilsall[4]"
   ]
  },
  {
   "cell_type": "code",
   "execution_count": 344,
   "metadata": {
    "collapsed": false
   },
   "outputs": [],
   "source": []
  },
  {
   "cell_type": "code",
   "execution_count": 345,
   "metadata": {
    "collapsed": false
   },
   "outputs": [
    {
     "data": {
      "text/plain": [
       "array([ 82,   9,  76,  36,  39,  54,  60,  21, 113,  73,  23,  57,  66,\n",
       "        77,  75, 110,  88,  70,  55,  59,  84,  99, 105,  89,  53,  20,\n",
       "        71,  16,  14,   8, 103, 104,  32,  29,  83,  56,  43,   6,   5,\n",
       "        30, 115,  49,  61,  17,  40,  87,  42,  35,  50,   4,  69, 109,\n",
       "         3,  90, 106,  31,  25,  19, 119,  79,  74,  10,  63,  27,  44,\n",
       "       112,  78,  52,  95,  93,  41,  46,  28,  26,  80, 107, 114,   0,\n",
       "        64,  22, 118,  38, 100,  12,  86,  67,  37,  72,  48,  62,  58,\n",
       "       108,  18,  92,  94,  91,  98, 111,  15,  13, 116,  33,  97,  96,\n",
       "        85,   2,  11,   1, 117,   7,  45,  81,  47,  51,  68, 102, 101,\n",
       "        34,  65,  24])"
      ]
     },
     "execution_count": 345,
     "metadata": {},
     "output_type": "execute_result"
    }
   ],
   "source": [
    "np.argsort(testutil)[::-1]"
   ]
  },
  {
   "cell_type": "code",
   "execution_count": null,
   "metadata": {
    "collapsed": true
   },
   "outputs": [],
   "source": []
  }
 ],
 "metadata": {
  "kernelspec": {
   "display_name": "Python 3",
   "language": "python",
   "name": "python3"
  },
  "language_info": {
   "codemirror_mode": {
    "name": "ipython",
    "version": 3
   },
   "file_extension": ".py",
   "mimetype": "text/x-python",
   "name": "python",
   "nbconvert_exporter": "python",
   "pygments_lexer": "ipython3",
   "version": "3.4.4"
  }
 },
 "nbformat": 4,
 "nbformat_minor": 0
}
