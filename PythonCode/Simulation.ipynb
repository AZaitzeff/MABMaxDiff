{
 "cells": [
  {
   "cell_type": "code",
   "execution_count": 12,
   "metadata": {
    "collapsed": true
   },
   "outputs": [],
   "source": [
    "import numpy as np\n",
    "import pandas as pd\n",
    "import time"
   ]
  },
  {
   "cell_type": "code",
   "execution_count": 13,
   "metadata": {
    "collapsed": false
   },
   "outputs": [],
   "source": [
    "def simulation(nrespondents,k,samplescheme,batchsize,itemfile,designfile,mis=0,seed=0):\n",
    "    if seed>0:\n",
    "        np.random.seed(seed)#for reproducibility\n",
    "    if mis>0:\n",
    "        data1=pd.read_csv('HB_120items.csv')\n",
    "        utilsall=data1.get_values()[:,2:]\n",
    "        realmean=np.mean(utilsall,0)\n",
    "        topmis=np.argsort(realmean)[::-1][:mis]\n",
    "    data=pd.read_csv(itemfile)#\n",
    "    MDDesign =pd.read_csv(designfile)#get the files\n",
    "    utilsall=data.get_values()[:,2:]#utils of bots\n",
    "    [numreal,nitems]=utilsall.shape#\n",
    "    design=MDDesign.get_values()[:,2:]#changes to a numpy array\n",
    "    numver=max(MDDesign['Version'])#number of versions\n",
    "    qperset=max(MDDesign['Set'])#questions per set\n",
    "    itemsperq=design.shape[1]#items per questions\n",
    "    itemsperset=np.max(design)#items per set\n",
    "    people=np.random.choice([x for x in range(0,numreal)],nrespondents)#choice the bots\n",
    "    cov=np.eye(nitems)\n",
    "    totalrows=qperset*itemsperq#rows\n",
    "    nb=np.zeros(nitems)\n",
    "    nw=np.zeros(nitems)\n",
    "    ss=samplescheme(nitems,k, batchsize, itemsperset)\n",
    "    allquestions=np.zeros((nrespondents*qperset,itemsperq),dtype=np.int)\n",
    "    allbest=np.zeros(nrespondents*qperset,dtype=np.int)\n",
    "    allworst=np.zeros(nrespondents*qperset,dtype=np.int)\n",
    "    X=np.zeros((nrespondents*qperset,nitems))\n",
    "    w=np.zeros(nitems)\n",
    "    numrows=nrespondents//batchsize\n",
    "    betas=np.zeros((numrows,nitems))\n",
    "    for iternum in range(0,nrespondents):\n",
    "        util=utilsall[people[iternum],:]\n",
    "        if mis>0 and iternum<=50:\n",
    "            lowval=np.percentile(util,25)\n",
    "            util[topmis]=lowval\n",
    "        vernum=iternum%numver\n",
    "        respdesign=design[qperset*vernum:(qperset)*(vernum+1)]-1\n",
    "        questions=ss.get_questions(respdesign)#gets items\n",
    "        bestitems,worstitems=fillsurvey(questions,util)\n",
    "        for i,bitem in enumerate(bestitems):\n",
    "            nb[bitem]+=1\n",
    "            allbest[iternum*qperset+i]=bitem\n",
    "        for i,witem in enumerate(worstitems):\n",
    "            nw[witem]+=1\n",
    "            allworst[iternum*qperset+i]=witem\n",
    "        allquestions[iternum*qperset:(iternum+1)*qperset]=questions\n",
    "        for i,oneq in enumerate(questions):\n",
    "            X[iternum*qperset+i,oneq]=1\n",
    "        if iternum%batchsize==(batchsize-1):\n",
    "            #return X[:(iternum+1)*qperset]\n",
    "            tempX=X[:(iternum+1)*qperset]\n",
    "            tempq=allquestions[:(iternum+1)*qperset]\n",
    "            tempbest=allbest[:(iternum+1)*qperset]\n",
    "            tempworst=allworst[:(iternum+1)*qperset]\n",
    "            if iternum!=(nrespondents-1):\n",
    "                ss.update(tempX,tempq,tempbest,tempworst)\n",
    "            w=estimateparams(tempX,tempq,nb,nw,[])\n",
    "            betas[(iternum+1)//(batchsize)-1]=w\n",
    "    #return X,allquestions,allbest,allworst\n",
    "    return betas,allquestions,allbest,allworst,people"
   ]
  },
  {
   "cell_type": "code",
   "execution_count": 14,
   "metadata": {
    "collapsed": true
   },
   "outputs": [],
   "source": [
    "def fillsurvey(questions,util):\n",
    "    qperset,itemsperq=questions.shape\n",
    "    noiseb= -np.log(-np.log(np.random.rand(qperset,itemsperq)))\n",
    "    noisew=  np.log(-np.log(np.random.rand(qperset,itemsperq)))\n",
    "    combutilb=util[questions]+noiseb\n",
    "    combutilw=util[questions]+noisew\n",
    "    #indexb=np.argmax(combutilb,1)\n",
    "    #indexw=np.argmin(combutilw,1)\n",
    "    best=questions[range(qperset),np.argmax(combutilb,1)]\n",
    "    worst=questions[range(qperset),np.argmin(combutilw,1)]\n",
    "    return best,worst"
   ]
  },
  {
   "cell_type": "code",
   "execution_count": 41,
   "metadata": {
    "collapsed": false
   },
   "outputs": [],
   "source": [
    "def estimateparams(X,questions,nb,nw,w0=[],tol=.0001,maxiter=100,hessian=0):\n",
    "    tol=.001\n",
    "    val=1\n",
    "    [numofq,nitems]=X.shape\n",
    "    if len(w0)<nitems or (np.abs(w0)>4).any():\n",
    "        w=np.zeros(nitems)    \n",
    "    else:\n",
    "        w=w0.copy()\n",
    "    iternum=0\n",
    "    inplay=np.where(np.bincount(questions.flatten(),minlength=nitems)>0)[0]\n",
    "    notinplay=np.where(np.bincount(questions.flatten(),minlength=nitems)==0)[0]\n",
    "    try:\n",
    "        while val>tol and iternum<maxiter:\n",
    "            zb=np.sum(np.exp(w[questions]),1)\n",
    "            zw=np.sum(np.exp(-w[questions]),1)\n",
    "            Pb=((1/zb*X.T).T*np.exp(w))#broadcasting\n",
    "            Pw=((1/zw*X.T).T*np.exp(-w))#broadcasting\n",
    "            gradb=nb-np.sum(Pb,0)\n",
    "            gradw=-nw+np.sum(Pw,0)\n",
    "            grad=-(gradb+gradw)\n",
    "            Hb=np.dot(Pb.T,Pb)\n",
    "            Hbd=-np.sum(Pb*(1-Pb),0)\n",
    "            Hb+=-np.diag(np.diag(Hb))+np.diag(Hbd)\n",
    "            Hw=np.dot(Pw.T,Pw)\n",
    "            Hwd=-np.sum(Pw*(1-Pw),0)\n",
    "            Hw+=-np.diag(np.diag(Hw))+np.diag(Hwd)\n",
    "            H=-(Hb+Hw)\n",
    "            gradl=grad[inplay[:-1]]\n",
    "            Hl=H[inplay[:-1],:][:,inplay[:-1]]\n",
    "            #Hlinv=np.linalg.pinv(Hl)\n",
    "            #Hinvgradl=np.dot(Hlinv,gradl)\n",
    "            Hinvgradl=np.linalg.solve(Hl,gradl)\n",
    "            w[inplay[:-1]]=w[inplay[:-1]]-Hinvgradl\n",
    "            val=np.dot(gradl,Hinvgradl)\n",
    "            iternum+=1\n",
    "    except Exception:\n",
    "        if hessian:\n",
    "            return np.random.randn(nitems)/4,np.eye(nitems-1)\n",
    "        else:\n",
    "            return np.random.randn(nitems)/4\n",
    "    if np.isnan(w).any():\n",
    "        return np.random.randn(nitems)/4\n",
    "        #raise Exception('w contains nan')\n",
    "    w[notinplay]=w[np.random.choice(inplay,notinplay.shape[0])]+.001\n",
    "    \n",
    "    if hessian:\n",
    "        H=np.eye(nitems-1)\n",
    "        H[inplay[:-1],:][:,inplay[:-1]]=Hl\n",
    "        return w,H\n",
    "    else:\n",
    "        return w"
   ]
  },
  {
   "cell_type": "code",
   "execution_count": 16,
   "metadata": {
    "collapsed": true
   },
   "outputs": [],
   "source": [
    "def bayesBootstrap(X,questions,allbest,allworst,numdraws=1):\n",
    "    [numofq,nitems]=X.shape\n",
    "    draws=np.zeros((numdraws,nitems))\n",
    "    #w=estimateparamsbayes(X,questions,Xb,Xw,w0=[],weights=np.ones(numofq))\n",
    "    for i in range(numdraws):\n",
    "        #weights=np.random.dirichlet(np.ones(numofq))*numofq\n",
    "        weights=np.random.exponential(1,numofq)\n",
    "        draws[i]=estimateparamsbayes(X,questions,allbest,allworst,w0=[],weights=weights)\n",
    "    return draws"
   ]
  },
  {
   "cell_type": "code",
   "execution_count": 17,
   "metadata": {
    "collapsed": true
   },
   "outputs": [],
   "source": [
    "def estimateparamsbayes(X,questions,allbest,allworst,w0=[],weights=[],tol=.0001,maxiter=100):\n",
    "    \n",
    "    tol=.001\n",
    "    val=1\n",
    "    [numofq,nitems]=X.shape\n",
    "    if len(w0)<nitems or (np.abs(w0)>4).any():\n",
    "        w=np.zeros(nitems)    \n",
    "    else:\n",
    "        w=w0.copy()\n",
    "    if len(weights)<numofq:\n",
    "        weights=np.ones(numofq)\n",
    "    iternum=0\n",
    "    nb=np.bincount(allbest,weights,minlength=nitems)\n",
    "    nw=np.bincount(allworst,weights,minlength=nitems)\n",
    "    inplay=np.where(np.bincount(questions.flatten(),minlength=nitems)>0)[0]\n",
    "    notinplay=np.where(np.bincount(questions.flatten(),minlength=nitems)==0)[0]\n",
    "    try:\n",
    "        while val>tol and iternum<maxiter:\n",
    "            zb=np.sum(np.exp(w[questions]),1)\n",
    "            zw=np.sum(np.exp(-w[questions]),1)\n",
    "            Pb=((1/zb*X.T).T*np.exp(w))#broadcasting\n",
    "            Pw=((1/zw*X.T).T*np.exp(-w))#broadcasting\n",
    "            wPb=(Pb.T*weights).T\n",
    "            wPw=(Pw.T*weights).T\n",
    "            gradb=nb-np.sum(wPb,0)\n",
    "            gradw=-nw+np.sum(wPw,0)\n",
    "            grad=-(gradb+gradw)\n",
    "            Hb=np.dot(wPb.T,Pb)\n",
    "            Hbd=-np.sum(wPb*(1-Pb),0)\n",
    "            Hb+=-np.diag(np.diag(Hb))+np.diag(Hbd)\n",
    "            Hw=np.dot(wPw.T,Pw)\n",
    "            Hwd=-np.sum(wPw*(1-Pw),0)\n",
    "            Hw+=-np.diag(np.diag(Hw))+np.diag(Hwd)\n",
    "            H=-(Hb+Hw)\n",
    "            gradl=grad[inplay[:-1]]\n",
    "            Hl=H[inplay[:-1],:][:,inplay[:-1]]\n",
    "            \n",
    "            #Hinvgradl=np.dot(np.linalg.pinv(Hl),gradl)\n",
    "            Hinvgradl=np.linalg.solve(Hl,gradl)\n",
    "            \n",
    "            w[inplay[:-1]]=w[inplay[:-1]]-Hinvgradl\n",
    "            val=np.dot(gradl,Hinvgradl)\n",
    "            iternum+=1\n",
    "    except np.linalg.linalg.LinAlgError:\n",
    "        \n",
    "        print(np.linalg.matrix_rank(Hl))\n",
    "        #raise Exception('Not invertible')\n",
    "        return np.random.randn(nitems)/4\n",
    "    if np.isnan(w).any():\n",
    "        raise Exception('w contains nan')\n",
    "    w[notinplay]=w[np.random.choice(inplay,notinplay.shape[0])]+.001\n",
    "    return w"
   ]
  },
  {
   "cell_type": "code",
   "execution_count": 18,
   "metadata": {
    "collapsed": true
   },
   "outputs": [],
   "source": [
    "def fixedexpress(nitems,N):\n",
    "    return np.random.choice([x for x in range(0,nitems)],N,False)"
   ]
  },
  {
   "cell_type": "code",
   "execution_count": 19,
   "metadata": {
    "collapsed": true
   },
   "outputs": [],
   "source": [
    "def getX(numofq,nitems,allthem):\n",
    "    X=np.zeros((numofq,nitems))\n",
    "    X[range(numofq),allthem]=1\n",
    "    return X"
   ]
  },
  {
   "cell_type": "code",
   "execution_count": 20,
   "metadata": {
    "collapsed": false
   },
   "outputs": [],
   "source": [
    "class TS:\n",
    "    def __init__(self,nitems,k, bsize, itemsperset,esp=1/4,delta=.25,thres=0):\n",
    "        self.bsize = bsize\n",
    "        self.k=k\n",
    "        self.itemsperset = itemsperset\n",
    "        self.nondif=itemsperset-int(np.round(itemsperset*esp))\n",
    "        self.dif=int(np.round(itemsperset*esp))\n",
    "        self.delta=delta\n",
    "        self.items=np.zeros((bsize,itemsperset),dtype=np.int)\n",
    "        self.rowiter=0\n",
    "        self.thres=thres\n",
    "        for i in range(bsize):\n",
    "            self.items[i]=fixedexpress(nitems,itemsperset)\n",
    "        \n",
    "    def update(self,X,questions,allbest,allworst):\n",
    "        self.rowiter=0\n",
    "        [numofq,nitems]=X.shape\n",
    "        draws=np.zeros((self.bsize,nitems))\n",
    "        \n",
    "        \n",
    "        if self.thres:\n",
    "            nb=np.bincount(allbest,minlength=nitems)\n",
    "            nw=np.bincount(allworst,minlength=nitems)\n",
    "            w=estimateparams(X,questions,nb,nw)\n",
    "            order=np.argsort(w)[::-1]\n",
    "            threshold=(w[order[self.k-1]]+w[order[self.k]])/2\n",
    "        \n",
    "\n",
    "        #w=estimateparamsbayes(X,questions,Xb,Xw,w0=[],weights=np.ones(numofq))\n",
    "        for i in range(self.bsize):\n",
    "            weights=np.random.exponential(1,numofq)\n",
    "            draws[i]=estimateparamsbayes(X,questions,allbest,allworst,weights=weights)\n",
    "        if self.thres:\n",
    "            draws=-np.abs(threshold-draws)\n",
    "        if self.dif:\n",
    "            drawsdif=np.zeros((self.bsize,nitems))\n",
    "            for i in range(self.bsize):\n",
    "                subsamp=int(numofq*self.delta)\n",
    "                sub=np.random.choice([x for x in range(0,numofq)],subsamp)\n",
    "                tempX=X[sub]\n",
    "                tempb=allbest[sub]\n",
    "                tempw=allworst[sub]\n",
    "                tempq=questions[sub]\n",
    "                weights=np.random.exponential(1,subsamp)\n",
    "                drawsdif[i]=estimateparamsbayes(tempX,tempq,tempb,tempw,weights=weights)\n",
    "            if self.thres:\n",
    "                drawsdif=-np.abs(threshold-drawsdif)\n",
    "            \n",
    "        for i in range(self.bsize):\n",
    "            if self.dif:\n",
    "                start=np.argsort(draws[i])[::-1][:self.nondif]\n",
    "                difsort=np.argsort(drawsdif[i])[::-1]\n",
    "                diffuse=[x for x in difsort if x not in start]\n",
    "                self.items[i,:self.nondif]=start\n",
    "                self.items[i,self.nondif:]=diffuse[:self.dif]\n",
    "            else:\n",
    "                start=np.argsort(draws[i])[::-1][:self.itemsperset]\n",
    "                self.items[i,:]=start\n",
    "    \n",
    "    def get_questions(self,design):\n",
    "        items=self.items[self.rowiter]\n",
    "        self.rowiter+=1\n",
    "        return items[design]"
   ]
  },
  {
   "cell_type": "code",
   "execution_count": 48,
   "metadata": {
    "collapsed": false
   },
   "outputs": [],
   "source": [
    "class TSapprox:\n",
    "    def __init__(self,nitems,k, bsize, itemsperset,esp=1/4,delta=10,thres=0):\n",
    "        self.bsize = bsize\n",
    "        self.k=k\n",
    "        self.itemsperset = itemsperset\n",
    "        self.nondif=itemsperset-int(np.round(itemsperset*esp))\n",
    "        self.dif=int(np.round(itemsperset*esp))\n",
    "        self.delta=delta\n",
    "        self.items=np.zeros((bsize,itemsperset),dtype=np.int)\n",
    "        self.rowiter=0\n",
    "        self.thres=thres\n",
    "        for i in range(bsize):\n",
    "            self.items[i]=fixedexpress(nitems,itemsperset)\n",
    "        \n",
    "    def update(self,X,questions,allbest,allworst):\n",
    "        self.rowiter=0\n",
    "        [numofq,nitems]=X.shape\n",
    "        draws=np.zeros((self.bsize,nitems))\n",
    "        \n",
    "        nb=np.bincount(allbest,minlength=nitems)\n",
    "        nw=np.bincount(allworst,minlength=nitems)\n",
    "        w,H=estimateparams(X,questions,nb,nw,hessian=1)\n",
    "        cov=np.linalg.inv(H)\n",
    "        draws[:,:-1]=np.random.multivariate_normal(w[:-1], cov,self.bsize)\n",
    "        \n",
    "        if self.thres:\n",
    "            order=np.argsort(draws)[:,::-1]\n",
    "            threshold=(draws[range(self.bsize),order[:,self.k-1]]+draws[range(self.bsize),order[:,self.k]])/2\n",
    "            draws=-np.abs(threshold-draws.T).T\n",
    "\n",
    "        #w=estimateparamsbayes(X,questions,Xb,Xw,w0=[],weights=np.ones(numofq))\n",
    "        if self.dif:\n",
    "            drawsdif=np.zeros((self.bsize,nitems))\n",
    "            drawsdif[:,:-1]=np.random.multivariate_normal(w[:-1], self.delta*cov,self.bsize)\n",
    "            if self.thres:\n",
    "                order=np.argsort(drawsdif)[:,::-1]\n",
    "                threshold=(drawsdif[range(self.bsize),order[:,self.k-1]]+drawsdif[range(self.bsize),order[:,self.k]])/2\n",
    "                drawsdif=-np.abs(threshold-drawsdif.T).T\n",
    "            \n",
    "        for i in range(self.bsize):\n",
    "            if self.dif:\n",
    "                start=np.argsort(draws[i])[::-1][:self.nondif]\n",
    "                difsort=np.argsort(drawsdif[i])[::-1]\n",
    "                diffuse=[x for x in difsort if x not in start]\n",
    "                self.items[i,:self.nondif]=start\n",
    "                self.items[i,self.nondif:]=diffuse[:self.dif]\n",
    "            else:\n",
    "                start=np.argsort(draws[i])[::-1][:self.itemsperset]\n",
    "                self.items[i,:]=start\n",
    "    \n",
    "    def get_questions(self,design):\n",
    "        items=self.items[self.rowiter]\n",
    "        self.rowiter+=1\n",
    "        return items[design]"
   ]
  },
  {
   "cell_type": "code",
   "execution_count": null,
   "metadata": {
    "collapsed": true
   },
   "outputs": [],
   "source": []
  },
  {
   "cell_type": "code",
   "execution_count": 22,
   "metadata": {
    "collapsed": false
   },
   "outputs": [],
   "source": [
    "class TSkdouble:\n",
    "    def __init__(self,nitems,k, bsize, itemsperset,esp=1/4,delta=.25):\n",
    "        self.bsize = bsize\n",
    "        self.k=k\n",
    "        self.itemsperset = itemsperset\n",
    "        self.nondif=k-int(np.round(k*esp))\n",
    "        self.dif=int(np.round(k*esp))\n",
    "        self.delta=delta\n",
    "        self.items=np.zeros((bsize,itemsperset),dtype=np.int)\n",
    "        self.rowiter=0\n",
    "        for i in range(bsize):\n",
    "            self.items[i]=fixedexpress(nitems,itemsperset)\n",
    "        \n",
    "    def update(self,X,questions,allbest,allworst):\n",
    "        self.rowiter=0\n",
    "        [numofq,nitems]=X.shape\n",
    "        draws=np.zeros((self.bsize//2,nitems))\n",
    "        \n",
    "        \n",
    "\n",
    "        #w=estimateparamsbayes(X,questions,Xb,Xw,w0=[],weights=np.ones(numofq))\n",
    "        for i in range(self.bsize//2):\n",
    "            weights=np.random.exponential(1,numofq)\n",
    "            draws[i]=estimateparamsbayes(X,questions,allbest,allworst,weights=weights)\n",
    "\n",
    "        if self.dif:\n",
    "            drawsdif=np.zeros((self.bsize//2,nitems))\n",
    "            for i in range(self.bsize//2):\n",
    "                subsamp=int(numofq*self.delta)\n",
    "                sub=np.random.choice([x for x in range(0,numofq)],subsamp)\n",
    "                tempX=X[sub]\n",
    "                tempb=allbest[sub]\n",
    "                tempw=allworst[sub]\n",
    "                tempq=questions[sub]\n",
    "                weights=np.random.exponential(1,subsamp)\n",
    "                drawsdif[i]=estimateparamsbayes(tempX,tempq,tempb,tempw,weights=weights)\n",
    "\n",
    "            \n",
    "        for i in range(self.bsize//2):\n",
    "            if self.dif:\n",
    "                start=np.argsort(draws[i])[::-1][:self.nondif]\n",
    "                difsort=np.argsort(drawsdif[i])[::-1]\n",
    "                diffuse=[x for x in difsort if x not in start]\n",
    "                self.items[2*i,:self.nondif//2]=start[::2]\n",
    "                self.items[2*i,self.nondif//2:]=diffuse[:self.dif:2]\n",
    "                self.items[2*i+1,:self.nondif//2]=start[1::2]\n",
    "                self.items[2*i+1,self.nondif//2:]=diffuse[1:self.dif+1:2]\n",
    "            else:\n",
    "                start=np.argsort(draws[i])[::-1][:self.itemsperset*2]\n",
    "                self.items[2*i,:]=start[::2]\n",
    "                self.items[2*i+1,:]=start[1::2]\n",
    "    \n",
    "    def get_questions(self,design):\n",
    "        items=self.items[self.rowiter]\n",
    "        self.rowiter+=1\n",
    "        return items[design]"
   ]
  },
  {
   "cell_type": "code",
   "execution_count": 23,
   "metadata": {
    "collapsed": false
   },
   "outputs": [],
   "source": [
    "class greedy:\n",
    "    def __init__(self,nitems,k, bsize, itemsperset,esp=1/4,thres=0):\n",
    "        self.bsize = bsize\n",
    "        self.k=k\n",
    "        self.itemsperset = itemsperset\n",
    "        self.nondif=itemsperset-int(np.round(itemsperset*esp))\n",
    "        self.dif=int(np.round(itemsperset*esp))\n",
    "        self.items=np.zeros((bsize,itemsperset),dtype=np.int)\n",
    "        self.rowiter=0\n",
    "        self.thres=thres\n",
    "        for i in range(bsize):\n",
    "            self.items[i]=fixedexpress(nitems,itemsperset)\n",
    "        \n",
    "    def update(self,X,questions,allbest,allworst):\n",
    "        self.rowiter=0\n",
    "        [numofq,nitems]=X.shape\n",
    "        draws=np.zeros((self.bsize,nitems))\n",
    "        nb=np.bincount(allbest,minlength=nitems)\n",
    "        nw=np.bincount(allworst,minlength=nitems)\n",
    "        w=estimateparams(X,questions,nb,nw)\n",
    "        if self.thres:\n",
    "            order=np.argsort(w)[::-1]\n",
    "            threshold=(w[order[self.k-1]]+w[order[self.k]])/2\n",
    "            start=np.argsort(-np.abs(threshold-w))[::-1][:self.nondif]\n",
    "        else:\n",
    "            start=np.argsort(w)[::-1][:self.nondif]\n",
    "        \n",
    "        \n",
    "        drawsdif=np.zeros((self.bsize,self.itemsperset))\n",
    "        for i in range(self.bsize):\n",
    "            drawsdif[i]=fixedexpress(nitems,self.itemsperset)\n",
    "            \n",
    "        for i in range(self.bsize):\n",
    "            difsort=drawsdif[i]\n",
    "            diffuse=[x for x in difsort if x not in start]\n",
    "            self.items[i,:self.nondif]=start\n",
    "            self.items[i,self.nondif:]=diffuse[:self.dif]\n",
    "    \n",
    "    def get_questions(self,design):\n",
    "        items=self.items[self.rowiter]\n",
    "        self.rowiter+=1\n",
    "        return items[design]"
   ]
  },
  {
   "cell_type": "code",
   "execution_count": 24,
   "metadata": {
    "collapsed": true
   },
   "outputs": [],
   "source": [
    "class greedythres:\n",
    "    def __init__(self,nitems,k, bsize, itemsperset,esp=1/4):\n",
    "        self.greed=greedy(nitems,k, bsize, itemsperset,esp,1)\n",
    "        \n",
    "    def update(self,X,questions,allbest,allworst):\n",
    "        self.greed.update(X,questions,allbest,allworst)\n",
    "\n",
    "    \n",
    "    def get_questions(self,design):\n",
    "        return self.greed.get_questions(design)"
   ]
  },
  {
   "cell_type": "code",
   "execution_count": null,
   "metadata": {
    "collapsed": true
   },
   "outputs": [],
   "source": [
    "class greedynightmare:\n",
    "    def __init__(self,nitems,k, bsize, itemsperset,esp=1/4,thres=0):\n",
    "        self.bsize = bsize\n",
    "        self.k=k\n",
    "        self.itemsperset = itemsperset\n",
    "        self.nondif=itemsperset-int(np.round(itemsperset*esp))\n",
    "        self.dif=int(np.round(itemsperset*esp))\n",
    "        self.items=np.zeros((bsize,itemsperset),dtype=np.int)\n",
    "        self.rowiter=0\n",
    "        self.thres=thres\n",
    "        self.iteration=1\n",
    "        self.w=np.zeros(nitems)\n",
    "        for i in range(bsize):\n",
    "            self.items[i]=fixedexpress(nitems,itemsperset)\n",
    "        \n",
    "    def update(self,X,questions,allbest,allworst):\n",
    "        self.rowiter=0\n",
    "        [numofq,nitems]=X.shape\n",
    "        draws=np.zeros((self.bsize,nitems))\n",
    "        \n",
    "        nb=np.bincount(allbest[-self.bsize:],minlength=nitems)\n",
    "        nw=np.bincount(allworst[-self.bsize:],minlength=nitems)\n",
    "        zb=np.sum(np.exp(w[questions[-self.bsize:]]),1)\n",
    "        zw=np.sum(np.exp(-w[questions[-self.bsize:]]),1)\n",
    "        Pb=((1/zb*X.T).T*np.exp(w))#broadcasting\n",
    "        Pw=((1/zw*X.T).T*np.exp(-w))#broadcasting\n",
    "        gradb=nb-np.sum(Pb,0)\n",
    "        gradw=-nw+np.sum(Pw,0)\n",
    "        grad=-(gradb+gradw)\n",
    "        w[:-1]=w[:-1]-1/self.iteration*grad[:-1]\n",
    "        self.iteration+=1\n",
    "        if self.thres:\n",
    "            order=np.argsort(w)[::-1]\n",
    "            threshold=(w[order[self.k-1]]+w[order[self.k]])/2\n",
    "            start=np.argsort(-np.abs(threshold-w))[::-1][:self.nondif]\n",
    "        else:\n",
    "            start=np.argsort(w)[::-1][:self.nondif]\n",
    "        \n",
    "        \n",
    "        drawsdif=np.zeros((self.bsize,self.itemsperset))\n",
    "        for i in range(self.bsize):\n",
    "            drawsdif[i]=fixedexpress(nitems,self.itemsperset)\n",
    "            \n",
    "        for i in range(self.bsize):\n",
    "            difsort=drawsdif[i]\n",
    "            diffuse=[x for x in difsort if x not in start]\n",
    "            self.items[i,:self.nondif]=start\n",
    "            self.items[i,self.nondif:]=diffuse[:self.dif]\n",
    "    \n",
    "    def get_questions(self,design):\n",
    "        items=self.items[self.rowiter]\n",
    "        self.rowiter+=1\n",
    "        return items[design]"
   ]
  },
  {
   "cell_type": "code",
   "execution_count": 25,
   "metadata": {
    "collapsed": true
   },
   "outputs": [],
   "source": [
    "class TSthres:\n",
    "    def __init__(self,nitems,k, bsize, itemsperset):\n",
    "        self.ts=TS(nitems,k, bsize, itemsperset,thres=1)\n",
    "        \n",
    "    def update(self,X,questions,allbest,allworst):\n",
    "        self.ts.update(X,questions,allbest,allworst)\n",
    "\n",
    "    \n",
    "    def get_questions(self,design):\n",
    "        return self.ts.get_questions(design)"
   ]
  },
  {
   "cell_type": "code",
   "execution_count": 26,
   "metadata": {
    "collapsed": true
   },
   "outputs": [],
   "source": [
    "class TSapproxthres:\n",
    "    def __init__(self,nitems,k, bsize, itemsperset):\n",
    "        self.ts=TSapprox(nitems,k, bsize, itemsperset,thres=1)\n",
    "        \n",
    "    def update(self,X,questions,allbest,allworst):\n",
    "        self.ts.update(X,questions,allbest,allworst)\n",
    "\n",
    "    \n",
    "    def get_questions(self,design):\n",
    "        return self.ts.get_questions(design)"
   ]
  },
  {
   "cell_type": "code",
   "execution_count": 27,
   "metadata": {
    "collapsed": true
   },
   "outputs": [],
   "source": [
    "class TSregthres:\n",
    "    def __init__(self,nitems,k, bsize, itemsperset):\n",
    "        self.ts=TS(nitems,k, bsize, itemsperset,esp=0,thres=1)\n",
    "        \n",
    "    def update(self,X,questions,allbest,allworst):\n",
    "        self.ts.update(X,questions,allbest,allworst)\n",
    "\n",
    "    def get_questions(self,design):\n",
    "        return self.ts.get_questions(design)"
   ]
  },
  {
   "cell_type": "code",
   "execution_count": 28,
   "metadata": {
    "collapsed": true
   },
   "outputs": [],
   "source": [
    "class TSreg:\n",
    "    def __init__(self,nitems,k, bsize, itemsperset):\n",
    "        self.ts=TS(nitems,k, bsize, itemsperset,esp=0)\n",
    "        \n",
    "    def update(self,X,questions,allbest,allworst):\n",
    "        self.ts.update(X,questions,allbest,allworst)\n",
    "\n",
    "    \n",
    "    def get_questions(self,design):\n",
    "        return self.ts.get_questions(design)"
   ]
  },
  {
   "cell_type": "code",
   "execution_count": 29,
   "metadata": {
    "collapsed": true
   },
   "outputs": [],
   "source": [
    "class misclassMinapprox:\n",
    "    def __init__(self,nitems,k, bsize, itemsperset,N=100):\n",
    "        self.bsize = bsize\n",
    "        self.k=k\n",
    "        self.itemsperset = itemsperset\n",
    "        self.items=np.zeros((bsize,itemsperset),dtype=np.int)\n",
    "        self.N=N\n",
    "        self.rowiter=0\n",
    "        for i in range(bsize):\n",
    "            self.items[i]=fixedexpress(nitems,itemsperset)\n",
    "        \n",
    "    def update(self,X,questions,allbest,allworst):\n",
    "        self.rowiter=0\n",
    "        [numofq,nitems]=X.shape\n",
    "        draws=np.zeros((self.N,nitems))\n",
    "        nb=np.bincount(allbest,minlength=nitems)\n",
    "        nw=np.bincount(allworst,minlength=nitems)\n",
    "        \n",
    "        w,H=estimateparams(X,questions,nb,nw,hessian=1)\n",
    "        cov=np.linalg.inv(H)\n",
    "        draws[:,:-1]=np.random.multivariate_normal(w[:-1], cov,self.N)\n",
    "        \n",
    "\n",
    "        score=np.bincount(np.argsort(draws,1)[:,::-1][:,:self.k].flatten(),\n",
    "                          minlength=nitems)/self.N\n",
    "        order=np.argsort(w)[::-1]\n",
    "        score[order[:self.k]]=1-score[order[:self.k]]\n",
    "        var=.1/(np.bincount(questions.flatten(),minlength=nitems)+.01)\n",
    "        zeros=np.zeros(nitems)\n",
    "        \n",
    "        for i in range(self.bsize):\n",
    "            newscore=score+np.random.normal(zeros,np.sqrt(var))\n",
    "            start=np.argsort(newscore)[::-1][:self.itemsperset]\n",
    "            self.items[i]=start\n",
    "    \n",
    "    def get_questions(self,design):\n",
    "        items=self.items[self.rowiter]\n",
    "        self.rowiter+=1\n",
    "        return items[design]"
   ]
  },
  {
   "cell_type": "code",
   "execution_count": 30,
   "metadata": {
    "collapsed": true
   },
   "outputs": [],
   "source": [
    "class misclassMin:\n",
    "    def __init__(self,nitems,k, bsize, itemsperset,N=100):\n",
    "        self.bsize = bsize\n",
    "        self.k=k\n",
    "        self.itemsperset = itemsperset\n",
    "        self.items=np.zeros((bsize,itemsperset),dtype=np.int)\n",
    "        self.N=N\n",
    "        self.rowiter=0\n",
    "        for i in range(bsize):\n",
    "            self.items[i]=fixedexpress(nitems,itemsperset)\n",
    "        \n",
    "    def update(self,X,questions,allbest,allworst):\n",
    "        self.rowiter=0\n",
    "        [numofq,nitems]=X.shape\n",
    "        draws=np.zeros((self.N,nitems))\n",
    "        nb=np.bincount(allbest,minlength=nitems)\n",
    "        nw=np.bincount(allworst,minlength=nitems)\n",
    "        w=estimateparams(X,questions,nb,nw)\n",
    "        \n",
    "        for i in range(self.N):\n",
    "            weights=np.random.exponential(1,numofq)\n",
    "            draws[i]=estimateparamsbayes(X,questions,allbest,allworst,weights=weights)\n",
    "        score=np.bincount(np.argsort(draws,1)[:,::-1][:,:self.k].flatten(),\n",
    "                          minlength=nitems)/self.N\n",
    "        order=np.argsort(w)[::-1]\n",
    "        score[order[:self.k]]=1-score[order[:self.k]]\n",
    "        var=.1/np.bincount(questions.flatten(),minlength=nitems)\n",
    "        zeros=np.zeros(nitems)\n",
    "        \n",
    "        for i in range(self.bsize):\n",
    "            newscore=score+np.random.normal(zeros,np.sqrt(var))\n",
    "            start=np.argsort(newscore)[::-1][:self.itemsperset]\n",
    "            self.items[i]=start\n",
    "    \n",
    "    def get_questions(self,design):\n",
    "        items=self.items[self.rowiter]\n",
    "        self.rowiter+=1\n",
    "        return items[design]"
   ]
  },
  {
   "cell_type": "code",
   "execution_count": 31,
   "metadata": {
    "collapsed": true
   },
   "outputs": [],
   "source": [
    "class greatUncert:\n",
    "    def __init__(self,nitems,k, bsize, itemsperset,N=100):\n",
    "        self.bsize = bsize\n",
    "        self.k=k\n",
    "        self.itemsperset = itemsperset\n",
    "        self.items=np.zeros((bsize,itemsperset),dtype=np.int)\n",
    "        self.N=N\n",
    "        self.rowiter=0\n",
    "        for i in range(bsize):\n",
    "            self.items[i]=fixedexpress(nitems,itemsperset)\n",
    "        \n",
    "    def update(self,X,questions,allbest,allworst):\n",
    "        self.rowiter=0\n",
    "        [numofq,nitems]=X.shape\n",
    "        draws=np.zeros((self.N,nitems))\n",
    "        \n",
    "        for i in range(self.N):\n",
    "            weights=np.random.exponential(1,numofq)\n",
    "            draws[i]=estimateparamsbayes(X,questions,allbest,allworst,weights=weights)\n",
    "        score=np.bincount(np.argsort(draws,1)[:,::-1][:,:self.k].flatten(),\n",
    "                          minlength=nitems)/self.N\n",
    "        score=-np.abs(.5-score)\n",
    "        \n",
    "        var=.1/np.bincount(questions.flatten(),minlength=nitems)\n",
    "        zeros=np.zeros(nitems)\n",
    "        for i in range(self.bsize):\n",
    "            newscore=score+np.random.normal(zeros,np.sqrt(var))\n",
    "            start=np.argsort(newscore)[::-1][:self.itemsperset]\n",
    "            self.items[i]=start\n",
    "    \n",
    "    def get_questions(self,design):\n",
    "        items=self.items[self.rowiter]\n",
    "        self.rowiter+=1\n",
    "        print(items)\n",
    "        return items[design]"
   ]
  },
  {
   "cell_type": "code",
   "execution_count": null,
   "metadata": {
    "collapsed": true
   },
   "outputs": [],
   "source": []
  },
  {
   "cell_type": "code",
   "execution_count": 32,
   "metadata": {
    "collapsed": false
   },
   "outputs": [],
   "source": [
    "def run100trials(samplescheme,filename,k=10,itemnum=120,dnum=30):\n",
    "    if itemnum==300:\n",
    "        itemfile='HB_300items.csv'\n",
    "        nitems=300\n",
    "    else:\n",
    "        itemfile='HB_120items.csv'\n",
    "        nitems=120\n",
    "    if dnum==20:\n",
    "        designfile='20itemMD_MD20_Design.csv'\n",
    "        nofqsbot=12\n",
    "    else:\n",
    "        designfile='30itemMD_MD30_Design.csv'\n",
    "        nofqsbot=18\n",
    "    n=100\n",
    "    numresp=500\n",
    "    #fix not manuel\n",
    "    choicedata=np.zeros((n*numresp*nofqsbot,11),dtype=np.int)\n",
    "    batchsize=20\n",
    "    numrows=numresp//batchsize\n",
    "    allbetas=np.zeros((numrows*n,nitems+2))\n",
    "    for i in range(n):\n",
    "        betas,allquestions,allbest,allworst,people=simulation(\n",
    "            numresp,k,samplescheme,batchsize,itemfile,designfile,0)\n",
    "        rowstart=i*numresp*nofqsbot\n",
    "        rowend=(i+1)*numresp*nofqsbot\n",
    "        choicedata[rowstart:rowend,0]=i+1\n",
    "        for j,person in enumerate(people):\n",
    "            choicedata[rowstart+j*nofqsbot:rowstart+(j+1)*nofqsbot,1]=person\n",
    "            choicedata[rowstart+j*nofqsbot:rowstart+(j+1)*nofqsbot,2]=j\n",
    "            choicedata[rowstart+j*nofqsbot:rowstart+(j+1)*nofqsbot,3]=[x for x in range(1,nofqsbot+1)]\n",
    "        choicedata[rowstart:rowend,4:9]=allquestions+1\n",
    "        choicedata[rowstart:rowend,9]=allbest+1\n",
    "        choicedata[rowstart:rowend,10]=allworst+1\n",
    "        allbetas[i*numrows:(i+1)*numrows,0]=i+1\n",
    "        allbetas[i*numrows:(i+1)*numrows,1]=[x for x in range(20,numrows*20+20,20)]\n",
    "        allbetas[i*numrows:(i+1)*numrows,2:]=betas\n",
    "    choicedata_df=pd.DataFrame(choicedata)\n",
    "    choicedata_df.columns=[\"Iter\",\"original_ids\",\"RespIDNum\",\"QNum\",\n",
    "                           \"Choice1\",\"Choice2\",\"Choice3\",\"Choice4\",\"Choice5\",\n",
    "                           \"Best\",\"Worst\"]\n",
    "    allbetas_df=pd.DataFrame(allbetas)\n",
    "    colname=[\"Iter\",\"RespNum\"]\n",
    "    for i in range(nitems):\n",
    "        colname+=[\"Item_\"+str(i+1)]\n",
    "    allbetas_df.columns=colname\n",
    "    choicedata_df.to_csv(\"Results/choice_data-\"+filename)\n",
    "    allbetas_df.to_csv(\"Results/bhist-\"+filename)"
   ]
  },
  {
   "cell_type": "code",
   "execution_count": 33,
   "metadata": {
    "collapsed": true
   },
   "outputs": [],
   "source": [
    "k=10"
   ]
  },
  {
   "cell_type": "code",
   "execution_count": 49,
   "metadata": {
    "collapsed": false
   },
   "outputs": [
    {
     "data": {
      "text/plain": [
       "9.846861124038696"
      ]
     },
     "execution_count": 49,
     "metadata": {},
     "output_type": "execute_result"
    }
   ],
   "source": [
    "t=time.time()\n",
    "betas,allquestions,allbest,allworst,people=simulation(500,k,\n",
    "                                                      TSapproxthres,20,'HB_120items.csv','20itemMD_MD20_Design.csv',0,20)\n",
    "time.time()-t"
   ]
  },
  {
   "cell_type": "code",
   "execution_count": 251,
   "metadata": {
    "collapsed": false
   },
   "outputs": [
    {
     "data": {
      "text/plain": [
       "109.7612829208374"
      ]
     },
     "execution_count": 251,
     "metadata": {},
     "output_type": "execute_result"
    }
   ],
   "source": [
    "t=time.time()\n",
    "betas2,allquestions,allbest,allworst,people=simulation(500,k,\n",
    "                                                      TSthres,20,'HB_120items.csv','20itemMD_MD20_Design.csv',0,20)\n",
    "time.time()-t"
   ]
  },
  {
   "cell_type": "code",
   "execution_count": 211,
   "metadata": {
    "collapsed": false
   },
   "outputs": [],
   "source": [
    "resp=100\n",
    "nitems=120\n",
    "subsamp=int(12*resp*.25)\n",
    "sub=np.random.choice([x for x in range(0,12*resp)],subsamp)\n",
    "\n",
    "tempq=allquestions[sub]"
   ]
  },
  {
   "cell_type": "code",
   "execution_count": 212,
   "metadata": {
    "collapsed": false
   },
   "outputs": [],
   "source": [
    "notin=np.where(np.bincount(tempq.flatten(),minlength=nitems)==0)[0]"
   ]
  },
  {
   "cell_type": "code",
   "execution_count": 225,
   "metadata": {
    "collapsed": false
   },
   "outputs": [
    {
     "data": {
      "text/plain": [
       "array([55, 81])"
      ]
     },
     "execution_count": 225,
     "metadata": {},
     "output_type": "execute_result"
    }
   ],
   "source": [
    "notin"
   ]
  },
  {
   "cell_type": "code",
   "execution_count": 214,
   "metadata": {
    "collapsed": false
   },
   "outputs": [],
   "source": [
    "ins=np.where(np.bincount(tempq.flatten(),minlength=nitems)>0)[0]"
   ]
  },
  {
   "cell_type": "code",
   "execution_count": 215,
   "metadata": {
    "collapsed": true
   },
   "outputs": [],
   "source": [
    "H=np.random.rand(120,120)"
   ]
  },
  {
   "cell_type": "code",
   "execution_count": 216,
   "metadata": {
    "collapsed": false
   },
   "outputs": [
    {
     "data": {
      "text/plain": [
       "(118, 118)"
      ]
     },
     "execution_count": 216,
     "metadata": {},
     "output_type": "execute_result"
    }
   ],
   "source": [
    "H[ins,:][:,ins].shape"
   ]
  },
  {
   "cell_type": "code",
   "execution_count": 239,
   "metadata": {
    "collapsed": false
   },
   "outputs": [],
   "source": [
    "ind=np.random.choice(ins,notin.shape[0])"
   ]
  },
  {
   "cell_type": "code",
   "execution_count": 240,
   "metadata": {
    "collapsed": false
   },
   "outputs": [
    {
     "data": {
      "text/plain": [
       "array([74, 39])"
      ]
     },
     "execution_count": 240,
     "metadata": {},
     "output_type": "execute_result"
    }
   ],
   "source": [
    "ind"
   ]
  },
  {
   "cell_type": "code",
   "execution_count": 241,
   "metadata": {
    "collapsed": false
   },
   "outputs": [],
   "source": [
    "betas[3,notin]=betas[3,ind]+.001"
   ]
  },
  {
   "cell_type": "code",
   "execution_count": 242,
   "metadata": {
    "collapsed": false
   },
   "outputs": [
    {
     "data": {
      "text/plain": [
       "array([  2,  80,  57,   0,  35,  53,  24,  49,  40, 102,  45,  46,  98,\n",
       "       113,   8, 117,  95,  33,  15,  18,  79, 111, 116, 101,  84,  12,\n",
       "       100,   6,  76,  10,  42,  54,  89,  93,  17, 115,  75, 118, 104,\n",
       "        36,  11,  52,  87,  59,  63,  23,  99,  64,   3,  71,  30,  66,\n",
       "         1,   7, 112, 109,  72,  92,  85, 114,  86,  61,  16, 103, 108,\n",
       "        27,  44, 105,  97,  65,  56,  21,  13,  62,  96, 106,  14,  68,\n",
       "        58,  39,  81, 107,  31,  50,  69,   4, 119,  26,  22,  82,  34,\n",
       "        78,  94,   9,  90,  32,  37,  83,  43,  47,  51,  77,  67,  48,\n",
       "        19,  74,  55,  91,  73,  60,  70,  20,  29,  28,  41,  88,  38,\n",
       "        25,   5, 110])"
      ]
     },
     "execution_count": 242,
     "metadata": {},
     "output_type": "execute_result"
    }
   ],
   "source": [
    "np.argsort(betas[3])"
   ]
  },
  {
   "cell_type": "code",
   "execution_count": 248,
   "metadata": {
    "collapsed": false
   },
   "outputs": [],
   "source": [
    "k=10\n",
    "data1=pd.read_csv('HB_120items.csv')\n",
    "utilsall=data1.get_values()[:,2:]\n",
    "realmean=np.mean(utilsall,0)\n",
    "topk=np.argsort(realmean)[::-1][:k]"
   ]
  },
  {
   "cell_type": "code",
   "execution_count": 249,
   "metadata": {
    "collapsed": false
   },
   "outputs": [
    {
     "data": {
      "text/plain": [
       "array([ 72,  62,  48, 105, 104, 112,  71,  54,  36,  53])"
      ]
     },
     "execution_count": 249,
     "metadata": {},
     "output_type": "execute_result"
    }
   ],
   "source": [
    "topk"
   ]
  },
  {
   "cell_type": "code",
   "execution_count": 40,
   "metadata": {
    "collapsed": false
   },
   "outputs": [
    {
     "data": {
      "text/plain": [
       "array([108,  59,  43,  70,  45])"
      ]
     },
     "execution_count": 40,
     "metadata": {},
     "output_type": "execute_result"
    }
   ],
   "source": [
    "allquestions[5]"
   ]
  },
  {
   "cell_type": "code",
   "execution_count": null,
   "metadata": {
    "collapsed": false
   },
   "outputs": [],
   "source": []
  },
  {
   "cell_type": "code",
   "execution_count": 255,
   "metadata": {
    "collapsed": false
   },
   "outputs": [],
   "source": [
    "[num,numitems]=betas.shape\n",
    "topresp=np.zeros(num)\n",
    "resp=[x for x in range(20,520,20)]\n",
    "for i,cur in enumerate(np.argsort(betas)[:,::-1][:,:k]):\n",
    "        topresp[i]=(len(set.intersection(set(cur),set(topk))))\n",
    "topresp2=np.zeros(num)\n",
    "resp=[x for x in range(20,520,20)]\n",
    "for i,cur in enumerate(np.argsort(betas2)[:,::-1][:,:k]):\n",
    "        topresp2[i]=(len(set.intersection(set(cur),set(topk))))"
   ]
  },
  {
   "cell_type": "code",
   "execution_count": 256,
   "metadata": {
    "collapsed": false
   },
   "outputs": [],
   "source": [
    "import matplotlib.pyplot as plt\n",
    "plt.plot(resp,topresp,resp,topresp2)\n",
    "plt.show()"
   ]
  },
  {
   "cell_type": "code",
   "execution_count": 121,
   "metadata": {
    "collapsed": false
   },
   "outputs": [],
   "source": [
    "filename=\"TSdouble-120v20k40.csv\"\n",
    "run100trials(TSkdouble,filename,k=40,itemnum=120,dnum=20)"
   ]
  },
  {
   "cell_type": "code",
   "execution_count": 128,
   "metadata": {
    "collapsed": true
   },
   "outputs": [],
   "source": [
    "itemcol=[]\n",
    "for i in range(1,121):\n",
    "    itemcol+=['Item_'+str(i)]"
   ]
  },
  {
   "cell_type": "code",
   "execution_count": 130,
   "metadata": {
    "collapsed": true
   },
   "outputs": [],
   "source": [
    "resps=50\n",
    "iters=100\n",
    "topresp=np.zeros((iters,resps))"
   ]
  },
  {
   "cell_type": "code",
   "execution_count": 140,
   "metadata": {
    "collapsed": false
   },
   "outputs": [],
   "source": [
    "#filename='fixed_express-120v20.csv'\n",
    "filename=\"TSdouble-120v20k40.csv\"\n",
    "data=pd.read_csv('Results/bhist-'+filename)\n",
    "for j in range(100):\n",
    "\n",
    "    iterdata=data[data['Iter']==(j+1)]\n",
    "    for i,cur in enumerate(np.argsort(iterdata[itemcol].get_values())[:,::-1][:,:k]):\n",
    "        topresp[j,i]=(len(set.intersection(set(cur),set(topk))))\n",
    "topkmean1=np.mean(topresp,0)"
   ]
  },
  {
   "cell_type": "code",
   "execution_count": 141,
   "metadata": {
    "collapsed": false
   },
   "outputs": [],
   "source": [
    "import matplotlib.pyplot as plt\n",
    "plt.plot(resp,topkmean[:25])\n",
    "plt.plot(resp,topkmean1[:25])\n",
    "plt.show()"
   ]
  },
  {
   "cell_type": "code",
   "execution_count": null,
   "metadata": {
    "collapsed": true
   },
   "outputs": [],
   "source": []
  }
 ],
 "metadata": {
  "kernelspec": {
   "display_name": "Python 3",
   "language": "python",
   "name": "python3"
  },
  "language_info": {
   "codemirror_mode": {
    "name": "ipython",
    "version": 3
   },
   "file_extension": ".py",
   "mimetype": "text/x-python",
   "name": "python",
   "nbconvert_exporter": "python",
   "pygments_lexer": "ipython3",
   "version": "3.4.4"
  }
 },
 "nbformat": 4,
 "nbformat_minor": 0
}
