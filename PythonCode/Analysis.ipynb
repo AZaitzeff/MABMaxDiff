{
 "cells": [
  {
   "cell_type": "code",
   "execution_count": 1,
   "metadata": {
    "collapsed": true
   },
   "outputs": [],
   "source": [
    "import matplotlib.pyplot as plt\n",
    "import numpy as np\n",
    "import pandas as pd\n",
    "import random as rd\n",
    "import os\n",
    "import seaborn"
   ]
  },
  {
   "cell_type": "code",
   "execution_count": 2,
   "metadata": {
    "collapsed": false
   },
   "outputs": [],
   "source": [
    "def gettrueutil(rank,n,trueutil):\n",
    "    order=np.argsort(trueutil)[::-1]\n",
    "    return np.sum(np.exp(trueutil[rank[:n]]))/sum(np.exp(trueutil[order[:n]]))"
   ]
  },
  {
   "cell_type": "code",
   "execution_count": 3,
   "metadata": {
    "collapsed": true
   },
   "outputs": [],
   "source": [
    "def getutil(b,n):\n",
    "    return np.sum(np.exp(np.sort(b)[-n:]))"
   ]
  },
  {
   "cell_type": "code",
   "execution_count": 4,
   "metadata": {
    "collapsed": true
   },
   "outputs": [],
   "source": [
    "def createlabel(f,newname='util'):\n",
    "    name=f.split()\n",
    "    name[0]=newname\n",
    "    return ' '.join(name)"
   ]
  },
  {
   "cell_type": "code",
   "execution_count": 5,
   "metadata": {
    "collapsed": true
   },
   "outputs": [],
   "source": [
    "def rank(array):\n",
    "    temp = array.argsort()[::-1]\n",
    "    ranks = np.empty(len(array), int)\n",
    "    ranks[temp] = np.arange(len(array))+1\n",
    "    return ranks"
   ]
  },
  {
   "cell_type": "code",
   "execution_count": 6,
   "metadata": {
    "collapsed": true
   },
   "outputs": [],
   "source": [
    "def generateutils(table,trueutil):\n",
    "    data={}\n",
    "    data['iteration']=[]\n",
    "    for i in range(1,101):\n",
    "            data['iteration']+=[i]*51\n",
    "    data['respondent']=[x for x in range(20,1040,20)]*100\n",
    "    vals=table.get_values()[1:,2:]\n",
    "    n,m=np.shape(vals)\n",
    "    data['util3']=[]\n",
    "    data['util10']=[]\n",
    "    for i in range(n):\n",
    "        rank=np.argsort(vals[i])[::-1]\n",
    "        data['util3'].append(gettrueutil(rank,3,trueutil))\n",
    "        data['util10'].append(gettrueutil(rank,10,trueutil))\n",
    "    newtable=pd.DataFrame(data)\n",
    "    return newtable"
   ]
  },
  {
   "cell_type": "code",
   "execution_count": 7,
   "metadata": {
    "collapsed": false
   },
   "outputs": [],
   "source": [
    "def getfiles(start=\"bhist\",items='120'):\n",
    "    listoffiles=[]\n",
    "    where='../DataDump'\n",
    "    for file in os.listdir(where):\n",
    "        if file.startswith(start) and items in file:\n",
    "            listoffiles.append(file)\n",
    "    return listoffiles,where"
   ]
  },
  {
   "cell_type": "code",
   "execution_count": 8,
   "metadata": {
    "collapsed": false
   },
   "outputs": [],
   "source": [
    "def utilall(items='120'):\n",
    "    files,where=getfiles(items=items)\n",
    "    trueutil=pd.read_csv('../MABMaxDiff/HB_'+items+'items.csv').get_values().mean(0)[2:]\n",
    "    for file in files:\n",
    "        table=pd.read_csv(where+'/'+file)\n",
    "        newtable=generateutils(table,trueutil)\n",
    "        newtable.to_csv(where+'/'+createlabel(file),index=False)"
   ]
  },
  {
   "cell_type": "code",
   "execution_count": 17,
   "metadata": {
    "collapsed": false
   },
   "outputs": [],
   "source": [
    "#utilall()\n",
    "#utilall('40')\n",
    "#utilall('300')"
   ]
  },
  {
   "cell_type": "code",
   "execution_count": 10,
   "metadata": {
    "collapsed": true
   },
   "outputs": [],
   "source": [
    "def generatevalrem(table1,table2):\n",
    "    data={}\n",
    "    data['iteration']=[]\n",
    "    for i in range(1,101):\n",
    "            data['iteration']+=[i]*51\n",
    "    data['respondent']=[x for x in range(20,1040,20)]*100\n",
    "    vals1=table1.get_values()[1:,2:]\n",
    "    vals2=table2.get_values()[1:,2:]\n",
    "    n,m=np.shape(vals1)\n",
    "    data['valrem3']=[]\n",
    "    data['valrem10']=[]\n",
    "    data['util3']=[]\n",
    "    data['util10']=[]\n",
    "    for i in range(n):\n",
    "        data['valrem3'].append(getvalrem(vals1[i],vals2[i],3))\n",
    "        data['valrem10'].append(getvalrem(vals1[i],vals2[i],10))\n",
    "        data['util3'].append(getutil(vals1[i],3))\n",
    "        data['util10'].append(getutil(vals1[i],10))\n",
    "    newtable=pd.DataFrame(data)\n",
    "    return newtable"
   ]
  },
  {
   "cell_type": "code",
   "execution_count": 11,
   "metadata": {
    "collapsed": false
   },
   "outputs": [],
   "source": [
    "def getvalrem(b,se,n,iters=1000):\n",
    "    rank=np.argsort(b)[::-1]\n",
    "    vals=np.random.multivariate_normal(b,np.diag(se**2),iters)\n",
    "    valstar=np.sum(np.exp(vals[:,rank[:n]]),1)\n",
    "    valmax=np.sum(np.exp(np.sort(vals,1)[:,-n:]),1)\n",
    "    vrhist=(valmax-valstar)/valstar\n",
    "    return np.percentile(vrhist,95)"
   ]
  },
  {
   "cell_type": "code",
   "execution_count": 12,
   "metadata": {
    "collapsed": false
   },
   "outputs": [],
   "source": [
    "def valremall(items='120'):\n",
    "    files1,where=getfiles(items=items)\n",
    "    files2,where=getfiles('sehist',items=items)\n",
    "    for file1,file2 in zip(files1,files2):\n",
    "        table1=pd.read_csv(where+'/'+file1)\n",
    "        table2=pd.read_csv(where+'/'+file2)\n",
    "        newtable=generatevalrem(table1,table2)\n",
    "        newtable.to_csv(where+'/'+createlabel(file1,'valrem'),index=False)"
   ]
  },
  {
   "cell_type": "code",
   "execution_count": 14,
   "metadata": {
    "collapsed": false
   },
   "outputs": [],
   "source": [
    "items='120'\n",
    "files1,where=getfiles(items=items)\n",
    "files2,where=getfiles('sehist',items=items)"
   ]
  },
  {
   "cell_type": "code",
   "execution_count": 19,
   "metadata": {
    "collapsed": false
   },
   "outputs": [],
   "source": [
    "file1=files1[10]\n",
    "file2=files2[10]\n",
    "table1=pd.read_csv(where+'/'+file1)\n",
    "table2=pd.read_csv(where+'/'+file2)\n",
    "vals1=table1.get_values()[1:,2:]\n",
    "vals2=table2.get_values()[1:,2:]\n"
   ]
  },
  {
   "cell_type": "code",
   "execution_count": 65,
   "metadata": {
    "collapsed": false
   },
   "outputs": [],
   "source": [
    "i=4\n",
    "b,se,n=vals1[i],vals2[i],3\n",
    "rank=np.argsort(b)[::-1]\n",
    "vals=np.random.multivariate_normal(b,np.diag(se**2),10000)\n",
    "valstar=np.sum(np.exp(vals[:,rank[:n]]),1)\n",
    "valmax=np.sum(np.exp(np.sort(vals,1)[:,-n:]),1)\n",
    "vrhist=(valmax-valstar)/valstar\n",
    "vrhist951=np.percentile(vrhist,95)\n",
    "plt.subplot('121')\n",
    "plt.hist(vrhist)\n",
    "plt.axvline(vrhist951,0,1,color='k')\n",
    "plt.xlim(0,.25)\n",
    "plt.ylim(0,10000)\n",
    "i=10\n",
    "b,se,n=vals1[i],vals2[i],3\n",
    "rank=np.argsort(b)[::-1]\n",
    "vals=np.random.multivariate_normal(b,np.diag(se**2),10000)\n",
    "valstar=np.sum(np.exp(vals[:,rank[:n]]),1)\n",
    "valmax=np.sum(np.exp(np.sort(vals,1)[:,-n:]),1)\n",
    "vrhist=(valmax-valstar)/valstar\n",
    "vrhist95=np.percentile(vrhist,95)\n",
    "plt.subplot('122')\n",
    "plt.hist(vrhist)\n",
    "plt.axvline(vrhist95,0,1,color='k')\n",
    "plt.xlim(0,.25)\n",
    "plt.ylim(0,10000)\n",
    "plt.savefig('valremhist.pdf')\n",
    "plt.show()"
   ]
  },
  {
   "cell_type": "code",
   "execution_count": 68,
   "metadata": {
    "collapsed": false
   },
   "outputs": [
    {
     "data": {
      "text/plain": [
       "0.0075873118884629458"
      ]
     },
     "execution_count": 68,
     "metadata": {},
     "output_type": "execute_result"
    }
   ],
   "source": [
    "vrhist95\n"
   ]
  },
  {
   "cell_type": "code",
   "execution_count": 36,
   "metadata": {
    "collapsed": true
   },
   "outputs": [],
   "source": [
    "plt.axvline?"
   ]
  },
  {
   "cell_type": "code",
   "execution_count": 21,
   "metadata": {
    "collapsed": false
   },
   "outputs": [],
   "source": [
    "#valremall()\n",
    "#valremall('40')\n",
    "#valremall('300')"
   ]
  },
  {
   "cell_type": "code",
   "execution_count": 94,
   "metadata": {
    "collapsed": false
   },
   "outputs": [],
   "source": [
    "def stopingutils(items='120'):\n",
    "    files1,where=getfiles('valrem',items=items)\n",
    "    files2,where=getfiles('util',items=items)\n",
    "    for file1,file2 in zip(files1,files2):\n",
    "        table1=pd.read_csv(where+'/'+file1)\n",
    "        table2=pd.read_csv(where+'/'+file2)\n",
    "        newtable=generatestop(table1,table2)\n",
    "        newtable.to_csv(where+'/'+createlabel(file1,'stop'),index=False)"
   ]
  },
  {
   "cell_type": "code",
   "execution_count": 99,
   "metadata": {
    "collapsed": false
   },
   "outputs": [],
   "source": [
    "def generatestop(valrem,util):\n",
    "    data={}\n",
    "    data['iteration']=[i for i in range(1,101)]\n",
    "    data['stop5rem3']=[]\n",
    "    data['stop2rem3']=[]\n",
    "    data['stop5rem10']=[]\n",
    "    data['stop2rem10']=[]\n",
    "    data['util5rem3']=[]\n",
    "    data['util2rem3']=[]\n",
    "    data['util5rem10']=[]\n",
    "    data['util2rem10']=[]\n",
    "    for i in range(1,101):\n",
    "        for value in [2,5]:\n",
    "            for num in ['3','10']:\n",
    "                loc,trueutil=getstoputil(valrem,util,i,'valrem'+num,'util'+num,value/100)\n",
    "                data['stop'+str(value)+'rem'+num].append(loc)\n",
    "                data['util'+str(value)+'rem'+num].append(trueutil)\n",
    "    newtable=pd.DataFrame(data)\n",
    "    return newtable"
   ]
  },
  {
   "cell_type": "code",
   "execution_count": 100,
   "metadata": {
    "collapsed": true
   },
   "outputs": [],
   "source": [
    "def getstoputil(valrem,util,itera,column1,column2,value):\n",
    "    val=valrem[valrem['iteration']==itera][column1].get_values()\n",
    "    mask=val<value\n",
    "    if mask.any():\n",
    "        loc=(np.where(mask)[0][0]+1)*20\n",
    "    else:\n",
    "        loc=1020\n",
    "    trueutil=util[(util['iteration']==itera) & (util['respondent']==loc)][column2].get_values()[0]\n",
    "    return loc,trueutil"
   ]
  },
  {
   "cell_type": "code",
   "execution_count": 101,
   "metadata": {
    "collapsed": false
   },
   "outputs": [],
   "source": [
    "stopingutils(items='120')\n"
   ]
  },
  {
   "cell_type": "code",
   "execution_count": 102,
   "metadata": {
    "collapsed": false
   },
   "outputs": [],
   "source": [
    "stopingutils(items='40')\n",
    "stopingutils(items='300')"
   ]
  },
  {
   "cell_type": "code",
   "execution_count": 10,
   "metadata": {
    "collapsed": false
   },
   "outputs": [],
   "source": [
    "trueutil=pd.read_csv('../MABMaxDiff/HB_120items.csv').get_values().mean(0)[2:]"
   ]
  },
  {
   "cell_type": "code",
   "execution_count": 12,
   "metadata": {
    "collapsed": false
   },
   "outputs": [],
   "source": [
    "plt.plot(range(1,121),np.sort(trueutil),'k.')\n",
    "plt.plot(range(111,121),np.sort(trueutil)[-10:],'b.')\n",
    "plt.plot(range(118,121),np.sort(trueutil)[-3:],'r.')\n",
    "#plt.title('Utility Score of 120 Items')\n",
    "plt.ylabel('Utility')\n",
    "plt.xlabel('Items')\n",
    "plt.xlim(0,121)\n",
    "plt.savefig('Utilscore.pdf')\n",
    "plt.show()"
   ]
  },
  {
   "cell_type": "code",
   "execution_count": 5,
   "metadata": {
    "collapsed": true
   },
   "outputs": [],
   "source": []
  },
  {
   "cell_type": "code",
   "execution_count": 18,
   "metadata": {
    "collapsed": true
   },
   "outputs": [],
   "source": [
    "plt.hist(trueutil,bins=20)\n",
    "plt.show()"
   ]
  },
  {
   "cell_type": "code",
   "execution_count": 9,
   "metadata": {
    "collapsed": true
   },
   "outputs": [],
   "source": [
    "\n"
   ]
  },
  {
   "cell_type": "code",
   "execution_count": null,
   "metadata": {
    "collapsed": true
   },
   "outputs": [],
   "source": []
  }
 ],
 "metadata": {
  "kernelspec": {
   "display_name": "Python 3",
   "language": "python",
   "name": "python3"
  },
  "language_info": {
   "codemirror_mode": {
    "name": "ipython",
    "version": 3
   },
   "file_extension": ".py",
   "mimetype": "text/x-python",
   "name": "python",
   "nbconvert_exporter": "python",
   "pygments_lexer": "ipython3",
   "version": "3.4.4"
  }
 },
 "nbformat": 4,
 "nbformat_minor": 0
}
