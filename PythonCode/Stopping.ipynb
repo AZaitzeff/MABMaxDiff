{
 "cells": [
  {
   "cell_type": "code",
   "execution_count": 62,
   "metadata": {
    "collapsed": true
   },
   "outputs": [],
   "source": [
    "import pandas as pd\n",
    "import numpy as np\n",
    "import os\n",
    "import matplotlib.pyplot as plt\n",
    "import seaborn"
   ]
  },
  {
   "cell_type": "code",
   "execution_count": 63,
   "metadata": {
    "collapsed": true
   },
   "outputs": [],
   "source": [
    "def getfiles(start=\"PVR\",items='120',design='v30',schemes=['fixed_express'],mis=0):\n",
    "    listoffiles=[]\n",
    "    where='Results/'\n",
    "    for file in os.listdir(where):\n",
    "        if file.startswith(start):\n",
    "            num=[x for x in schemes if x in file]\n",
    "            if items in file and design in file and len(num)>0 and (file.endswith('mis.csv')==mis):\n",
    "                listoffiles.append(file)\n",
    "                \n",
    "    return where,listoffiles"
   ]
  },
  {
   "cell_type": "code",
   "execution_count": 64,
   "metadata": {
    "collapsed": true
   },
   "outputs": [],
   "source": [
    "def getcolormap():\n",
    "    colormap={'TS':'Navy','TSe4':'Aqua','TSe1':'Red','TSe2':'Maroon','TSe3':'Aqua','TSthres':'Blue','TSdouble':'Navy',\n",
    "              'greedy':'Green', 'greedy3':'Green','greedythres':'Green',\n",
    "              'fixed_express':'Fuchsia','fixed_sparse':'Purple','uncert':'Red','mismin':'Maroon',\n",
    "             'TSe4apprx':'Fuchsia','TSapprox':'Fuchsia','TSe3apprx':'Purple','TSthresapprx':'Purple',\n",
    "              'TSapproxthres':'Purple','misminapprox':'Green','winmismin':'Red',\n",
    "              'TSregthres':'Teal','newTSthres':'Blue','newTSregthres':'Teal','greedynightmare':'Lime',\n",
    "              'winapprox':'Green','winapproxthres':'Lime',\n",
    "             'TSe1d2':'Red','TSe1d4':'Maroon','TSe4d0':'Green','TSe2d0':'Green','TSe2d2':'Purple',\n",
    "              'TSe4d2':'Purple','TSe2d4':'Aqua'}#:'Teal'\n",
    "    return colormap"
   ]
  },
  {
   "cell_type": "code",
   "execution_count": 65,
   "metadata": {
    "collapsed": true
   },
   "outputs": [],
   "source": [
    "def getkmap():\n",
    "    kmap={'TS':0,'TSe4':0,'TSe1':0,'TSe2':0,'TSthres':1,'TSdouble':1, 'greedy':0,'greedythres':1,\n",
    "              'fixed_express':0,'fixed_sparse':0,'uncert':1,'mismin':1,\n",
    "         'TSe4apprx':0,'TSthresapprx':1,'misminapprox':1,'TSregthres':1,\n",
    "         'newTSthres':1,'newTSregthres':1,'TSe3apprx':0,'TSe3':0,'greedy3':0}\n",
    "    return kmap"
   ]
  },
  {
   "cell_type": "code",
   "execution_count": 66,
   "metadata": {
    "collapsed": true
   },
   "outputs": [],
   "source": [
    "def getlabelmap():\n",
    "    labelmap={'TS':'TS','TSe4':r'$\\epsilon$-$\\delta$-diffuse TS ($\\epsilon=\\frac{1}{4}$,$\\delta=\\frac{1}{4}$)',\n",
    "              'TSe1':'dashdot','TSe2':'dotted','TSe3':'dotted' \n",
    "             ,'TSthres':'dotted' ,'TSdouble':'dotted' ,\n",
    "              'greedy':'$\\epsilon$-greedy' , 'greedy3':'dotted' ,\n",
    "              'greedythres':'$\\epsilon$-greedy with thresholding' ,\n",
    "              'fixed_express':'Express','fixed_sparse':'dotted' ,\n",
    "              'uncert':'max-uncert',\n",
    "              'mismin':'max-misclass',\n",
    "              'TSapprox':'TSapprox','TSapproxthres':'TSapproxthres',\n",
    "             'TSe4apprx':'dotted','TSe3apprx':'dotted','TSthresapprx':'dotted','misminapprox':'misminapprox',\n",
    "              'TSregthres':'dotted','newTSthres':'$\\epsilon$-$\\delta$-diffuse TS with thresholding',\n",
    "              'newTSregthres':'TS with thresholding',\n",
    "              'greedynightmare':'dotted',\n",
    "              'winapprox':'WinApprox','winapproxthres':'WinApprox with thresholding',\n",
    "             'TSe1d2':'dotted','TSe1d4':'solid','winmismin':'winmismin',\n",
    "              'TSe4d0':r'$\\epsilon$-$\\delta$-diffuse TS ($\\epsilon=\\frac{1}{4}$,$\\delta=0$)',\n",
    "              'TSe2d0':r'$\\epsilon$-$\\delta$-diffuse TS ($\\epsilon=\\frac{1}{2}$,$\\delta=0$)',\n",
    "              'TSe2d2':r'$\\epsilon$-$\\delta$-diffuse TS ($\\epsilon=\\frac{1}{2}$,$\\delta=\\frac{1}{2}$)',\n",
    "              'TSe4d2':r'$\\epsilon$-$\\delta$-diffuse TS ($\\epsilon=\\frac{1}{4}$,$\\delta=\\frac{1}{2}$)',\n",
    "              'TSe2d4':r'$\\epsilon$-$\\delta$-diffuse TS ($\\epsilon=\\frac{1}{2}$,$\\delta=\\frac{1}{4}$)'}#:'Teal'\n",
    "    return labelmap"
   ]
  },
  {
   "cell_type": "code",
   "execution_count": 67,
   "metadata": {
    "collapsed": true
   },
   "outputs": [],
   "source": [
    "def calculateStop(filename=\"PVR-TSe4-120v20k10.csv\",thresv=[.02],k=10,table=0):\n",
    "    pvr=pd.read_csv('Results/'+filename)\n",
    "    label=filename.split('-')[1]\n",
    "    kmap=getkmap()\n",
    "    if kmap[label]:\n",
    "        bhist=pd.read_csv('Results/bhist-'+label+'-120v20k'+str(k)+'.csv')\n",
    "    else:\n",
    "        bhist=pd.read_csv('Results/bhist-'+label+'-120v20.csv')\n",
    "    items=120\n",
    "    if items=='300':\n",
    "        itemfile='HB_300items.csv'\n",
    "        nitems=300\n",
    "    elif items=='40':\n",
    "        itemfile='HB_40items.csv'\n",
    "        nitems=40\n",
    "    else:\n",
    "        itemfile='HB_120items.csv'\n",
    "        nitems=120\n",
    "        \n",
    "    itemcol=[]\n",
    "    for i in range(1,nitems+1):\n",
    "        itemcol+=['Item_'+str(i)]\n",
    "    data1=pd.read_csv(itemfile)\n",
    "    utilsall=data1.get_values()[:,2:]\n",
    "    realmean=np.mean(utilsall,0)\n",
    "    topk=np.argsort(realmean)[::-1][:k]\n",
    "    iters=int(np.max(bhist['Iter']))\n",
    "    #return pvr\n",
    "    if table:\n",
    "        thres=thresv\n",
    "        stop=np.zeros(iters)\n",
    "        for iternum in range(1,iters+1):\n",
    "            try:\n",
    "                st=int(min(pvr[np.logical_and(np.logical_and(pvr['Iter']==iternum,pvr['PVR']<thres),pvr['RespNum']>60)]['RespNum'].get_values()))\n",
    "            except Exception:\n",
    "                st=500\n",
    "            stop[iternum-1]=min(st,500)\n",
    "        return stop\n",
    "    else:\n",
    "        N=len(thresv)\n",
    "        stop=np.zeros((N,iters))\n",
    "        hr=np.zeros((N,iters))\n",
    "        for i,thres in enumerate(thresv):\n",
    "            for iternum in range(1,iters+1):\n",
    "                try:\n",
    "                    st=int(min(pvr[np.logical_and(np.logical_and(pvr['Iter']==iternum,pvr['PVR']<thres),pvr['RespNum']>60)]['RespNum'].get_values()))\n",
    "                except Exception:\n",
    "                    st=500\n",
    "                stop[i,iternum-1]=min(st,500)\n",
    "                cur=(np.argsort(bhist[np.logical_and(bhist['Iter']==iternum,bhist['RespNum']==st)][itemcol].get_values()[0])[::-1][:k])\n",
    "                hr[i,iternum-1]=((len(set.intersection(set(cur),set(topk))))/k)\n",
    "        return stop.mean(1),hr.mean(1)\n",
    "\n",
    "        "
   ]
  },
  {
   "cell_type": "code",
   "execution_count": 68,
   "metadata": {
    "collapsed": true
   },
   "outputs": [],
   "source": [
    "def plotstop(name='stoppingtimes.pdf'):\n",
    "    schemes1=['TS-','greedy-','TSe4-']\n",
    "    schemes2=['mismin-','uncert-','greedythres-','newTSthres-','newTSregthres-']\n",
    "    schemes3=['fixed_express-']\n",
    "    thresv=np.linspace(.05,.01,9)\n",
    "    [where,listoffiles]=getfiles(design='v20',schemes=schemes1+schemes2+schemes3)\n",
    "    colormap=getcolormap()\n",
    "    for file in listoffiles:\n",
    "        label=file.split('-')[1]\n",
    "        meanstop,meanhr=calculateStop(filename=file,thresv=thresv)\n",
    "        c=colormap[label]\n",
    "        #plt.subplot(311)\n",
    "        plt.plot(thresv,meanstop,label=label,color=c)\n",
    "        #plt.subplot(312)\n",
    "        #plt.plot(thresv,meanhr,label=label,color=c)\n",
    "        #plt.subplot(313)\n",
    "        #plt.plot(meanhr,meanstop,label=label,color=c)\n",
    "    \n",
    "    #plt.subplot(311)\n",
    "    plt.xlabel('Threshold')\n",
    "    \n",
    "    #plt.ylabel('Hit Rate')\n",
    "    plt.ylabel('Stopping Resp')\n",
    "    plt.title('Stopping Time based on threshold')\n",
    "    plt.legend(loc='upper right',fontsize='small')\n",
    "    #plt.subplot(312)\n",
    "    #plt.xlabel('Threshold')\n",
    "    #plt.ylabel('Hit rate at stop')\n",
    "    #plt.title('Top '+str(k)+' Hit Rate Over Respondents')\n",
    "    #plt.legend(loc='upper right',fontsize='small')\n",
    "    #plt.subplot(313)\n",
    "    #plt.ylabel('Stopping Resp')\n",
    "\n",
    "    #plt.xlabel('Hit rate at stop')\n",
    "\n",
    "    \n",
    "    plt.savefig('plots/'+name, dpi=100)\n",
    "    plt.close()"
   ]
  },
  {
   "cell_type": "code",
   "execution_count": 12,
   "metadata": {
    "collapsed": false
   },
   "outputs": [],
   "source": [
    "plotstop()\n"
   ]
  },
  {
   "cell_type": "code",
   "execution_count": 75,
   "metadata": {
    "collapsed": false
   },
   "outputs": [],
   "source": [
    "def histstop(name='stophis.pdf',thres=.05,schemes=[],top=.02,bins=6):\n",
    "    [where,listoffiles]=getfiles(design='v20',schemes=schemes)\n",
    "    colormap=getcolormap()\n",
    "    labelmap=getlabelmap()\n",
    "    for file in listoffiles:\n",
    "        label=file.split('-')[1]\n",
    "        stop=calculateStop(filename=file,thresv=thres,table=1)\n",
    "        c=colormap[label]\n",
    "        l=labelmap[label]\n",
    "        #plt.subplot(311)\n",
    "        plt.hist(stop,bins=bins,label=l,color=c,alpha=.8,edgecolor='black', linewidth=1.2,normed=True)\n",
    "        plt.ylim([0,top])\n",
    "        plt.xlim([0,500])\n",
    "        #plt.subplot(312)\n",
    "        #plt.plot(thresv,meanhr,label=label,color=c)\n",
    "        #plt.subplot(313)\n",
    "        #plt.plot(meanhr,meanstop,label=label,color=c)\n",
    "    \n",
    "    #plt.subplot(311)\n",
    "    plt.xlabel('Stopping Resp')\n",
    "    \n",
    "    #plt.ylabel('Hit Rate')\n",
    "    #plt.ylabel('Stopping Resp')\n",
    "    #plt.title('Stopping Time based on threshold')\n",
    "    plt.legend(loc='upper left',fontsize='small')\n",
    "    #plt.subplot(312)\n",
    "    #plt.xlabel('Threshold')\n",
    "    #plt.ylabel('Hit rate at stop')\n",
    "    #plt.title('Top '+str(k)+' Hit Rate Over Respondents')\n",
    "    #plt.legend(loc='upper right',fontsize='small')\n",
    "    #plt.subplot(313)\n",
    "    #plt.ylabel('Stopping Resp')\n",
    "\n",
    "    #plt.xlabel('Hit rate at stop')\n",
    "\n",
    "    \n",
    "    plt.savefig('plots/'+name, dpi=100)\n",
    "    plt.close()"
   ]
  },
  {
   "cell_type": "code",
   "execution_count": 70,
   "metadata": {
    "collapsed": true
   },
   "outputs": [],
   "source": [
    "schemes1=['TS-','greedy-','TSe4-']\n",
    "schemes2=['mismin-','uncert-','greedythres-','newTSthres-','newTSregthres-']\n",
    "schemes3=['fixed_express-']"
   ]
  },
  {
   "cell_type": "code",
   "execution_count": 76,
   "metadata": {
    "collapsed": false
   },
   "outputs": [],
   "source": [
    "histstop(name='stophistTSgr02.pdf',thres=.02,schemes=['TS-','greedy-'],bins=10)\n",
    "histstop(name='stophisted02.pdf',thres=.02,schemes=['newTSthres-','TSe4-'],bins=10)\n",
    "histstop(name='stophistprob02.pdf',thres=.02,schemes=['mismin-','uncert-'],bins=10)\n",
    "#histstop(name='stophistTSgr05.pdf',thres=.05,schemes=['TS-','greedy-'],top=.025)\n",
    "#histstop(name='stophisted05.pdf',thres=.05,schemes=['newTSthres-','TSe4-'],top=.025)\n",
    "#histstop(name='stophistprob05.pdf',thres=.05,schemes=['mismin-','uncert-'],top=.025)"
   ]
  },
  {
   "cell_type": "code",
   "execution_count": 13,
   "metadata": {
    "collapsed": true
   },
   "outputs": [],
   "source": [
    "def tablestop(thresv=[.05]):\n",
    "    schemes1=['TS-','greedy-','TSe4-']\n",
    "    schemes2=['mismin-','uncert-','greedythres-','newTSthres-','newTSregthres-']\n",
    "    schemes3=['fixed_express-']\n",
    "    [where,listoffiles]=getfiles(design='v20',schemes=schemes1+schemes2+schemes3)\n",
    "    colormap=getcolormap()\n",
    "    temptable=np.zeros((2,len(listoffiles)))\n",
    "    cols=[]\n",
    "    for ind,file in enumerate(listoffiles):\n",
    "        label=file.split('-')[1]\n",
    "        meanstop,meanhr=calculateStop(filename=file,thresv=thresv)\n",
    "        cols+=[label]\n",
    "        temptable[0,ind]=meanstop\n",
    "        temptable[1,ind]=meanhr\n",
    "    table=pd.DataFrame(temptable)\n",
    "    table.columns=cols\n",
    "    return table\n",
    "\n"
   ]
  },
  {
   "cell_type": "code",
   "execution_count": 14,
   "metadata": {
    "collapsed": false
   },
   "outputs": [
    {
     "data": {
      "text/html": [
       "<div>\n",
       "<table border=\"1\" class=\"dataframe\">\n",
       "  <thead>\n",
       "    <tr style=\"text-align: right;\">\n",
       "      <th></th>\n",
       "      <th>fixed_express</th>\n",
       "      <th>greedy</th>\n",
       "      <th>greedythres</th>\n",
       "      <th>mismin</th>\n",
       "      <th>newTSregthres</th>\n",
       "      <th>newTSthres</th>\n",
       "      <th>TS</th>\n",
       "      <th>TSe4</th>\n",
       "      <th>uncert</th>\n",
       "    </tr>\n",
       "  </thead>\n",
       "  <tbody>\n",
       "    <tr>\n",
       "      <th>0</th>\n",
       "      <td>317.800</td>\n",
       "      <td>235.40</td>\n",
       "      <td>183.200</td>\n",
       "      <td>134.200</td>\n",
       "      <td>98.400</td>\n",
       "      <td>135.600</td>\n",
       "      <td>120.600</td>\n",
       "      <td>145.600</td>\n",
       "      <td>124.200</td>\n",
       "    </tr>\n",
       "    <tr>\n",
       "      <th>1</th>\n",
       "      <td>0.854</td>\n",
       "      <td>0.88</td>\n",
       "      <td>0.852</td>\n",
       "      <td>0.848</td>\n",
       "      <td>0.795</td>\n",
       "      <td>0.857</td>\n",
       "      <td>0.846</td>\n",
       "      <td>0.866</td>\n",
       "      <td>0.837</td>\n",
       "    </tr>\n",
       "  </tbody>\n",
       "</table>\n",
       "</div>"
      ],
      "text/plain": [
       "   fixed_express  greedy  greedythres   mismin  newTSregthres  newTSthres  \\\n",
       "0        317.800  235.40      183.200  134.200         98.400     135.600   \n",
       "1          0.854    0.88        0.852    0.848          0.795       0.857   \n",
       "\n",
       "        TS     TSe4   uncert  \n",
       "0  120.600  145.600  124.200  \n",
       "1    0.846    0.866    0.837  "
      ]
     },
     "execution_count": 14,
     "metadata": {},
     "output_type": "execute_result"
    }
   ],
   "source": [
    "tablestop()"
   ]
  },
  {
   "cell_type": "code",
   "execution_count": 15,
   "metadata": {
    "collapsed": false
   },
   "outputs": [
    {
     "data": {
      "text/html": [
       "<div>\n",
       "<table border=\"1\" class=\"dataframe\">\n",
       "  <thead>\n",
       "    <tr style=\"text-align: right;\">\n",
       "      <th></th>\n",
       "      <th>fixed_express</th>\n",
       "      <th>greedy</th>\n",
       "      <th>greedythres</th>\n",
       "      <th>mismin</th>\n",
       "      <th>newTSregthres</th>\n",
       "      <th>newTSthres</th>\n",
       "      <th>TS</th>\n",
       "      <th>TSe4</th>\n",
       "      <th>uncert</th>\n",
       "    </tr>\n",
       "  </thead>\n",
       "  <tbody>\n",
       "    <tr>\n",
       "      <th>0</th>\n",
       "      <td>497.600</td>\n",
       "      <td>389.200</td>\n",
       "      <td>288.000</td>\n",
       "      <td>226.800</td>\n",
       "      <td>140.200</td>\n",
       "      <td>222.800</td>\n",
       "      <td>205.600</td>\n",
       "      <td>247.200</td>\n",
       "      <td>219.800</td>\n",
       "    </tr>\n",
       "    <tr>\n",
       "      <th>1</th>\n",
       "      <td>0.893</td>\n",
       "      <td>0.918</td>\n",
       "      <td>0.902</td>\n",
       "      <td>0.911</td>\n",
       "      <td>0.822</td>\n",
       "      <td>0.911</td>\n",
       "      <td>0.907</td>\n",
       "      <td>0.912</td>\n",
       "      <td>0.909</td>\n",
       "    </tr>\n",
       "  </tbody>\n",
       "</table>\n",
       "</div>"
      ],
      "text/plain": [
       "   fixed_express   greedy  greedythres   mismin  newTSregthres  newTSthres  \\\n",
       "0        497.600  389.200      288.000  226.800        140.200     222.800   \n",
       "1          0.893    0.918        0.902    0.911          0.822       0.911   \n",
       "\n",
       "        TS     TSe4   uncert  \n",
       "0  205.600  247.200  219.800  \n",
       "1    0.907    0.912    0.909  "
      ]
     },
     "execution_count": 15,
     "metadata": {},
     "output_type": "execute_result"
    }
   ],
   "source": [
    "tablestop(thresv=[.02])"
   ]
  },
  {
   "cell_type": "code",
   "execution_count": null,
   "metadata": {
    "collapsed": true
   },
   "outputs": [],
   "source": []
  }
 ],
 "metadata": {
  "kernelspec": {
   "display_name": "Python 3",
   "language": "python",
   "name": "python3"
  },
  "language_info": {
   "codemirror_mode": {
    "name": "ipython",
    "version": 3
   },
   "file_extension": ".py",
   "mimetype": "text/x-python",
   "name": "python",
   "nbconvert_exporter": "python",
   "pygments_lexer": "ipython3",
   "version": "3.4.4"
  }
 },
 "nbformat": 4,
 "nbformat_minor": 0
}
