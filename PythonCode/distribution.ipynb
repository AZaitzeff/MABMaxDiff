{
 "cells": [
  {
   "cell_type": "code",
   "execution_count": 1,
   "metadata": {
    "collapsed": true
   },
   "outputs": [],
   "source": [
    "import matplotlib.pyplot as plt\n",
    "import numpy as np\n",
    "import seaborn\n",
    "import pandas as pd\n",
    "from scipy.stats import gaussian_kde\n",
    "%matplotlib inline"
   ]
  },
  {
   "cell_type": "code",
   "execution_count": 2,
   "metadata": {
    "collapsed": true
   },
   "outputs": [],
   "source": [
    "def estimateparamsbayes(X,questions,allbest,allworst,w0=[],weights=[],tol=.0001,maxiter=100):\n",
    "    tol=.001\n",
    "    val=1\n",
    "    [numofq,nitems]=X.shape\n",
    "    if len(w0)<nitems or (np.abs(w0)>4).any():\n",
    "        w=np.zeros(nitems)    \n",
    "    else:\n",
    "        w=w0.copy()\n",
    "    if len(weights)<numofq:\n",
    "        weights=np.ones(numofq)\n",
    "    iternum=0\n",
    "    nb=np.bincount(allbest,weights,minlength=nitems)\n",
    "    nw=np.bincount(allworst,weights,minlength=nitems)\n",
    "    inplay=np.where(np.bincount(questions.flatten(),minlength=nitems)>0)[0]\n",
    "    notinplay=np.where(np.bincount(questions.flatten(),minlength=nitems)==0)[0]\n",
    "    try:\n",
    "        while val>tol and iternum<maxiter:\n",
    "            zb=np.sum(np.exp(w[questions]),1)\n",
    "            zw=np.sum(np.exp(-w[questions]),1)\n",
    "            Pb=((1/(zb)*X.T).T*np.exp(w))#broadcasting\n",
    "            Pw=((1/(zw)*X.T).T*np.exp(-w))#broadcasting\n",
    "            wPb=(Pb.T*weights).T\n",
    "            wPw=(Pw.T*weights).T\n",
    "            gradb=nb-np.sum(wPb,0)\n",
    "            gradw=-nw+np.sum(wPw,0)\n",
    "            grad=-(gradb+gradw)\n",
    "            Hb=np.dot(wPb.T,Pb)\n",
    "            Hbd=-np.sum(wPb*(1-Pb),0)\n",
    "            Hb+=-np.diag(np.diag(Hb))+np.diag(Hbd)\n",
    "            Hw=np.dot(wPw.T,Pw)\n",
    "            Hwd=-np.sum(wPw*(1-Pw),0)\n",
    "            Hw+=-np.diag(np.diag(Hw))+np.diag(Hwd)\n",
    "            H=-(Hb+Hw)\n",
    "            #gradl=grad[:-1]\n",
    "            #Hl=H[:-1,:-1]\n",
    "            gradl=grad[inplay[:-1]]\n",
    "            Hl=H[inplay[:-1],:][:,inplay[:-1]]\n",
    "            #Hlinv=np.linalg.pinv(Hl)\n",
    "            #Hinvgradl=np.dot(Hlinv,gradl)\n",
    "            Hinvgradl=np.linalg.solve(Hl,gradl)\n",
    "            #w[:-1]=w[:-1]-Hinvgradl\n",
    "            w[inplay[:-1]]=w[inplay[:-1]]-Hinvgradl\n",
    "            val=np.dot(gradl,Hinvgradl)\n",
    "            iternum+=1\n",
    "    except np.linalg.linalg.LinAlgError:\n",
    "        print('error')\n",
    "        print(numofq*4/12)\n",
    "        return np.random.randn(nitems)/4\n",
    "    if np.isnan(w).any():\n",
    "        print('nan')\n",
    "        print(numofq*4/12)\n",
    "        return np.random.randn(nitems)/4\n",
    "        #raise Exception('w contains nan')\n",
    "    w[notinplay]=w[np.random.choice(inplay,notinplay.shape[0])]+.001\n",
    "    return w"
   ]
  },
  {
   "cell_type": "code",
   "execution_count": 3,
   "metadata": {
    "collapsed": false
   },
   "outputs": [],
   "source": [
    "def getdraws(data,N=100,resp=60):\n",
    "    iternum=50\n",
    "    itemnum=120\n",
    "    choicecol=['Choice1','Choice2', 'Choice3', 'Choice4', 'Choice5']\n",
    "    choices=data[np.logical_and(data['Iter']==iternum,data['RespIDNum']<=resp)][choicecol].get_values()-1\n",
    "    best=data[np.logical_and(data['Iter']==iternum,data['RespIDNum']<=resp)]['Best'].get_values()-1\n",
    "    worst=data[np.logical_and(data['Iter']==iternum,data['RespIDNum']<=resp)]['Worst'].get_values()-1\n",
    "    [numofq,items]=choices.shape\n",
    "    X=np.zeros((numofq,itemnum))\n",
    "    for z,row in enumerate(choices):\n",
    "        X[z,row]=1\n",
    "    draws=np.zeros((N,itemnum))\n",
    "    for j in range(N):\n",
    "        weights=np.random.exponential(1,numofq)\n",
    "        draws[j]=estimateparamsbayes(X,choices,best,worst,weights=weights)\n",
    "    return draws"
   ]
  },
  {
   "cell_type": "code",
   "execution_count": 4,
   "metadata": {
    "collapsed": true
   },
   "outputs": [],
   "source": [
    "def getdifdraws(data,N=100,resp=60,delta=.25):\n",
    "    iternum=50\n",
    "    itemnum=120\n",
    "    choicecol=['Choice1','Choice2', 'Choice3', 'Choice4', 'Choice5']\n",
    "    choices=data[np.logical_and(data['Iter']==iternum,data['RespIDNum']<=resp)][choicecol].get_values()-1\n",
    "    best=data[np.logical_and(data['Iter']==iternum,data['RespIDNum']<=resp)]['Best'].get_values()-1\n",
    "    worst=data[np.logical_and(data['Iter']==iternum,data['RespIDNum']<=resp)]['Worst'].get_values()-1\n",
    "    [numofq,items]=choices.shape\n",
    "    X=np.zeros((numofq,itemnum))\n",
    "    for z,row in enumerate(choices):\n",
    "        X[z,row]=1\n",
    "    draws=np.zeros((N,itemnum))\n",
    "    \n",
    "    subsamp=int(numofq*delta)\n",
    "    for j in range(N):\n",
    "        #weights=np.random.exponential(1,numofq)\n",
    "        #sub=np.random.choice([x for x in range(0,numofq)],subsamp,p=weights/np.sum(weights))\n",
    "        sub=np.random.choice([x for x in range(0,numofq)],subsamp)\n",
    "        tempX=X[sub]\n",
    "        tempb=best[sub]\n",
    "        tempw=worst[sub]\n",
    "        tempq=choices[sub]\n",
    "        weights=np.random.exponential(1,subsamp)\n",
    "        draws[j]=estimateparamsbayes(tempX,tempq,tempb,tempw,weights=weights)\n",
    "    return draws"
   ]
  },
  {
   "cell_type": "code",
   "execution_count": 5,
   "metadata": {
    "collapsed": false
   },
   "outputs": [],
   "source": [
    "\n",
    "data1=pd.read_csv('HB_120items.csv')\n",
    "utilsall=data1.get_values()[:,2:]\n",
    "realmean=np.mean(utilsall,0)"
   ]
  },
  {
   "cell_type": "code",
   "execution_count": 183,
   "metadata": {
    "collapsed": false
   },
   "outputs": [],
   "source": [
    "np.random.choice?"
   ]
  },
  {
   "cell_type": "code",
   "execution_count": 16,
   "metadata": {
    "collapsed": false
   },
   "outputs": [],
   "source": [
    "files=['fixed_express-120v20','TS-120v20']\n",
    "item1=72\n",
    "item2=89\n",
    "dens=[]\n",
    "resp=60\n",
    "for filename in files:\n",
    "    data=pd.read_csv('Results/choice_data-'+filename+'.csv')\n",
    "    draws=getdraws(data,N=1000,resp=resp)\n",
    "    dens+=[gaussian_kde(draws[:,item1])]\n",
    "    dens+=[gaussian_kde(draws[:,item2])]"
   ]
  },
  {
   "cell_type": "code",
   "execution_count": 17,
   "metadata": {
    "collapsed": false
   },
   "outputs": [
    {
     "data": {
      "image/png": "[encoded data removed]",
      "text/plain": [
       "<matplotlib.figure.Figure at 0x10b519160>"
      ]
     },
     "metadata": {},
     "output_type": "display_data"
    }
   ],
   "source": [
    "x = np.linspace(-1.5,3.5,200)\n",
    "plt.fill_between(x, 0, dens[2](x),facecolor='Navy', alpha=0.8,label='TS, item 1')\n",
    "plt.fill_between(x, 0, dens[0](x),facecolor='Purple', alpha=0.8,label='Express, item 1')\n",
    "plt.fill_between(x, 0, dens[3](x),facecolor='Blue', alpha=0.8,label='TS, item 60')\n",
    "plt.fill_between(x, 0, dens[1](x),facecolor='Fuchsia', alpha=0.8,label='Express, item 60')\n",
    "plt.plot(x,dens[2](x),'k')\n",
    "plt.plot(x,dens[0](x),'k')\n",
    "plt.plot(x,dens[3](x),'k')\n",
    "plt.plot(x,dens[1](x),'k')\n",
    "plt.legend(loc='upper left',fontsize=12)\n",
    "plt.xlabel('Utility',fontsize=14)\n",
    "plt.ylim(0,3)\n",
    "name='utildis'+str(resp)+'.pdf'\n",
    "plt.savefig('plots/'+name, dpi=100)"
   ]
  },
  {
   "cell_type": "code",
   "execution_count": 20,
   "metadata": {
    "collapsed": true
   },
   "outputs": [],
   "source": [
    "filename='TSe4-120v20'\n",
    "item1=72\n",
    "item2=89\n",
    "dens=[]\n",
    "resp=300\n",
    "\n",
    "data=pd.read_csv('Results/choice_data-'+filename+'.csv')\n",
    "draws=getdraws(data,N=100,resp=resp)\n",
    "dens+=[gaussian_kde(draws[:,item1])]\n",
    "dens+=[gaussian_kde(draws[:,item2])]\n",
    "draws=getdifdraws(data,N=100,resp=resp)\n",
    "dens+=[gaussian_kde(draws[:,item1])]\n",
    "dens+=[gaussian_kde(draws[:,item2])]"
   ]
  },
  {
   "cell_type": "code",
   "execution_count": 21,
   "metadata": {
    "collapsed": true
   },
   "outputs": [],
   "source": [
    "for i in [0,1]:\n",
    "    x = np.linspace(-1.5,3.5,200)\n",
    "    plt.fill_between(x, 0, dens[0+i](x),facecolor='Red', alpha=0.8,label='TS')\n",
    "    plt.fill_between(x, 0, .75*dens[0+i](x)+.25*dens[2+i](x),facecolor='Purple', alpha=0.8,label='combined')\n",
    "    plt.fill_between(x, 0, dens[2+i](x),facecolor='Blue', alpha=0.8,label='diffuse')\n",
    "    plt.plot(x,dens[0+i](x),'k')\n",
    "    plt.plot(x,.75*dens[0+i](x)+.25*dens[2+i](x),'k')\n",
    "    plt.plot(x,dens[2+i](x),'k')\n",
    "    plt.legend(loc='upper left',fontsize=12)\n",
    "    plt.xlabel('Utility',fontsize=14)\n",
    "    plt.ylim(0,3)\n",
    "    name='utildifdis'+str(resp)+str(i*60)+'.pdf'\n",
    "    plt.savefig('plots/'+name, dpi=100)\n",
    "    plt.close()"
   ]
  },
  {
   "cell_type": "code",
   "execution_count": 190,
   "metadata": {
    "collapsed": false
   },
   "outputs": [],
   "source": []
  },
  {
   "cell_type": "code",
   "execution_count": 191,
   "metadata": {
    "collapsed": false
   },
   "outputs": [
    {
     "data": {
      "text/plain": [
       "(array([  1.,   0.,   1.,   0.,   4.,   4.,   8.,  11.,  12.,   7.,   7.,\n",
       "          8.,   9.,  10.,   7.,   3.,   2.,   2.,   1.,   3.]),\n",
       " array([-1.0089026 , -0.71548275, -0.42206289, -0.12864304,  0.16477681,\n",
       "         0.45819666,  0.75161652,  1.04503637,  1.33845622,  1.63187607,\n",
       "         1.92529593,  2.21871578,  2.51213563,  2.80555548,  3.09897534,\n",
       "         3.39239519,  3.68581504,  3.97923489,  4.27265475,  4.5660746 ,\n",
       "         4.85949445]),\n",
       " <a list of 20 Patch objects>)"
      ]
     },
     "execution_count": 191,
     "metadata": {},
     "output_type": "execute_result"
    },
    {
     "data": {
      "image/png": "[encoded data removed]",
      "text/plain": [
       "<matplotlib.figure.Figure at 0x110789438>"
      ]
     },
     "metadata": {},
     "output_type": "display_data"
    }
   ],
   "source": [
    "plt.hist(draws[:,item1],20)"
   ]
  },
  {
   "cell_type": "code",
   "execution_count": 177,
   "metadata": {
    "collapsed": false
   },
   "outputs": [
    {
     "data": {
      "text/plain": [
       "array([ 51,  22,  65, 118,  61, 117,  13, 107,  80,  73,   7,  16,  57,\n",
       "        24,  15,  75,  41,  78, 102,  60,  42,  36,  35,   5, 113,  79,\n",
       "        59,  90,  86, 108,  81,  26,  12,  43,  50, 112,   6,  70,  88,\n",
       "        82,  89,   8,  30,  47,  92,  19,  76,  23,  46,  32,  94,  52,\n",
       "        71,  66,  37, 111,  54,  10, 119, 116,  27, 105,  58,  48,  14,\n",
       "         4,  25,  69,  63,  21,  77,   9,  74, 109,  98, 104,  93,  96,\n",
       "        31,  11,   3,  72,  67,  20, 110,  49, 115,  17,  83,  64, 100,\n",
       "        33,   2,  68, 106,  95, 103,  44,  62,  45,   1,  91,  38,  34,\n",
       "        40, 114,  97,   0,  29,  56,  28,  55, 101,  85,  99,  84,  39,\n",
       "        87,  18,  53])"
      ]
     },
     "execution_count": 177,
     "metadata": {},
     "output_type": "execute_result"
    }
   ],
   "source": [
    "np.argsort(draws[8])"
   ]
  },
  {
   "cell_type": "code",
   "execution_count": null,
   "metadata": {
    "collapsed": true
   },
   "outputs": [],
   "source": []
  }
 ],
 "metadata": {
  "kernelspec": {
   "display_name": "Python 3",
   "language": "python",
   "name": "python3"
  },
  "language_info": {
   "codemirror_mode": {
    "name": "ipython",
    "version": 3
   },
   "file_extension": ".py",
   "mimetype": "text/x-python",
   "name": "python",
   "nbconvert_exporter": "python",
   "pygments_lexer": "ipython3",
   "version": "3.4.4"
  }
 },
 "nbformat": 4,
 "nbformat_minor": 0
}
