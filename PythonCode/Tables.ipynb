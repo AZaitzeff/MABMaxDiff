{
 "cells": [
  {
   "cell_type": "code",
   "execution_count": 1,
   "metadata": {
    "collapsed": true
   },
   "outputs": [],
   "source": [
    "import pandas as pd\n",
    "import matplotlib.pyplot as plt\n",
    "import numpy as np\n",
    "import os\n",
    "import seaborn"
   ]
  },
  {
   "cell_type": "code",
   "execution_count": 2,
   "metadata": {
    "collapsed": true
   },
   "outputs": [],
   "source": [
    "def getfiles(start=\"bhist\",items='120',design='v30',k='k10',schemes=['fixed_express'],mis=0):\n",
    "    listoffiles=[]\n",
    "    where='Results/'\n",
    "    kmap=getkmap()\n",
    "    for file in os.listdir(where):\n",
    "        if file.startswith(start):\n",
    "            num=[x for x in schemes if x in file]\n",
    "            if items in file and design in file and len(num)>0 and (file.endswith('mis.csv')==mis):\n",
    "                if kmap[file.split('-')[1]]:\n",
    "                    if k in file:\n",
    "                        #listoffiles.append(file)\n",
    "                        if file.endswith(k+'.csv'):\n",
    "                            listoffiles.append(file)\n",
    "                else:\n",
    "                    #listoffiles.append(file)\n",
    "                    if file.endswith(design+'.csv'):\n",
    "                        listoffiles.append(file)\n",
    "                \n",
    "    return where,listoffiles"
   ]
  },
  {
   "cell_type": "code",
   "execution_count": 3,
   "metadata": {
    "collapsed": true
   },
   "outputs": [],
   "source": [
    "def getkmap():\n",
    "    kmap={'TS':0,'TSe4':0,'TSe1':0,'TSe2':0,'TSthres':1,'TSdouble':1, 'greedy':0,'greedythres':1,\n",
    "              'fixed_express':0,'fixed_sparse':0,'uncert':1,'mismin':1,\n",
    "         'TSe4apprx':0,'TSthresapprx':1,'misminapprox':1,'TSregthres':1,\n",
    "         'newTSthres':1,'newTSregthres':1,'TSe3apprx':0,'TSe3':0,'greedy3':0}\n",
    "    return kmap"
   ]
  },
  {
   "cell_type": "code",
   "execution_count": 4,
   "metadata": {
    "collapsed": true
   },
   "outputs": [],
   "source": [
    "def histtableshort(items='120',k=10,design='v30',schemes=['fixed_express'],name='name.pdf',start=4,end=24,iters=100,mis=0):\n",
    "    where,listoffiles=getfiles(start='bhist',items=items,k='k'+str(k),design=design,schemes=schemes,mis=mis)\n",
    "    print(listoffiles)\n",
    "    if items=='300':\n",
    "        itemfile='HB_300items.csv'\n",
    "        nitems=300\n",
    "    elif items=='40':\n",
    "        itemfile='HB_40items.csv'\n",
    "        nitems=40\n",
    "    elif items=='86':\n",
    "        itemfile='ZB_86items.csv'\n",
    "        nitems=86\n",
    "    else:\n",
    "        itemfile='HB_120items.csv'\n",
    "        nitems=120\n",
    "    data1=pd.read_csv(itemfile)\n",
    "    utilsall=data1.get_values()[:,2:]\n",
    "    realmean=np.mean(utilsall,0)\n",
    "    topk=np.argsort(realmean)[::-1][:k]\n",
    "    itemcol=[]\n",
    "    nitems=int(items)\n",
    "    for i in range(1,nitems+1):\n",
    "        itemcol+=['Item_'+str(i)]\n",
    "    resps=50\n",
    "    topresp=np.zeros((iters,resps))\n",
    "    resp=[x for x in range(20,1020,20)]\n",
    "    meanvar=np.zeros((1,len(listoffiles)+1))\n",
    "    cols=['k']\n",
    "    for ind,file in enumerate(listoffiles):\n",
    "        data=pd.read_csv(where+'/'+file)\n",
    "        label=file.split('-')[1]\n",
    "        for j in range(iters):\n",
    "\n",
    "            iterdata=data[data['Iter']==(j+1)]\n",
    "            for i,cur in enumerate(np.argsort(iterdata[itemcol].get_values())[:,::-1][:,:k]):\n",
    "                topresp[j,i]=(len(set.intersection(set(cur),set(topk))))/k\n",
    "        cols+=[label]\n",
    "        topkmean=np.mean(topresp,0)\n",
    "\n",
    "        #topkvar=np.var(topresp,0)\n",
    "        meanvar[0,ind+1]=topkmean[end]\n",
    "        #meanvar[1,ind+1]=topkvar[end]\n",
    "    table=pd.DataFrame(meanvar)\n",
    "    table.columns=cols\n",
    "    table['k']=[str(k)]#,'Variance']\n",
    "    return table"
   ]
  },
  {
   "cell_type": "code",
   "execution_count": 6,
   "metadata": {
    "collapsed": false
   },
   "outputs": [],
   "source": [
    "schemes1=['TS-','greedy-','TSe4-']\n",
    "schemes2=['mismin-','uncert-','greedythres-','newTSthres-','newTSregthres-']\n",
    "schemes3=['fixed_express-']\n",
    "schemes4=['fixed_sparse-','TSdouble-']\n",
    "\n",
    "schemes5=['TSe4apprx-','TSe4-']\n",
    "schemes6=['TSthres-','TSthresapprx-']\n",
    "schemes7=['mismin-','misminapprox-']"
   ]
  },
  {
   "cell_type": "code",
   "execution_count": 6,
   "metadata": {
    "collapsed": false
   },
   "outputs": [
    {
     "name": "stdout",
     "output_type": "stream",
     "text": [
      "['bhist-fixed_express-120v20.csv', 'bhist-greedy-120v20.csv', 'bhist-greedythres-120v20k3.csv', 'bhist-mismin-120v20k3.csv', 'bhist-newTSregthres-120v20k3.csv', 'bhist-newTSthres-120v20k3.csv', 'bhist-TS-120v20.csv', 'bhist-TSe4-120v20.csv', 'bhist-uncert-120v20k3.csv']\n",
      "['bhist-fixed_express-120v20.csv', 'bhist-greedy-120v20.csv', 'bhist-greedythres-120v20k10.csv', 'bhist-mismin-120v20k10.csv', 'bhist-newTSregthres-120v20k10.csv', 'bhist-newTSthres-120v20k10.csv', 'bhist-TS-120v20.csv', 'bhist-TSe4-120v20.csv', 'bhist-uncert-120v20k10.csv']\n",
      "['bhist-fixed_express-120v20.csv', 'bhist-greedy-120v20.csv', 'bhist-greedythres-120v20k20.csv', 'bhist-mismin-120v20k20.csv', 'bhist-newTSregthres-120v20k20.csv', 'bhist-newTSthres-120v20k20.csv', 'bhist-TS-120v20.csv', 'bhist-TSe4-120v20.csv', 'bhist-uncert-120v20k20.csv']\n",
      "['bhist-fixed_express-120v20.csv', 'bhist-greedy-120v20.csv', 'bhist-greedythres-120v20k40.csv', 'bhist-mismin-120v20k40.csv', 'bhist-newTSregthres-120v20k40.csv', 'bhist-newTSthres-120v20k40.csv', 'bhist-TS-120v20.csv', 'bhist-TSe4-120v20.csv', 'bhist-uncert-120v20k40.csv']\n"
     ]
    }
   ],
   "source": [
    "table1=histtableshort(design='v20',k=3,schemes=schemes1+schemes2+schemes3)\n",
    "table2=histtableshort(design='v20',k=10,schemes=schemes1+schemes2+schemes3)\n",
    "table3=histtableshort(design='v20',k=20,schemes=schemes1+schemes2+schemes3)\n",
    "table4=histtableshort(design='v20',k=40,schemes=schemes1+schemes2+schemes3)"
   ]
  },
  {
   "cell_type": "code",
   "execution_count": 7,
   "metadata": {
    "collapsed": false
   },
   "outputs": [],
   "source": [
    "table=table1.append(table2).append(table3).append(table4)"
   ]
  },
  {
   "cell_type": "code",
   "execution_count": 8,
   "metadata": {
    "collapsed": false
   },
   "outputs": [
    {
     "data": {
      "text/html": [
       "<div>\n",
       "<table border=\"1\" class=\"dataframe\">\n",
       "  <thead>\n",
       "    <tr style=\"text-align: right;\">\n",
       "      <th></th>\n",
       "      <th>k</th>\n",
       "      <th>fixed_express</th>\n",
       "      <th>greedy</th>\n",
       "      <th>greedythres</th>\n",
       "      <th>mismin</th>\n",
       "      <th>newTSregthres</th>\n",
       "      <th>newTSthres</th>\n",
       "      <th>TS</th>\n",
       "      <th>TSe4</th>\n",
       "      <th>uncert</th>\n",
       "    </tr>\n",
       "  </thead>\n",
       "  <tbody>\n",
       "    <tr>\n",
       "      <th>0</th>\n",
       "      <td>3</td>\n",
       "      <td>0.78000</td>\n",
       "      <td>0.95000</td>\n",
       "      <td>0.933333</td>\n",
       "      <td>0.9500</td>\n",
       "      <td>0.8300</td>\n",
       "      <td>0.97000</td>\n",
       "      <td>0.9400</td>\n",
       "      <td>0.956667</td>\n",
       "      <td>0.943333</td>\n",
       "    </tr>\n",
       "    <tr>\n",
       "      <th>0</th>\n",
       "      <td>10</td>\n",
       "      <td>0.87700</td>\n",
       "      <td>0.92500</td>\n",
       "      <td>0.928000</td>\n",
       "      <td>0.9390</td>\n",
       "      <td>0.8920</td>\n",
       "      <td>0.95200</td>\n",
       "      <td>0.9330</td>\n",
       "      <td>0.952000</td>\n",
       "      <td>0.945000</td>\n",
       "    </tr>\n",
       "    <tr>\n",
       "      <th>0</th>\n",
       "      <td>20</td>\n",
       "      <td>0.86200</td>\n",
       "      <td>0.82750</td>\n",
       "      <td>0.913500</td>\n",
       "      <td>0.9275</td>\n",
       "      <td>0.8890</td>\n",
       "      <td>0.92300</td>\n",
       "      <td>0.8635</td>\n",
       "      <td>0.868500</td>\n",
       "      <td>0.919000</td>\n",
       "    </tr>\n",
       "    <tr>\n",
       "      <th>0</th>\n",
       "      <td>40</td>\n",
       "      <td>0.88725</td>\n",
       "      <td>0.84475</td>\n",
       "      <td>0.925500</td>\n",
       "      <td>0.9370</td>\n",
       "      <td>0.9115</td>\n",
       "      <td>0.94075</td>\n",
       "      <td>0.8045</td>\n",
       "      <td>0.850250</td>\n",
       "      <td>0.938000</td>\n",
       "    </tr>\n",
       "  </tbody>\n",
       "</table>\n",
       "</div>"
      ],
      "text/plain": [
       "    k  fixed_express   greedy  greedythres  mismin  newTSregthres  newTSthres  \\\n",
       "0   3        0.78000  0.95000     0.933333  0.9500         0.8300     0.97000   \n",
       "0  10        0.87700  0.92500     0.928000  0.9390         0.8920     0.95200   \n",
       "0  20        0.86200  0.82750     0.913500  0.9275         0.8890     0.92300   \n",
       "0  40        0.88725  0.84475     0.925500  0.9370         0.9115     0.94075   \n",
       "\n",
       "       TS      TSe4    uncert  \n",
       "0  0.9400  0.956667  0.943333  \n",
       "0  0.9330  0.952000  0.945000  \n",
       "0  0.8635  0.868500  0.919000  \n",
       "0  0.8045  0.850250  0.938000  "
      ]
     },
     "execution_count": 8,
     "metadata": {},
     "output_type": "execute_result"
    }
   ],
   "source": [
    "table"
   ]
  },
  {
   "cell_type": "code",
   "execution_count": 15,
   "metadata": {
    "collapsed": false
   },
   "outputs": [
    {
     "data": {
      "text/plain": [
       "'\\\\begin{tabular}{llrrrrrrrrrrrrrrrrrr}\\n\\\\toprule\\n{} &   k &  fixed\\\\_express &  fixed\\\\_express &  fixed\\\\_express &  fixed\\\\_express &  fixed\\\\_express &  greedy &  greedythres &  mismin &  newTSregthres &  newTSthres &    TS &    TS &  TSe4 &  TSe4 &  TSe4 &  TSregthres &  TSthres &  uncert \\\\\\\\\\n\\\\midrule\\n0 &   3 &          0.177 &          0.780 &          0.677 &          0.710 &          0.673 &   0.950 &        0.933 &   0.950 &          0.830 &       0.970 & 0.940 & 0.910 & 0.957 & 0.900 & 0.923 &       0.917 &    0.947 &   0.943 \\\\\\\\\\n0 &  10 &          0.829 &          0.877 &          0.869 &          0.884 &          0.864 &   0.925 &        0.928 &   0.939 &          0.892 &       0.952 & 0.933 & 0.904 & 0.952 & 0.902 & 0.915 &       0.940 &    0.947 &   0.945 \\\\\\\\\\n0 &  20 &          0.858 &          0.862 &          0.861 &          0.862 &          0.854 &   0.827 &        0.914 &   0.928 &          0.889 &       0.923 & 0.863 & 0.836 & 0.868 & 0.829 & 0.835 &       0.916 &    0.914 &   0.919 \\\\\\\\\\n0 &  40 &          0.887 &          0.887 &          0.889 &          0.883 &          0.885 &   0.845 &        0.926 &   0.937 &          0.911 &       0.941 & 0.805 & 0.770 & 0.850 & 0.769 & 0.774 &       0.929 &    0.927 &   0.938 \\\\\\\\\\n\\\\bottomrule\\n\\\\end{tabular}\\n'"
      ]
     },
     "execution_count": 15,
     "metadata": {},
     "output_type": "execute_result"
    }
   ],
   "source": [
    "table.to_latex(float_format=\"%.3f\")"
   ]
  },
  {
   "cell_type": "code",
   "execution_count": 16,
   "metadata": {
    "collapsed": false
   },
   "outputs": [],
   "source": [
    "resp=[x for x in range(20,1020,20)]"
   ]
  },
  {
   "cell_type": "code",
   "execution_count": 17,
   "metadata": {
    "collapsed": false
   },
   "outputs": [
    {
     "data": {
      "text/plain": [
       "260"
      ]
     },
     "execution_count": 17,
     "metadata": {},
     "output_type": "execute_result"
    }
   ],
   "source": [
    "resp[12]"
   ]
  },
  {
   "cell_type": "code",
   "execution_count": 9,
   "metadata": {
    "collapsed": false
   },
   "outputs": [
    {
     "name": "stdout",
     "output_type": "stream",
     "text": [
      "['bhist-fixed_express-120v20.csv', 'bhist-greedy-120v20.csv', 'bhist-greedythres-120v20k3.csv', 'bhist-mismin-120v20k3.csv', 'bhist-newTSregthres-120v20k3.csv', 'bhist-newTSthres-120v20k3.csv', 'bhist-TS-120v20.csv', 'bhist-TSe4-120v20.csv', 'bhist-uncert-120v20k3.csv']\n",
      "['bhist-fixed_express-120v20.csv', 'bhist-greedy-120v20.csv', 'bhist-greedythres-120v20k10.csv', 'bhist-mismin-120v20k10.csv', 'bhist-newTSregthres-120v20k10.csv', 'bhist-newTSthres-120v20k10.csv', 'bhist-TS-120v20.csv', 'bhist-TSe4-120v20.csv', 'bhist-uncert-120v20k10.csv']\n",
      "['bhist-fixed_express-120v20.csv', 'bhist-greedy-120v20.csv', 'bhist-greedythres-120v20k20.csv', 'bhist-mismin-120v20k20.csv', 'bhist-newTSregthres-120v20k20.csv', 'bhist-newTSthres-120v20k20.csv', 'bhist-TS-120v20.csv', 'bhist-TSe4-120v20.csv', 'bhist-uncert-120v20k20.csv']\n",
      "['bhist-fixed_express-120v20.csv', 'bhist-greedy-120v20.csv', 'bhist-greedythres-120v20k40.csv', 'bhist-mismin-120v20k40.csv', 'bhist-newTSregthres-120v20k40.csv', 'bhist-newTSthres-120v20k40.csv', 'bhist-TS-120v20.csv', 'bhist-TSe4-120v20.csv', 'bhist-uncert-120v20k40.csv']\n"
     ]
    }
   ],
   "source": [
    "table1=histtableshort(design='v20',k=3,schemes=schemes1+schemes2+schemes3,end=12)\n",
    "table2=histtableshort(design='v20',k=10,schemes=schemes1+schemes2+schemes3,end=12)\n",
    "table3=histtableshort(design='v20',k=20,schemes=schemes1+schemes2+schemes3,end=12)\n",
    "table4=histtableshort(design='v20',k=40,schemes=schemes1+schemes2+schemes3,end=12)"
   ]
  },
  {
   "cell_type": "code",
   "execution_count": 10,
   "metadata": {
    "collapsed": true
   },
   "outputs": [],
   "source": [
    "table=table1.append(table2).append(table3).append(table4)"
   ]
  },
  {
   "cell_type": "code",
   "execution_count": 11,
   "metadata": {
    "collapsed": false
   },
   "outputs": [
    {
     "data": {
      "text/html": [
       "<div>\n",
       "<table border=\"1\" class=\"dataframe\">\n",
       "  <thead>\n",
       "    <tr style=\"text-align: right;\">\n",
       "      <th></th>\n",
       "      <th>k</th>\n",
       "      <th>fixed_express</th>\n",
       "      <th>greedy</th>\n",
       "      <th>greedythres</th>\n",
       "      <th>mismin</th>\n",
       "      <th>newTSregthres</th>\n",
       "      <th>newTSthres</th>\n",
       "      <th>TS</th>\n",
       "      <th>TSe4</th>\n",
       "      <th>uncert</th>\n",
       "    </tr>\n",
       "  </thead>\n",
       "  <tbody>\n",
       "    <tr>\n",
       "      <th>0</th>\n",
       "      <td>3</td>\n",
       "      <td>0.65000</td>\n",
       "      <td>0.853333</td>\n",
       "      <td>0.860</td>\n",
       "      <td>0.883333</td>\n",
       "      <td>0.783333</td>\n",
       "      <td>0.863333</td>\n",
       "      <td>0.863333</td>\n",
       "      <td>0.873333</td>\n",
       "      <td>0.84000</td>\n",
       "    </tr>\n",
       "    <tr>\n",
       "      <th>0</th>\n",
       "      <td>10</td>\n",
       "      <td>0.82500</td>\n",
       "      <td>0.880000</td>\n",
       "      <td>0.902</td>\n",
       "      <td>0.907000</td>\n",
       "      <td>0.866000</td>\n",
       "      <td>0.919000</td>\n",
       "      <td>0.923000</td>\n",
       "      <td>0.909000</td>\n",
       "      <td>0.90100</td>\n",
       "    </tr>\n",
       "    <tr>\n",
       "      <th>0</th>\n",
       "      <td>20</td>\n",
       "      <td>0.82450</td>\n",
       "      <td>0.784000</td>\n",
       "      <td>0.863</td>\n",
       "      <td>0.884500</td>\n",
       "      <td>0.859500</td>\n",
       "      <td>0.882000</td>\n",
       "      <td>0.825500</td>\n",
       "      <td>0.820000</td>\n",
       "      <td>0.88550</td>\n",
       "    </tr>\n",
       "    <tr>\n",
       "      <th>0</th>\n",
       "      <td>40</td>\n",
       "      <td>0.85725</td>\n",
       "      <td>0.809000</td>\n",
       "      <td>0.884</td>\n",
       "      <td>0.908000</td>\n",
       "      <td>0.886750</td>\n",
       "      <td>0.900750</td>\n",
       "      <td>0.786750</td>\n",
       "      <td>0.818250</td>\n",
       "      <td>0.89675</td>\n",
       "    </tr>\n",
       "  </tbody>\n",
       "</table>\n",
       "</div>"
      ],
      "text/plain": [
       "    k  fixed_express    greedy  greedythres    mismin  newTSregthres  \\\n",
       "0   3        0.65000  0.853333        0.860  0.883333       0.783333   \n",
       "0  10        0.82500  0.880000        0.902  0.907000       0.866000   \n",
       "0  20        0.82450  0.784000        0.863  0.884500       0.859500   \n",
       "0  40        0.85725  0.809000        0.884  0.908000       0.886750   \n",
       "\n",
       "   newTSthres        TS      TSe4   uncert  \n",
       "0    0.863333  0.863333  0.873333  0.84000  \n",
       "0    0.919000  0.923000  0.909000  0.90100  \n",
       "0    0.882000  0.825500  0.820000  0.88550  \n",
       "0    0.900750  0.786750  0.818250  0.89675  "
      ]
     },
     "execution_count": 11,
     "metadata": {},
     "output_type": "execute_result"
    }
   ],
   "source": [
    "table"
   ]
  },
  {
   "cell_type": "code",
   "execution_count": 22,
   "metadata": {
    "collapsed": false
   },
   "outputs": [
    {
     "data": {
      "text/plain": [
       "'\\\\begin{tabular}{llrrrrrrrrr}\\n\\\\toprule\\n{} &   k &  fixed\\\\_express &  greedy &  greedythres &  mismin &    TS &  TSe4 &  TSregthres &  TSthres &  uncert \\\\\\\\\\n\\\\midrule\\n0 &   3 &          0.650 &   0.853 &        0.860 &   0.883 & 0.863 & 0.873 &       0.850 &    0.893 &   0.840 \\\\\\\\\\n0 &  10 &          0.825 &   0.880 &        0.902 &   0.907 & 0.923 & 0.909 &       0.909 &    0.907 &   0.901 \\\\\\\\\\n0 &  20 &          0.824 &   0.784 &        0.863 &   0.885 & 0.825 & 0.820 &       0.869 &    0.879 &   0.886 \\\\\\\\\\n0 &  40 &          0.857 &   0.809 &        0.884 &   0.908 & 0.787 & 0.818 &       0.895 &    0.888 &   0.897 \\\\\\\\\\n\\\\bottomrule\\n\\\\end{tabular}\\n'"
      ]
     },
     "execution_count": 22,
     "metadata": {},
     "output_type": "execute_result"
    }
   ],
   "source": [
    "table.to_latex(float_format=\"%.3f\")"
   ]
  },
  {
   "cell_type": "code",
   "execution_count": 12,
   "metadata": {
    "collapsed": false
   },
   "outputs": [
    {
     "name": "stdout",
     "output_type": "stream",
     "text": [
      "['bhist-fixed_express-300v20.csv', 'bhist-greedy-300v20.csv', 'bhist-greedythres-300v20k3.csv', 'bhist-mismin-300v20k3.csv', 'bhist-newTSregthres-300v20k3.csv', 'bhist-newTSthres-300v20k3.csv', 'bhist-TS-300v20.csv', 'bhist-TSe4-300v20.csv', 'bhist-uncert-300v20k3.csv']\n",
      "['bhist-fixed_express-300v20.csv', 'bhist-greedy-300v20.csv', 'bhist-greedythres-300v20k10.csv', 'bhist-mismin-300v20k10.csv', 'bhist-newTSregthres-300v20k10.csv', 'bhist-newTSthres-300v20k10.csv', 'bhist-TS-300v20.csv', 'bhist-TSe4-300v20.csv', 'bhist-uncert-300v20k10.csv']\n",
      "['bhist-fixed_express-300v20.csv', 'bhist-greedy-300v20.csv', 'bhist-greedythres-300v20k20.csv', 'bhist-mismin-300v20k20.csv', 'bhist-newTSregthres-300v20k20.csv', 'bhist-newTSthres-300v20k20.csv', 'bhist-TS-300v20.csv', 'bhist-TSe4-300v20.csv', 'bhist-uncert-300v20k20.csv']\n",
      "['bhist-fixed_express-300v20.csv', 'bhist-greedy-300v20.csv', 'bhist-greedythres-300v20k40.csv', 'bhist-mismin-300v20k40.csv', 'bhist-newTSregthres-300v20k40.csv', 'bhist-newTSthres-300v20k40.csv', 'bhist-TS-300v20.csv', 'bhist-TSe4-300v20.csv', 'bhist-uncert-300v20k40.csv']\n"
     ]
    }
   ],
   "source": [
    "table1=histtableshort(items='300',design='v20',k=3,schemes=schemes1+schemes2+schemes3,end=12)\n",
    "table2=histtableshort(items='300',design='v20',k=10,schemes=schemes1+schemes2+schemes3,end=12)\n",
    "table3=histtableshort(items='300',design='v20',k=20,schemes=schemes1+schemes2+schemes3,end=12)\n",
    "table4=histtableshort(items='300',design='v20',k=40,schemes=schemes1+schemes2+schemes3,end=12)\n",
    "table=table1.append(table2).append(table3).append(table4)"
   ]
  },
  {
   "cell_type": "code",
   "execution_count": 13,
   "metadata": {
    "collapsed": false
   },
   "outputs": [
    {
     "data": {
      "text/html": [
       "<div>\n",
       "<table border=\"1\" class=\"dataframe\">\n",
       "  <thead>\n",
       "    <tr style=\"text-align: right;\">\n",
       "      <th></th>\n",
       "      <th>k</th>\n",
       "      <th>fixed_express</th>\n",
       "      <th>greedy</th>\n",
       "      <th>greedythres</th>\n",
       "      <th>mismin</th>\n",
       "      <th>newTSregthres</th>\n",
       "      <th>newTSthres</th>\n",
       "      <th>TS</th>\n",
       "      <th>TSe4</th>\n",
       "      <th>uncert</th>\n",
       "    </tr>\n",
       "  </thead>\n",
       "  <tbody>\n",
       "    <tr>\n",
       "      <th>0</th>\n",
       "      <td>3</td>\n",
       "      <td>0.306667</td>\n",
       "      <td>0.593333</td>\n",
       "      <td>0.476667</td>\n",
       "      <td>0.543333</td>\n",
       "      <td>0.536667</td>\n",
       "      <td>0.646667</td>\n",
       "      <td>0.596667</td>\n",
       "      <td>0.640</td>\n",
       "      <td>0.580</td>\n",
       "    </tr>\n",
       "    <tr>\n",
       "      <th>0</th>\n",
       "      <td>10</td>\n",
       "      <td>0.462000</td>\n",
       "      <td>0.612000</td>\n",
       "      <td>0.540000</td>\n",
       "      <td>0.682000</td>\n",
       "      <td>0.576000</td>\n",
       "      <td>0.674000</td>\n",
       "      <td>0.630000</td>\n",
       "      <td>0.662</td>\n",
       "      <td>0.694</td>\n",
       "    </tr>\n",
       "    <tr>\n",
       "      <th>0</th>\n",
       "      <td>20</td>\n",
       "      <td>0.550500</td>\n",
       "      <td>0.599500</td>\n",
       "      <td>0.593500</td>\n",
       "      <td>0.722000</td>\n",
       "      <td>0.590000</td>\n",
       "      <td>0.714000</td>\n",
       "      <td>0.606500</td>\n",
       "      <td>0.658</td>\n",
       "      <td>0.719</td>\n",
       "    </tr>\n",
       "    <tr>\n",
       "      <th>0</th>\n",
       "      <td>40</td>\n",
       "      <td>0.617000</td>\n",
       "      <td>0.571750</td>\n",
       "      <td>0.616500</td>\n",
       "      <td>0.705000</td>\n",
       "      <td>0.638000</td>\n",
       "      <td>0.702250</td>\n",
       "      <td>0.525250</td>\n",
       "      <td>0.625</td>\n",
       "      <td>0.721</td>\n",
       "    </tr>\n",
       "  </tbody>\n",
       "</table>\n",
       "</div>"
      ],
      "text/plain": [
       "    k  fixed_express    greedy  greedythres    mismin  newTSregthres  \\\n",
       "0   3       0.306667  0.593333     0.476667  0.543333       0.536667   \n",
       "0  10       0.462000  0.612000     0.540000  0.682000       0.576000   \n",
       "0  20       0.550500  0.599500     0.593500  0.722000       0.590000   \n",
       "0  40       0.617000  0.571750     0.616500  0.705000       0.638000   \n",
       "\n",
       "   newTSthres        TS   TSe4  uncert  \n",
       "0    0.646667  0.596667  0.640   0.580  \n",
       "0    0.674000  0.630000  0.662   0.694  \n",
       "0    0.714000  0.606500  0.658   0.719  \n",
       "0    0.702250  0.525250  0.625   0.721  "
      ]
     },
     "execution_count": 13,
     "metadata": {},
     "output_type": "execute_result"
    }
   ],
   "source": [
    "table"
   ]
  },
  {
   "cell_type": "code",
   "execution_count": 23,
   "metadata": {
    "collapsed": false
   },
   "outputs": [
    {
     "data": {
      "text/plain": [
       "'\\\\begin{tabular}{llrrrrrrrrr}\\n\\\\toprule\\n{} &   k &  fixed\\\\_express &  greedy &  greedythres &  mismin &  newTSregthres &  newTSthres &    TS &  TSe4 &  uncert \\\\\\\\\\n\\\\midrule\\n0 &   3 &          0.387 &   0.763 &        0.747 &   0.773 &          0.617 &       0.800 & 0.720 & 0.793 &   0.777 \\\\\\\\\\n0 &  10 &          0.578 &   0.759 &        0.718 &   0.794 &          0.626 &       0.792 & 0.702 & 0.784 &   0.792 \\\\\\\\\\n0 &  20 &          0.676 &   0.718 &        0.764 &   0.842 &          0.633 &       0.821 & 0.673 & 0.764 &   0.846 \\\\\\\\\\n0 &  40 &          0.717 &   0.649 &        0.751 &   0.813 &          0.693 &       0.799 & 0.575 & 0.696 &   0.828 \\\\\\\\\\n\\\\bottomrule\\n\\\\end{tabular}\\n'"
      ]
     },
     "execution_count": 23,
     "metadata": {},
     "output_type": "execute_result"
    }
   ],
   "source": [
    "table.to_latex(float_format=\"%.3f\")"
   ]
  },
  {
   "cell_type": "code",
   "execution_count": 6,
   "metadata": {
    "collapsed": false
   },
   "outputs": [
    {
     "name": "stdout",
     "output_type": "stream",
     "text": [
      "['bhist-fixed_express-300v20.csv', 'bhist-greedy-300v20.csv', 'bhist-greedythres-300v20k3.csv', 'bhist-mismin-300v20k3.csv', 'bhist-newTSregthres-300v20k3.csv', 'bhist-newTSthres-300v20k3.csv', 'bhist-TS-300v20.csv', 'bhist-TSe4-300v20.csv', 'bhist-uncert-300v20k3.csv']\n",
      "['bhist-fixed_express-300v20.csv', 'bhist-greedy-300v20.csv', 'bhist-greedythres-300v20k10.csv', 'bhist-mismin-300v20k10.csv', 'bhist-newTSregthres-300v20k10.csv', 'bhist-newTSthres-300v20k10.csv', 'bhist-TS-300v20.csv', 'bhist-TSe4-300v20.csv', 'bhist-uncert-300v20k10.csv']\n",
      "['bhist-fixed_express-300v20.csv', 'bhist-greedy-300v20.csv', 'bhist-greedythres-300v20k20.csv', 'bhist-mismin-300v20k20.csv', 'bhist-newTSregthres-300v20k20.csv', 'bhist-newTSthres-300v20k20.csv', 'bhist-TS-300v20.csv', 'bhist-TSe4-300v20.csv', 'bhist-uncert-300v20k20.csv']\n",
      "['bhist-fixed_express-300v20.csv', 'bhist-greedy-300v20.csv', 'bhist-greedythres-300v20k40.csv', 'bhist-mismin-300v20k40.csv', 'bhist-newTSregthres-300v20k40.csv', 'bhist-newTSthres-300v20k40.csv', 'bhist-TS-300v20.csv', 'bhist-TSe4-300v20.csv', 'bhist-uncert-300v20k40.csv']\n"
     ]
    }
   ],
   "source": [
    "table1=histtableshort(items='300',design='v20',k=3,schemes=schemes1+schemes2+schemes3,end=24)\n",
    "table2=histtableshort(items='300',design='v20',k=10,schemes=schemes1+schemes2+schemes3,end=24)\n",
    "table3=histtableshort(items='300',design='v20',k=20,schemes=schemes1+schemes2+schemes3,end=24)\n",
    "table4=histtableshort(items='300',design='v20',k=40,schemes=schemes1+schemes2+schemes3,end=24)\n",
    "table=table1.append(table2).append(table3).append(table4)"
   ]
  },
  {
   "cell_type": "code",
   "execution_count": 7,
   "metadata": {
    "collapsed": false
   },
   "outputs": [
    {
     "data": {
      "text/html": [
       "<div>\n",
       "<table border=\"1\" class=\"dataframe\">\n",
       "  <thead>\n",
       "    <tr style=\"text-align: right;\">\n",
       "      <th></th>\n",
       "      <th>k</th>\n",
       "      <th>fixed_express</th>\n",
       "      <th>greedy</th>\n",
       "      <th>greedythres</th>\n",
       "      <th>mismin</th>\n",
       "      <th>newTSregthres</th>\n",
       "      <th>newTSthres</th>\n",
       "      <th>TS</th>\n",
       "      <th>TSe4</th>\n",
       "      <th>uncert</th>\n",
       "    </tr>\n",
       "  </thead>\n",
       "  <tbody>\n",
       "    <tr>\n",
       "      <th>0</th>\n",
       "      <td>3</td>\n",
       "      <td>0.386667</td>\n",
       "      <td>0.763333</td>\n",
       "      <td>0.746667</td>\n",
       "      <td>0.773333</td>\n",
       "      <td>0.616667</td>\n",
       "      <td>0.8000</td>\n",
       "      <td>0.7200</td>\n",
       "      <td>0.793333</td>\n",
       "      <td>0.776667</td>\n",
       "    </tr>\n",
       "    <tr>\n",
       "      <th>0</th>\n",
       "      <td>10</td>\n",
       "      <td>0.578000</td>\n",
       "      <td>0.759000</td>\n",
       "      <td>0.718000</td>\n",
       "      <td>0.794000</td>\n",
       "      <td>0.626000</td>\n",
       "      <td>0.7920</td>\n",
       "      <td>0.7020</td>\n",
       "      <td>0.784000</td>\n",
       "      <td>0.792000</td>\n",
       "    </tr>\n",
       "    <tr>\n",
       "      <th>0</th>\n",
       "      <td>20</td>\n",
       "      <td>0.676000</td>\n",
       "      <td>0.718000</td>\n",
       "      <td>0.764500</td>\n",
       "      <td>0.841500</td>\n",
       "      <td>0.633000</td>\n",
       "      <td>0.8210</td>\n",
       "      <td>0.6735</td>\n",
       "      <td>0.764000</td>\n",
       "      <td>0.846500</td>\n",
       "    </tr>\n",
       "    <tr>\n",
       "      <th>0</th>\n",
       "      <td>40</td>\n",
       "      <td>0.716750</td>\n",
       "      <td>0.648750</td>\n",
       "      <td>0.751000</td>\n",
       "      <td>0.812500</td>\n",
       "      <td>0.692750</td>\n",
       "      <td>0.7995</td>\n",
       "      <td>0.5745</td>\n",
       "      <td>0.696250</td>\n",
       "      <td>0.827500</td>\n",
       "    </tr>\n",
       "  </tbody>\n",
       "</table>\n",
       "</div>"
      ],
      "text/plain": [
       "    k  fixed_express    greedy  greedythres    mismin  newTSregthres  \\\n",
       "0   3       0.386667  0.763333     0.746667  0.773333       0.616667   \n",
       "0  10       0.578000  0.759000     0.718000  0.794000       0.626000   \n",
       "0  20       0.676000  0.718000     0.764500  0.841500       0.633000   \n",
       "0  40       0.716750  0.648750     0.751000  0.812500       0.692750   \n",
       "\n",
       "   newTSthres      TS      TSe4    uncert  \n",
       "0      0.8000  0.7200  0.793333  0.776667  \n",
       "0      0.7920  0.7020  0.784000  0.792000  \n",
       "0      0.8210  0.6735  0.764000  0.846500  \n",
       "0      0.7995  0.5745  0.696250  0.827500  "
      ]
     },
     "execution_count": 7,
     "metadata": {},
     "output_type": "execute_result"
    }
   ],
   "source": [
    "table"
   ]
  },
  {
   "cell_type": "code",
   "execution_count": 26,
   "metadata": {
    "collapsed": false
   },
   "outputs": [
    {
     "data": {
      "text/plain": [
       "'\\\\begin{tabular}{llrrrrrrrrr}\\n\\\\toprule\\n{} &   k &  fixed\\\\_express &  greedy &  greedythres &  mismin &  newTSregthres &  newTSthres &    TS &  TSe4 &  uncert \\\\\\\\\\n\\\\midrule\\n0 &   3 &          0.307 &   0.593 &        0.477 &   0.543 &          0.537 &       0.647 & 0.597 & 0.640 &   0.580 \\\\\\\\\\n0 &  10 &          0.462 &   0.612 &        0.540 &   0.682 &          0.576 &       0.674 & 0.630 & 0.662 &   0.694 \\\\\\\\\\n0 &  20 &          0.550 &   0.599 &        0.593 &   0.722 &          0.590 &       0.714 & 0.606 & 0.658 &   0.719 \\\\\\\\\\n0 &  40 &          0.617 &   0.572 &        0.616 &   0.705 &          0.638 &       0.702 & 0.525 & 0.625 &   0.721 \\\\\\\\\\n\\\\bottomrule\\n\\\\end{tabular}\\n'"
      ]
     },
     "execution_count": 26,
     "metadata": {},
     "output_type": "execute_result"
    }
   ],
   "source": [
    "table.to_latex(float_format=\"%.3f\")"
   ]
  },
  {
   "cell_type": "code",
   "execution_count": 8,
   "metadata": {
    "collapsed": false
   },
   "outputs": [
    {
     "name": "stdout",
     "output_type": "stream",
     "text": [
      "['bhist-fixed_express-40v20.csv', 'bhist-greedy-40v20.csv', 'bhist-greedythres-40v20k3.csv', 'bhist-mismin-40v20k3.csv', 'bhist-newTSregthres-40v20k3.csv', 'bhist-newTSthres-40v20k3.csv', 'bhist-TS-40v20.csv', 'bhist-TSe4-40v20.csv', 'bhist-uncert-40v20k3.csv']\n",
      "['bhist-fixed_express-40v20.csv', 'bhist-greedy-40v20.csv', 'bhist-greedythres-40v20k10.csv', 'bhist-mismin-40v20k10.csv', 'bhist-newTSregthres-40v20k10.csv', 'bhist-newTSthres-40v20k10.csv', 'bhist-TS-40v20.csv', 'bhist-TSe4-40v20.csv', 'bhist-uncert-40v20k10.csv']\n"
     ]
    }
   ],
   "source": [
    "table1=histtableshort(items='40',design='v20',k=3,schemes=schemes1+schemes2+schemes3,end=12)\n",
    "table2=histtableshort(items='40',design='v20',k=10,schemes=schemes1+schemes2+schemes3,end=12)\n",
    "table=table1.append(table2)"
   ]
  },
  {
   "cell_type": "code",
   "execution_count": 9,
   "metadata": {
    "collapsed": false
   },
   "outputs": [
    {
     "data": {
      "text/html": [
       "<div>\n",
       "<table border=\"1\" class=\"dataframe\">\n",
       "  <thead>\n",
       "    <tr style=\"text-align: right;\">\n",
       "      <th></th>\n",
       "      <th>k</th>\n",
       "      <th>fixed_express</th>\n",
       "      <th>greedy</th>\n",
       "      <th>greedythres</th>\n",
       "      <th>mismin</th>\n",
       "      <th>newTSregthres</th>\n",
       "      <th>newTSthres</th>\n",
       "      <th>TS</th>\n",
       "      <th>TSe4</th>\n",
       "      <th>uncert</th>\n",
       "    </tr>\n",
       "  </thead>\n",
       "  <tbody>\n",
       "    <tr>\n",
       "      <th>0</th>\n",
       "      <td>3</td>\n",
       "      <td>0.896667</td>\n",
       "      <td>0.973333</td>\n",
       "      <td>0.970</td>\n",
       "      <td>0.940</td>\n",
       "      <td>0.970</td>\n",
       "      <td>0.956667</td>\n",
       "      <td>0.973333</td>\n",
       "      <td>0.973333</td>\n",
       "      <td>0.943333</td>\n",
       "    </tr>\n",
       "    <tr>\n",
       "      <th>0</th>\n",
       "      <td>10</td>\n",
       "      <td>0.869000</td>\n",
       "      <td>0.897000</td>\n",
       "      <td>0.912</td>\n",
       "      <td>0.907</td>\n",
       "      <td>0.913</td>\n",
       "      <td>0.906000</td>\n",
       "      <td>0.926000</td>\n",
       "      <td>0.905000</td>\n",
       "      <td>0.916000</td>\n",
       "    </tr>\n",
       "  </tbody>\n",
       "</table>\n",
       "</div>"
      ],
      "text/plain": [
       "    k  fixed_express    greedy  greedythres  mismin  newTSregthres  \\\n",
       "0   3       0.896667  0.973333        0.970   0.940          0.970   \n",
       "0  10       0.869000  0.897000        0.912   0.907          0.913   \n",
       "\n",
       "   newTSthres        TS      TSe4    uncert  \n",
       "0    0.956667  0.973333  0.973333  0.943333  \n",
       "0    0.906000  0.926000  0.905000  0.916000  "
      ]
     },
     "execution_count": 9,
     "metadata": {},
     "output_type": "execute_result"
    }
   ],
   "source": [
    "table"
   ]
  },
  {
   "cell_type": "code",
   "execution_count": 10,
   "metadata": {
    "collapsed": false
   },
   "outputs": [
    {
     "data": {
      "text/plain": [
       "'\\\\begin{tabular}{llrrrrrrrrr}\\n\\\\toprule\\n{} &   k &  fixed\\\\_express &  greedy &  greedythres &  mismin &  newTSregthres &  newTSthres &    TS &  TSe4 &  uncert \\\\\\\\\\n\\\\midrule\\n0 &   3 &          0.897 &   0.973 &        0.970 &   0.940 &          0.970 &       0.957 & 0.973 & 0.973 &   0.943 \\\\\\\\\\n0 &  10 &          0.869 &   0.897 &        0.912 &   0.907 &          0.913 &       0.906 & 0.926 & 0.905 &   0.916 \\\\\\\\\\n\\\\bottomrule\\n\\\\end{tabular}\\n'"
      ]
     },
     "execution_count": 10,
     "metadata": {},
     "output_type": "execute_result"
    }
   ],
   "source": [
    "table.to_latex(float_format=\"%.3f\")"
   ]
  },
  {
   "cell_type": "code",
   "execution_count": 13,
   "metadata": {
    "collapsed": false
   },
   "outputs": [
    {
     "name": "stdout",
     "output_type": "stream",
     "text": [
      "['bhist-fixed_express-40v20.csv', 'bhist-greedy-40v20.csv', 'bhist-greedythres-40v20k3.csv', 'bhist-mismin-40v20k3.csv', 'bhist-newTSregthres-40v20k3.csv', 'bhist-newTSthres-40v20k3.csv', 'bhist-TS-40v20.csv', 'bhist-TSe4-40v20.csv', 'bhist-uncert-40v20k3.csv']\n",
      "['bhist-fixed_express-40v20.csv', 'bhist-greedy-40v20.csv', 'bhist-greedythres-40v20k10.csv', 'bhist-mismin-40v20k10.csv', 'bhist-newTSregthres-40v20k10.csv', 'bhist-newTSthres-40v20k10.csv', 'bhist-TS-40v20.csv', 'bhist-TSe4-40v20.csv', 'bhist-uncert-40v20k10.csv']\n"
     ]
    }
   ],
   "source": [
    "table1=histtableshort(items='40',design='v20',k=3,schemes=schemes1+schemes2+schemes3,end=24)\n",
    "table2=histtableshort(items='40',design='v20',k=10,schemes=schemes1+schemes2+schemes3,end=24)\n",
    "\n",
    "table=table1.append(table2)"
   ]
  },
  {
   "cell_type": "code",
   "execution_count": 14,
   "metadata": {
    "collapsed": false
   },
   "outputs": [
    {
     "data": {
      "text/html": [
       "<div>\n",
       "<table border=\"1\" class=\"dataframe\">\n",
       "  <thead>\n",
       "    <tr style=\"text-align: right;\">\n",
       "      <th></th>\n",
       "      <th>k</th>\n",
       "      <th>fixed_express</th>\n",
       "      <th>greedy</th>\n",
       "      <th>greedythres</th>\n",
       "      <th>mismin</th>\n",
       "      <th>newTSregthres</th>\n",
       "      <th>newTSthres</th>\n",
       "      <th>TS</th>\n",
       "      <th>TSe4</th>\n",
       "      <th>uncert</th>\n",
       "    </tr>\n",
       "  </thead>\n",
       "  <tbody>\n",
       "    <tr>\n",
       "      <th>0</th>\n",
       "      <td>3</td>\n",
       "      <td>0.930</td>\n",
       "      <td>0.990</td>\n",
       "      <td>0.990</td>\n",
       "      <td>0.983333</td>\n",
       "      <td>0.983333</td>\n",
       "      <td>0.976667</td>\n",
       "      <td>0.990</td>\n",
       "      <td>0.986667</td>\n",
       "      <td>0.990</td>\n",
       "    </tr>\n",
       "    <tr>\n",
       "      <th>0</th>\n",
       "      <td>10</td>\n",
       "      <td>0.903</td>\n",
       "      <td>0.919</td>\n",
       "      <td>0.933</td>\n",
       "      <td>0.925000</td>\n",
       "      <td>0.925000</td>\n",
       "      <td>0.920000</td>\n",
       "      <td>0.936</td>\n",
       "      <td>0.936000</td>\n",
       "      <td>0.932</td>\n",
       "    </tr>\n",
       "  </tbody>\n",
       "</table>\n",
       "</div>"
      ],
      "text/plain": [
       "    k  fixed_express  greedy  greedythres    mismin  newTSregthres  \\\n",
       "0   3          0.930   0.990        0.990  0.983333       0.983333   \n",
       "0  10          0.903   0.919        0.933  0.925000       0.925000   \n",
       "\n",
       "   newTSthres     TS      TSe4  uncert  \n",
       "0    0.976667  0.990  0.986667   0.990  \n",
       "0    0.920000  0.936  0.936000   0.932  "
      ]
     },
     "execution_count": 14,
     "metadata": {},
     "output_type": "execute_result"
    }
   ],
   "source": [
    "table"
   ]
  },
  {
   "cell_type": "code",
   "execution_count": 24,
   "metadata": {
    "collapsed": false
   },
   "outputs": [
    {
     "name": "stdout",
     "output_type": "stream",
     "text": [
      "['bhist-fixed_express-120v20k3-mis.csv', 'bhist-fixed_express-120v20test-mis.csv', 'bhist-fixed_express-120v20test1-mis.csv', 'bhist-greedy-120v20-mis.csv', 'bhist-greedythres-120v20k3-mis.csv', 'bhist-mismin-120v20k3-mis.csv', 'bhist-newTSregthres-120v20k3-mis.csv', 'bhist-newTSthres-120v20k3-mis.csv', 'bhist-TS-120v20-mis.csv', 'bhist-TSe4-120v20-mis.csv', 'bhist-uncert-120v20k3-mis.csv']\n"
     ]
    }
   ],
   "source": [
    "table1=histtableshort(design='v20',k=3,schemes=schemes1+schemes2+schemes3,end=12,mis=1)\n"
   ]
  },
  {
   "cell_type": "code",
   "execution_count": 25,
   "metadata": {
    "collapsed": false
   },
   "outputs": [
    {
     "data": {
      "text/html": [
       "<div>\n",
       "<table border=\"1\" class=\"dataframe\">\n",
       "  <thead>\n",
       "    <tr style=\"text-align: right;\">\n",
       "      <th></th>\n",
       "      <th>k</th>\n",
       "      <th>fixed_express</th>\n",
       "      <th>fixed_express</th>\n",
       "      <th>fixed_express</th>\n",
       "      <th>greedy</th>\n",
       "      <th>greedythres</th>\n",
       "      <th>mismin</th>\n",
       "      <th>newTSregthres</th>\n",
       "      <th>newTSthres</th>\n",
       "      <th>TS</th>\n",
       "      <th>TSe4</th>\n",
       "      <th>uncert</th>\n",
       "    </tr>\n",
       "  </thead>\n",
       "  <tbody>\n",
       "    <tr>\n",
       "      <th>0</th>\n",
       "      <td>3</td>\n",
       "      <td>0.08</td>\n",
       "      <td>0.09</td>\n",
       "      <td>0.066667</td>\n",
       "      <td>0.296667</td>\n",
       "      <td>0.236667</td>\n",
       "      <td>0.253333</td>\n",
       "      <td>0.066667</td>\n",
       "      <td>0.356667</td>\n",
       "      <td>0.066667</td>\n",
       "      <td>0.346667</td>\n",
       "      <td>0.27</td>\n",
       "    </tr>\n",
       "  </tbody>\n",
       "</table>\n",
       "</div>"
      ],
      "text/plain": [
       "   k  fixed_express  fixed_express  fixed_express    greedy  greedythres  \\\n",
       "0  3           0.08           0.09       0.066667  0.296667     0.236667   \n",
       "\n",
       "     mismin  newTSregthres  newTSthres        TS      TSe4  uncert  \n",
       "0  0.253333       0.066667    0.356667  0.066667  0.346667    0.27  "
      ]
     },
     "execution_count": 25,
     "metadata": {},
     "output_type": "execute_result"
    }
   ],
   "source": [
    "table1"
   ]
  },
  {
   "cell_type": "code",
   "execution_count": 26,
   "metadata": {
    "collapsed": false
   },
   "outputs": [
    {
     "name": "stdout",
     "output_type": "stream",
     "text": [
      "['bhist-fixed_express-120v20k3-mis.csv', 'bhist-fixed_express-120v20test-mis.csv', 'bhist-fixed_express-120v20test1-mis.csv', 'bhist-greedy-120v20-mis.csv', 'bhist-greedythres-120v20k3-mis.csv', 'bhist-mismin-120v20k3-mis.csv', 'bhist-newTSregthres-120v20k3-mis.csv', 'bhist-newTSthres-120v20k3-mis.csv', 'bhist-TS-120v20-mis.csv', 'bhist-TSe4-120v20-mis.csv', 'bhist-uncert-120v20k3-mis.csv']\n"
     ]
    }
   ],
   "source": [
    "table2=histtableshort(design='v20',k=3,schemes=schemes1+schemes2+schemes3,end=24,mis=1)"
   ]
  },
  {
   "cell_type": "code",
   "execution_count": 27,
   "metadata": {
    "collapsed": false
   },
   "outputs": [
    {
     "data": {
      "text/html": [
       "<div>\n",
       "<table border=\"1\" class=\"dataframe\">\n",
       "  <thead>\n",
       "    <tr style=\"text-align: right;\">\n",
       "      <th></th>\n",
       "      <th>k</th>\n",
       "      <th>fixed_express</th>\n",
       "      <th>fixed_express</th>\n",
       "      <th>fixed_express</th>\n",
       "      <th>greedy</th>\n",
       "      <th>greedythres</th>\n",
       "      <th>mismin</th>\n",
       "      <th>newTSregthres</th>\n",
       "      <th>newTSthres</th>\n",
       "      <th>TS</th>\n",
       "      <th>TSe4</th>\n",
       "      <th>uncert</th>\n",
       "    </tr>\n",
       "  </thead>\n",
       "  <tbody>\n",
       "    <tr>\n",
       "      <th>0</th>\n",
       "      <td>3</td>\n",
       "      <td>0.23</td>\n",
       "      <td>0.196667</td>\n",
       "      <td>0.246667</td>\n",
       "      <td>0.57</td>\n",
       "      <td>0.49</td>\n",
       "      <td>0.54</td>\n",
       "      <td>0.1</td>\n",
       "      <td>0.64</td>\n",
       "      <td>0.126667</td>\n",
       "      <td>0.536667</td>\n",
       "      <td>0.503333</td>\n",
       "    </tr>\n",
       "  </tbody>\n",
       "</table>\n",
       "</div>"
      ],
      "text/plain": [
       "   k  fixed_express  fixed_express  fixed_express  greedy  greedythres  \\\n",
       "0  3           0.23       0.196667       0.246667    0.57         0.49   \n",
       "\n",
       "   mismin  newTSregthres  newTSthres        TS      TSe4    uncert  \n",
       "0    0.54            0.1        0.64  0.126667  0.536667  0.503333  "
      ]
     },
     "execution_count": 27,
     "metadata": {},
     "output_type": "execute_result"
    }
   ],
   "source": [
    "table2"
   ]
  },
  {
   "cell_type": "code",
   "execution_count": 10,
   "metadata": {
    "collapsed": false
   },
   "outputs": [
    {
     "name": "stdout",
     "output_type": "stream",
     "text": [
      "['bhist-fixed_express-86v20.csv', 'bhist-greedy-86v20.csv', 'bhist-mismin-86v20k3.csv', 'bhist-TS-86v20.csv', 'bhist-TSe4-86v20.csv', 'bhist-uncert-86v20k3.csv']\n",
      "['bhist-fixed_express-86v20.csv', 'bhist-greedy-86v20.csv', 'bhist-greedythres-86v20k10.csv', 'bhist-mismin-86v20k10.csv', 'bhist-newTSregthres-86v20k10.csv', 'bhist-newTSthres-86v20k10.csv', 'bhist-TS-86v20.csv', 'bhist-TSe4-86v20.csv', 'bhist-uncert-86v20k10.csv']\n",
      "['bhist-fixed_express-86v20.csv', 'bhist-greedy-86v20.csv', 'bhist-greedythres-86v20k20.csv', 'bhist-mismin-86v20k20.csv', 'bhist-newTSregthres-86v20k20.csv', 'bhist-newTSthres-86v20k20.csv', 'bhist-TS-86v20.csv', 'bhist-TSe4-86v20.csv', 'bhist-uncert-86v20k20.csv']\n",
      "['bhist-fixed_express-86v20.csv', 'bhist-greedy-86v20.csv', 'bhist-greedythres-86v20k40.csv', 'bhist-newTSthres-86v20k40.csv', 'bhist-TS-86v20.csv', 'bhist-TSe4-86v20.csv']\n"
     ]
    }
   ],
   "source": [
    "table1=histtableshort(items='86',design='v20',k=3,schemes=schemes1+schemes2+schemes3,end=12)\n",
    "table2=histtableshort(items='86',design='v20',k=10,schemes=schemes1+schemes2+schemes3,end=12)\n",
    "table3=histtableshort(items='86',design='v20',k=20,schemes=schemes1+schemes2+schemes3,end=12)\n",
    "table4=histtableshort(items='86',design='v20',k=40,schemes=schemes1+schemes2+schemes3,end=12)\n",
    "table=table1.append(table2).append(table3).append(table4)"
   ]
  },
  {
   "cell_type": "code",
   "execution_count": 11,
   "metadata": {
    "collapsed": false
   },
   "outputs": [
    {
     "data": {
      "text/html": [
       "<div>\n",
       "<table border=\"1\" class=\"dataframe\">\n",
       "  <thead>\n",
       "    <tr style=\"text-align: right;\">\n",
       "      <th></th>\n",
       "      <th>TS</th>\n",
       "      <th>TSe4</th>\n",
       "      <th>fixed_express</th>\n",
       "      <th>greedy</th>\n",
       "      <th>greedythres</th>\n",
       "      <th>k</th>\n",
       "      <th>mismin</th>\n",
       "      <th>newTSregthres</th>\n",
       "      <th>newTSthres</th>\n",
       "      <th>uncert</th>\n",
       "    </tr>\n",
       "  </thead>\n",
       "  <tbody>\n",
       "    <tr>\n",
       "      <th>0</th>\n",
       "      <td>0.916667</td>\n",
       "      <td>0.95000</td>\n",
       "      <td>0.796667</td>\n",
       "      <td>0.9400</td>\n",
       "      <td>NaN</td>\n",
       "      <td>3</td>\n",
       "      <td>0.923333</td>\n",
       "      <td>NaN</td>\n",
       "      <td>NaN</td>\n",
       "      <td>0.933333</td>\n",
       "    </tr>\n",
       "    <tr>\n",
       "      <th>0</th>\n",
       "      <td>0.894000</td>\n",
       "      <td>0.89300</td>\n",
       "      <td>0.834000</td>\n",
       "      <td>0.8800</td>\n",
       "      <td>0.8920</td>\n",
       "      <td>10</td>\n",
       "      <td>0.899000</td>\n",
       "      <td>0.8730</td>\n",
       "      <td>0.89700</td>\n",
       "      <td>0.899000</td>\n",
       "    </tr>\n",
       "    <tr>\n",
       "      <th>0</th>\n",
       "      <td>0.839500</td>\n",
       "      <td>0.86950</td>\n",
       "      <td>0.868500</td>\n",
       "      <td>0.8245</td>\n",
       "      <td>0.9205</td>\n",
       "      <td>20</td>\n",
       "      <td>0.932000</td>\n",
       "      <td>0.8975</td>\n",
       "      <td>0.91800</td>\n",
       "      <td>0.916000</td>\n",
       "    </tr>\n",
       "    <tr>\n",
       "      <th>0</th>\n",
       "      <td>0.779500</td>\n",
       "      <td>0.86125</td>\n",
       "      <td>0.896500</td>\n",
       "      <td>0.8520</td>\n",
       "      <td>0.9175</td>\n",
       "      <td>40</td>\n",
       "      <td>NaN</td>\n",
       "      <td>NaN</td>\n",
       "      <td>0.92225</td>\n",
       "      <td>NaN</td>\n",
       "    </tr>\n",
       "  </tbody>\n",
       "</table>\n",
       "</div>"
      ],
      "text/plain": [
       "         TS     TSe4  fixed_express  greedy  greedythres   k    mismin  \\\n",
       "0  0.916667  0.95000       0.796667  0.9400          NaN   3  0.923333   \n",
       "0  0.894000  0.89300       0.834000  0.8800       0.8920  10  0.899000   \n",
       "0  0.839500  0.86950       0.868500  0.8245       0.9205  20  0.932000   \n",
       "0  0.779500  0.86125       0.896500  0.8520       0.9175  40       NaN   \n",
       "\n",
       "   newTSregthres  newTSthres    uncert  \n",
       "0            NaN         NaN  0.933333  \n",
       "0         0.8730     0.89700  0.899000  \n",
       "0         0.8975     0.91800  0.916000  \n",
       "0            NaN     0.92225       NaN  "
      ]
     },
     "execution_count": 11,
     "metadata": {},
     "output_type": "execute_result"
    }
   ],
   "source": [
    "table"
   ]
  },
  {
   "cell_type": "code",
   "execution_count": 7,
   "metadata": {
    "collapsed": false
   },
   "outputs": [
    {
     "name": "stdout",
     "output_type": "stream",
     "text": [
      "['bhist-fixed_express-86v20.csv', 'bhist-greedy-86v20.csv', 'bhist-mismin-86v20k3.csv', 'bhist-TS-86v20.csv', 'bhist-TSe4-86v20.csv', 'bhist-uncert-86v20k3.csv']\n",
      "['bhist-fixed_express-86v20.csv', 'bhist-greedy-86v20.csv', 'bhist-greedythres-86v20k10.csv', 'bhist-mismin-86v20k10.csv', 'bhist-newTSregthres-86v20k10.csv', 'bhist-newTSthres-86v20k10.csv', 'bhist-TS-86v20.csv', 'bhist-TSe4-86v20.csv', 'bhist-uncert-86v20k10.csv']\n",
      "['bhist-fixed_express-86v20.csv', 'bhist-greedy-86v20.csv', 'bhist-greedythres-86v20k20.csv', 'bhist-mismin-86v20k20.csv', 'bhist-newTSregthres-86v20k20.csv', 'bhist-newTSthres-86v20k20.csv', 'bhist-TS-86v20.csv', 'bhist-TSe4-86v20.csv', 'bhist-uncert-86v20k20.csv']\n",
      "['bhist-fixed_express-86v20.csv', 'bhist-greedy-86v20.csv', 'bhist-greedythres-86v20k40.csv', 'bhist-mismin-86v20k40.csv', 'bhist-newTSregthres-86v20k40.csv', 'bhist-newTSthres-86v20k40.csv', 'bhist-TS-86v20.csv', 'bhist-TSe4-86v20.csv', 'bhist-uncert-86v20k40.csv']\n"
     ]
    }
   ],
   "source": [
    "table1=histtableshort(items='86',design='v20',k=3,schemes=schemes1+schemes2+schemes3,end=24)\n",
    "table2=histtableshort(items='86',design='v20',k=10,schemes=schemes1+schemes2+schemes3,end=24)\n",
    "table3=histtableshort(items='86',design='v20',k=20,schemes=schemes1+schemes2+schemes3,end=24)\n",
    "table4=histtableshort(items='86',design='v20',k=40,schemes=schemes1+schemes2+schemes3,end=24)\n",
    "table=table1.append(table2).append(table3).append(table4)"
   ]
  },
  {
   "cell_type": "code",
   "execution_count": 8,
   "metadata": {
    "collapsed": false
   },
   "outputs": [
    {
     "data": {
      "text/html": [
       "<div>\n",
       "<table border=\"1\" class=\"dataframe\">\n",
       "  <thead>\n",
       "    <tr style=\"text-align: right;\">\n",
       "      <th></th>\n",
       "      <th>TS</th>\n",
       "      <th>TSe4</th>\n",
       "      <th>fixed_express</th>\n",
       "      <th>greedy</th>\n",
       "      <th>greedythres</th>\n",
       "      <th>k</th>\n",
       "      <th>mismin</th>\n",
       "      <th>newTSregthres</th>\n",
       "      <th>newTSthres</th>\n",
       "      <th>uncert</th>\n",
       "    </tr>\n",
       "  </thead>\n",
       "  <tbody>\n",
       "    <tr>\n",
       "      <th>0</th>\n",
       "      <td>0.97000</td>\n",
       "      <td>0.99000</td>\n",
       "      <td>0.903333</td>\n",
       "      <td>0.996667</td>\n",
       "      <td>NaN</td>\n",
       "      <td>3</td>\n",
       "      <td>0.983333</td>\n",
       "      <td>NaN</td>\n",
       "      <td>NaN</td>\n",
       "      <td>0.97000</td>\n",
       "    </tr>\n",
       "    <tr>\n",
       "      <th>0</th>\n",
       "      <td>0.90700</td>\n",
       "      <td>0.91800</td>\n",
       "      <td>0.876000</td>\n",
       "      <td>0.904000</td>\n",
       "      <td>0.9190</td>\n",
       "      <td>10</td>\n",
       "      <td>0.925000</td>\n",
       "      <td>0.89000</td>\n",
       "      <td>0.9120</td>\n",
       "      <td>0.91700</td>\n",
       "    </tr>\n",
       "    <tr>\n",
       "      <th>0</th>\n",
       "      <td>0.86400</td>\n",
       "      <td>0.91450</td>\n",
       "      <td>0.907000</td>\n",
       "      <td>0.873500</td>\n",
       "      <td>0.9580</td>\n",
       "      <td>20</td>\n",
       "      <td>0.961000</td>\n",
       "      <td>0.92150</td>\n",
       "      <td>0.9580</td>\n",
       "      <td>0.95100</td>\n",
       "    </tr>\n",
       "    <tr>\n",
       "      <th>0</th>\n",
       "      <td>0.79125</td>\n",
       "      <td>0.88825</td>\n",
       "      <td>0.924000</td>\n",
       "      <td>0.882750</td>\n",
       "      <td>0.9485</td>\n",
       "      <td>40</td>\n",
       "      <td>0.955250</td>\n",
       "      <td>0.94375</td>\n",
       "      <td>0.9535</td>\n",
       "      <td>0.95425</td>\n",
       "    </tr>\n",
       "  </tbody>\n",
       "</table>\n",
       "</div>"
      ],
      "text/plain": [
       "        TS     TSe4  fixed_express    greedy  greedythres   k    mismin  \\\n",
       "0  0.97000  0.99000       0.903333  0.996667          NaN   3  0.983333   \n",
       "0  0.90700  0.91800       0.876000  0.904000       0.9190  10  0.925000   \n",
       "0  0.86400  0.91450       0.907000  0.873500       0.9580  20  0.961000   \n",
       "0  0.79125  0.88825       0.924000  0.882750       0.9485  40  0.955250   \n",
       "\n",
       "   newTSregthres  newTSthres   uncert  \n",
       "0            NaN         NaN  0.97000  \n",
       "0        0.89000      0.9120  0.91700  \n",
       "0        0.92150      0.9580  0.95100  \n",
       "0        0.94375      0.9535  0.95425  "
      ]
     },
     "execution_count": 8,
     "metadata": {},
     "output_type": "execute_result"
    }
   ],
   "source": [
    "table"
   ]
  },
  {
   "cell_type": "code",
   "execution_count": 9,
   "metadata": {
    "collapsed": false
   },
   "outputs": [
    {
     "name": "stdout",
     "output_type": "stream",
     "text": [
      "['bhist-fixed_express-86v20.csv', 'bhist-greedy-86v20.csv', 'bhist-mismin-86v20k3.csv', 'bhist-TS-86v20.csv', 'bhist-TSe4-86v20.csv', 'bhist-uncert-86v20k3.csv']\n",
      "['bhist-fixed_express-86v20.csv', 'bhist-greedy-86v20.csv', 'bhist-greedythres-86v20k10.csv', 'bhist-mismin-86v20k10.csv', 'bhist-newTSregthres-86v20k10.csv', 'bhist-newTSthres-86v20k10.csv', 'bhist-TS-86v20.csv', 'bhist-TSe4-86v20.csv', 'bhist-uncert-86v20k10.csv']\n",
      "['bhist-fixed_express-86v20.csv', 'bhist-greedy-86v20.csv', 'bhist-greedythres-86v20k20.csv', 'bhist-mismin-86v20k20.csv', 'bhist-newTSregthres-86v20k20.csv', 'bhist-newTSthres-86v20k20.csv', 'bhist-TS-86v20.csv', 'bhist-TSe4-86v20.csv', 'bhist-uncert-86v20k20.csv']\n",
      "['bhist-fixed_express-86v20.csv', 'bhist-greedy-86v20.csv', 'bhist-greedythres-86v20k40.csv', 'bhist-mismin-86v20k40.csv', 'bhist-newTSregthres-86v20k40.csv', 'bhist-newTSthres-86v20k40.csv', 'bhist-TS-86v20.csv', 'bhist-TSe4-86v20.csv', 'bhist-uncert-86v20k40.csv']\n"
     ]
    }
   ],
   "source": [
    "table1=histtableshort(items='86',design='v20',k=3,schemes=schemes1+schemes2+schemes3,end=49)\n",
    "table2=histtableshort(items='86',design='v20',k=10,schemes=schemes1+schemes2+schemes3,end=49)\n",
    "table3=histtableshort(items='86',design='v20',k=20,schemes=schemes1+schemes2+schemes3,end=49)\n",
    "table4=histtableshort(items='86',design='v20',k=40,schemes=schemes1+schemes2+schemes3,end=49)\n",
    "table=table1.append(table2).append(table3).append(table4)"
   ]
  },
  {
   "cell_type": "code",
   "execution_count": 10,
   "metadata": {
    "collapsed": false
   },
   "outputs": [
    {
     "data": {
      "text/html": [
       "<div>\n",
       "<table border=\"1\" class=\"dataframe\">\n",
       "  <thead>\n",
       "    <tr style=\"text-align: right;\">\n",
       "      <th></th>\n",
       "      <th>TS</th>\n",
       "      <th>TSe4</th>\n",
       "      <th>fixed_express</th>\n",
       "      <th>greedy</th>\n",
       "      <th>greedythres</th>\n",
       "      <th>k</th>\n",
       "      <th>mismin</th>\n",
       "      <th>newTSregthres</th>\n",
       "      <th>newTSthres</th>\n",
       "      <th>uncert</th>\n",
       "    </tr>\n",
       "  </thead>\n",
       "  <tbody>\n",
       "    <tr>\n",
       "      <th>0</th>\n",
       "      <td>0.9800</td>\n",
       "      <td>1.000</td>\n",
       "      <td>0.943333</td>\n",
       "      <td>0.996667</td>\n",
       "      <td>NaN</td>\n",
       "      <td>3</td>\n",
       "      <td>0.996667</td>\n",
       "      <td>NaN</td>\n",
       "      <td>NaN</td>\n",
       "      <td>0.99000</td>\n",
       "    </tr>\n",
       "    <tr>\n",
       "      <th>0</th>\n",
       "      <td>0.9170</td>\n",
       "      <td>0.932</td>\n",
       "      <td>0.910000</td>\n",
       "      <td>0.923000</td>\n",
       "      <td>0.93400</td>\n",
       "      <td>10</td>\n",
       "      <td>0.927000</td>\n",
       "      <td>0.9040</td>\n",
       "      <td>0.931</td>\n",
       "      <td>0.93500</td>\n",
       "    </tr>\n",
       "    <tr>\n",
       "      <th>0</th>\n",
       "      <td>0.8870</td>\n",
       "      <td>0.942</td>\n",
       "      <td>0.943000</td>\n",
       "      <td>0.904000</td>\n",
       "      <td>0.98300</td>\n",
       "      <td>20</td>\n",
       "      <td>0.981000</td>\n",
       "      <td>0.9440</td>\n",
       "      <td>0.980</td>\n",
       "      <td>0.97950</td>\n",
       "    </tr>\n",
       "    <tr>\n",
       "      <th>0</th>\n",
       "      <td>0.8075</td>\n",
       "      <td>0.915</td>\n",
       "      <td>0.945250</td>\n",
       "      <td>0.917500</td>\n",
       "      <td>0.96925</td>\n",
       "      <td>40</td>\n",
       "      <td>0.973000</td>\n",
       "      <td>0.9605</td>\n",
       "      <td>0.972</td>\n",
       "      <td>0.97225</td>\n",
       "    </tr>\n",
       "  </tbody>\n",
       "</table>\n",
       "</div>"
      ],
      "text/plain": [
       "       TS   TSe4  fixed_express    greedy  greedythres   k    mismin  \\\n",
       "0  0.9800  1.000       0.943333  0.996667          NaN   3  0.996667   \n",
       "0  0.9170  0.932       0.910000  0.923000      0.93400  10  0.927000   \n",
       "0  0.8870  0.942       0.943000  0.904000      0.98300  20  0.981000   \n",
       "0  0.8075  0.915       0.945250  0.917500      0.96925  40  0.973000   \n",
       "\n",
       "   newTSregthres  newTSthres   uncert  \n",
       "0            NaN         NaN  0.99000  \n",
       "0         0.9040       0.931  0.93500  \n",
       "0         0.9440       0.980  0.97950  \n",
       "0         0.9605       0.972  0.97225  "
      ]
     },
     "execution_count": 10,
     "metadata": {},
     "output_type": "execute_result"
    }
   ],
   "source": [
    "table"
   ]
  },
  {
   "cell_type": "code",
   "execution_count": null,
   "metadata": {
    "collapsed": true
   },
   "outputs": [],
   "source": []
  }
 ],
 "metadata": {
  "kernelspec": {
   "display_name": "Python 3",
   "language": "python",
   "name": "python3"
  },
  "language_info": {
   "codemirror_mode": {
    "name": "ipython",
    "version": 3
   },
   "file_extension": ".py",
   "mimetype": "text/x-python",
   "name": "python",
   "nbconvert_exporter": "python",
   "pygments_lexer": "ipython3",
   "version": "3.4.4"
  }
 },
 "nbformat": 4,
 "nbformat_minor": 0
}
