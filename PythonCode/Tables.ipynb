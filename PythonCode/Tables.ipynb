{
 "cells": [
  {
   "cell_type": "code",
   "execution_count": 14,
   "metadata": {
    "collapsed": true
   },
   "outputs": [],
   "source": [
    "import pandas as pd\n",
    "import numpy as np\n",
    "import os\n"
   ]
  },
  {
   "cell_type": "code",
   "execution_count": 15,
   "metadata": {
    "collapsed": false
   },
   "outputs": [],
   "source": [
    "def namefinder(nlist,which):\n",
    "    for name in nlist:\n",
    "        if which in name:\n",
    "            return name"
   ]
  },
  {
   "cell_type": "code",
   "execution_count": 16,
   "metadata": {
    "collapsed": true
   },
   "outputs": [],
   "source": [
    "def getfiles(start=\"bhist\",items='120',mis=0):\n",
    "    listoffiles=[]\n",
    "    where='../DataDump'\n",
    "    for file in os.listdir(where):\n",
    "        if file.startswith(start):\n",
    "            if items in file:\n",
    "                if mis==0:\n",
    "                    if '50' not in file:\n",
    "                        listoffiles.append(file)\n",
    "                elif mis==1:\n",
    "                    if '50' in file:\n",
    "                        listoffiles.append(file)\n",
    "                else:\n",
    "                    listoffiles.append(file)\n",
    "    return where,listoffiles"
   ]
  },
  {
   "cell_type": "code",
   "execution_count": 17,
   "metadata": {
    "collapsed": true
   },
   "outputs": [],
   "source": [
    "def getthemean(filename,colver='iteration',whichcol=['hr_top10']):\n",
    "    data=pd.read_csv(filename)\n",
    "    num=int(np.max(data[colver]))\n",
    "    meandata=data[data[colver]==1][whichcol].get_values()\n",
    "    for i in range(2,num+1):\n",
    "        meandata+=data[data[colver]==i][whichcol].get_values()\n",
    "    meandata/=num\n",
    "    return meandata"
   ]
  },
  {
   "cell_type": "code",
   "execution_count": 18,
   "metadata": {
    "collapsed": true
   },
   "outputs": [],
   "source": [
    "def createlabel(f):\n",
    "    name=f.split()\n",
    "    label=[]\n",
    "    typeoflab=name[1][1:]\n",
    "    label.append(typeoflab)\n",
    "    if typeoflab=='TS' or typeoflab=='greedy':\n",
    "        label.append(' e=')\n",
    "        label.append(str(int(name[14])/int(name[6]))[:5])\n",
    "        label.append(' d=')\n",
    "        label.append(name[15][3:])\n",
    "    if typeoflab=='learnthenearn':\n",
    "        label.append(' a=')\n",
    "        label.append(name[-2])\n",
    "        if name[-5]!='0':\n",
    "            label.append(' misinf')\n",
    "    elif name[-2]!='0':\n",
    "        label.append(' misinf')\n",
    "    return ''.join(label)"
   ]
  },
  {
   "cell_type": "code",
   "execution_count": 19,
   "metadata": {
    "collapsed": false
   },
   "outputs": [],
   "source": [
    "def firstable():\n",
    "    items='120'\n",
    "    mis=-1\n",
    "    where,listoffiles=getfiles(start=\"hrhist\",items=items,mis=mis)\n",
    "    whichcol=['hr_top3','hr_top10']\n",
    "    data={}\n",
    "    for i,f in enumerate(listoffiles):\n",
    "        meandata=getthemean(where+'/'+f,colver='iteration',whichcol=whichcol)*100\n",
    "        label=createlabel(f)\n",
    "        data[label]=[meandata[12,0],meandata[50,0],meandata[12,1],meandata[50,1]]\n",
    "    index=['top3_resp260','top3_resp1020','top10_resp260','top10_resp1020']\n",
    "    table= pd.DataFrame(data, index=index)\n",
    "    table.to_csv('tables/Explore_params.csv', float_format='%.2f')"
   ]
  },
  {
   "cell_type": "code",
   "execution_count": null,
   "metadata": {
    "collapsed": false
   },
   "outputs": [],
   "source": []
  },
  {
   "cell_type": "code",
   "execution_count": 58,
   "metadata": {
    "collapsed": true
   },
   "outputs": [],
   "source": [
    "def efficiencyGain(table,which):\n",
    "    data={}\n",
    "    mask=table[which]>90.\n",
    "    if mask.any():\n",
    "        base=int((table[which][mask]).index[0])\n",
    "    else:\n",
    "        base=1020\n",
    "    for name in table.columns:\n",
    "        mask=table[name]>table[which]['1020']\n",
    "        if mask.any():\n",
    "            loc=(table[name][mask]).index[0]\n",
    "            data[name]=[float(loc),float(1020/int(loc))]\n",
    "        else:\n",
    "            data[name]=[float(0),float(0)]\n",
    "        mask=table[name]>90.\n",
    "        if mask.any():\n",
    "            loc=(table[name][mask]).index[0]\n",
    "            data[name]+=[float(loc),float(base/int(loc))]\n",
    "        else:\n",
    "            data[name]+=[float(0),float(0)]\n",
    "    index=['Reach at (end)','Efficiency Gain (end)','Reach at (.9)','Efficiency Gain (.9)']\n",
    "    table= pd.DataFrame(data, index=index)\n",
    "    return table"
   ]
  },
  {
   "cell_type": "code",
   "execution_count": 62,
   "metadata": {
    "collapsed": false
   },
   "outputs": [],
   "source": [
    "def createtables(items='120',mis=0,whichcol=['hr_top3']):\n",
    "    index=[str(x) for x in range(20,1040,20)]\n",
    "    where,listoffiles=getfiles(start=\"hrhist\",items=items,mis=mis)\n",
    "\n",
    "    data={}\n",
    "    for i,f in enumerate(listoffiles):\n",
    "        meandata=getthemean(where+'/'+f,colver='iteration',whichcol=whichcol)*100\n",
    "        label=createlabel(f)\n",
    "        data[label]=meandata[:,0]\n",
    "    table=pd.DataFrame(data, index=index)\n",
    "    newtable=efficiencyGain(table,namefinder(table.columns,'fixed'))\n",
    "    thefinaltable=table.iloc[::5].append(newtable)\n",
    "    lab=items+'itemstop'+whichcol[0][6:]\n",
    "    if mis==1:\n",
    "        lab+='misinf'\n",
    "    elif mis==-1:\n",
    "        lab+='all'\n",
    "    thefinaltable.to_csv('tables/Method_Summary'+lab+'.csv', float_format='%.2f')"
   ]
  },
  {
   "cell_type": "code",
   "execution_count": 63,
   "metadata": {
    "collapsed": false
   },
   "outputs": [],
   "source": [
    "def secondtable():\n",
    "    for items in ['40','120','300']:\n",
    "        for mis in [0,1]:\n",
    "            for col in ['hr_top3','hr_top10']:\n",
    "                createtables(items=items,mis=mis,whichcol=[col])"
   ]
  },
  {
   "cell_type": "code",
   "execution_count": 64,
   "metadata": {
    "collapsed": false
   },
   "outputs": [],
   "source": [
    "firstable()\n",
    "secondtable()"
   ]
  },
  {
   "cell_type": "code",
   "execution_count": null,
   "metadata": {
    "collapsed": true
   },
   "outputs": [],
   "source": []
  },
  {
   "cell_type": "code",
   "execution_count": null,
   "metadata": {
    "collapsed": true
   },
   "outputs": [],
   "source": []
  }
 ],
 "metadata": {
  "kernelspec": {
   "display_name": "Python 3",
   "language": "python",
   "name": "python3"
  },
  "language_info": {
   "codemirror_mode": {
    "name": "ipython",
    "version": 3
   },
   "file_extension": ".py",
   "mimetype": "text/x-python",
   "name": "python",
   "nbconvert_exporter": "python",
   "pygments_lexer": "ipython3",
   "version": "3.4.4"
  }
 },
 "nbformat": 4,
 "nbformat_minor": 0
}
